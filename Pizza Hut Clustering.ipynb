{
 "cells": [
  {
   "cell_type": "markdown",
   "id": "dc54e90c",
   "metadata": {},
   "source": [
    "# Pizza Hut Clustering (:"
   ]
  },
  {
   "cell_type": "markdown",
   "id": "09909eed",
   "metadata": {},
   "source": [
    "Data obtained from: https://www.kaggle.com/datasets/abhi10699/pizza-hut-reviews"
   ]
  },
  {
   "cell_type": "code",
   "execution_count": 1,
   "id": "fc5aca4a",
   "metadata": {},
   "outputs": [],
   "source": [
    "import pandas as pd\n",
    "import seaborn as sns\n",
    "import matplotlib.pyplot as plt\n",
    "import numpy as np"
   ]
  },
  {
   "cell_type": "markdown",
   "id": "cdd59d14",
   "metadata": {},
   "source": [
    "## Load our data"
   ]
  },
  {
   "cell_type": "code",
   "execution_count": 3,
   "id": "13ae9059",
   "metadata": {},
   "outputs": [],
   "source": [
    "# Change the path to the csv file if needed! \n",
    "df = pd.read_csv('pizza-hut-reviews.csv')"
   ]
  },
  {
   "cell_type": "code",
   "execution_count": 154,
   "id": "85a7e390",
   "metadata": {},
   "outputs": [
    {
     "data": {
      "text/html": [
       "<div>\n",
       "<style scoped>\n",
       "    .dataframe tbody tr th:only-of-type {\n",
       "        vertical-align: middle;\n",
       "    }\n",
       "\n",
       "    .dataframe tbody tr th {\n",
       "        vertical-align: top;\n",
       "    }\n",
       "\n",
       "    .dataframe thead th {\n",
       "        text-align: right;\n",
       "    }\n",
       "</style>\n",
       "<table border=\"1\" class=\"dataframe\">\n",
       "  <thead>\n",
       "    <tr style=\"text-align: right;\">\n",
       "      <th></th>\n",
       "      <th>id</th>\n",
       "      <th>review</th>\n",
       "      <th>created_at</th>\n",
       "      <th>ratings</th>\n",
       "      <th>upvotes</th>\n",
       "    </tr>\n",
       "  </thead>\n",
       "  <tbody>\n",
       "    <tr>\n",
       "      <th>0</th>\n",
       "      <td>1</td>\n",
       "      <td>The staff Alexa was very kind and helpful. I h...</td>\n",
       "      <td>May 28, 2022</td>\n",
       "      <td>1</td>\n",
       "      <td>0</td>\n",
       "    </tr>\n",
       "    <tr>\n",
       "      <th>1</th>\n",
       "      <td>2</td>\n",
       "      <td>I ordered 4 pizzas One veggie lover, one chees...</td>\n",
       "      <td>May 18, 2022</td>\n",
       "      <td>1</td>\n",
       "      <td>0</td>\n",
       "    </tr>\n",
       "    <tr>\n",
       "      <th>2</th>\n",
       "      <td>3</td>\n",
       "      <td>My experience was bad. Had a long day, want to...</td>\n",
       "      <td>May 15, 2022</td>\n",
       "      <td>1</td>\n",
       "      <td>0</td>\n",
       "    </tr>\n",
       "    <tr>\n",
       "      <th>3</th>\n",
       "      <td>4</td>\n",
       "      <td>I do not suggest you order from Pizza Hut, I l...</td>\n",
       "      <td>May 14, 2022</td>\n",
       "      <td>1</td>\n",
       "      <td>2</td>\n",
       "    </tr>\n",
       "    <tr>\n",
       "      <th>4</th>\n",
       "      <td>5</td>\n",
       "      <td>Pizza Hut is a scam! I never got my pizza deli...</td>\n",
       "      <td>May 12, 2022</td>\n",
       "      <td>1</td>\n",
       "      <td>0</td>\n",
       "    </tr>\n",
       "  </tbody>\n",
       "</table>\n",
       "</div>"
      ],
      "text/plain": [
       "   id                                             review    created_at  \\\n",
       "0   1  The staff Alexa was very kind and helpful. I h...  May 28, 2022   \n",
       "1   2  I ordered 4 pizzas One veggie lover, one chees...  May 18, 2022   \n",
       "2   3  My experience was bad. Had a long day, want to...  May 15, 2022   \n",
       "3   4  I do not suggest you order from Pizza Hut, I l...  May 14, 2022   \n",
       "4   5  Pizza Hut is a scam! I never got my pizza deli...  May 12, 2022   \n",
       "\n",
       "   ratings  upvotes  \n",
       "0        1        0  \n",
       "1        1        0  \n",
       "2        1        0  \n",
       "3        1        2  \n",
       "4        1        0  "
      ]
     },
     "execution_count": 154,
     "metadata": {},
     "output_type": "execute_result"
    }
   ],
   "source": [
    "df.head()"
   ]
  },
  {
   "cell_type": "markdown",
   "id": "ff469e42",
   "metadata": {},
   "source": [
    "We have `id`, `review`, `created_at`, `ratings`, and `upvotes`."
   ]
  },
  {
   "cell_type": "markdown",
   "id": "4591c8af",
   "metadata": {},
   "source": [
    "## Data understanding"
   ]
  },
  {
   "cell_type": "markdown",
   "id": "bc4a7640",
   "metadata": {},
   "source": [
    "The `id` we will ignore (since it is just the review id and isn't informative). We see `ratings` go from 1 to 5 and `upvotes` range from 0 to 30."
   ]
  },
  {
   "cell_type": "code",
   "execution_count": 4,
   "id": "fe2f134f",
   "metadata": {},
   "outputs": [
    {
     "data": {
      "application/vnd.microsoft.datawrangler.viewer.v0+json": {
       "columns": [
        {
         "name": "index",
         "rawType": "object",
         "type": "string"
        },
        {
         "name": "id",
         "rawType": "float64",
         "type": "float"
        },
        {
         "name": "ratings",
         "rawType": "float64",
         "type": "float"
        },
        {
         "name": "upvotes",
         "rawType": "float64",
         "type": "float"
        }
       ],
       "conversionMethod": "pd.DataFrame",
       "ref": "6689b8c1-f02d-4742-a2ba-b5993f923937",
       "rows": [
        [
         "count",
         "605.0",
         "605.0",
         "605.0"
        ],
        [
         "mean",
         "303.0",
         "1.515702479338843",
         "4.758677685950413"
        ],
        [
         "std",
         "174.79273440277774",
         "1.174438591008553",
         "4.024504194330038"
        ],
        [
         "min",
         "1.0",
         "1.0",
         "0.0"
        ],
        [
         "25%",
         "152.0",
         "1.0",
         "2.0"
        ],
        [
         "50%",
         "303.0",
         "1.0",
         "4.0"
        ],
        [
         "75%",
         "454.0",
         "1.0",
         "7.0"
        ],
        [
         "max",
         "605.0",
         "5.0",
         "30.0"
        ]
       ],
       "shape": {
        "columns": 3,
        "rows": 8
       }
      },
      "text/html": [
       "<div>\n",
       "<style scoped>\n",
       "    .dataframe tbody tr th:only-of-type {\n",
       "        vertical-align: middle;\n",
       "    }\n",
       "\n",
       "    .dataframe tbody tr th {\n",
       "        vertical-align: top;\n",
       "    }\n",
       "\n",
       "    .dataframe thead th {\n",
       "        text-align: right;\n",
       "    }\n",
       "</style>\n",
       "<table border=\"1\" class=\"dataframe\">\n",
       "  <thead>\n",
       "    <tr style=\"text-align: right;\">\n",
       "      <th></th>\n",
       "      <th>id</th>\n",
       "      <th>ratings</th>\n",
       "      <th>upvotes</th>\n",
       "    </tr>\n",
       "  </thead>\n",
       "  <tbody>\n",
       "    <tr>\n",
       "      <th>count</th>\n",
       "      <td>605.000000</td>\n",
       "      <td>605.000000</td>\n",
       "      <td>605.000000</td>\n",
       "    </tr>\n",
       "    <tr>\n",
       "      <th>mean</th>\n",
       "      <td>303.000000</td>\n",
       "      <td>1.515702</td>\n",
       "      <td>4.758678</td>\n",
       "    </tr>\n",
       "    <tr>\n",
       "      <th>std</th>\n",
       "      <td>174.792734</td>\n",
       "      <td>1.174439</td>\n",
       "      <td>4.024504</td>\n",
       "    </tr>\n",
       "    <tr>\n",
       "      <th>min</th>\n",
       "      <td>1.000000</td>\n",
       "      <td>1.000000</td>\n",
       "      <td>0.000000</td>\n",
       "    </tr>\n",
       "    <tr>\n",
       "      <th>25%</th>\n",
       "      <td>152.000000</td>\n",
       "      <td>1.000000</td>\n",
       "      <td>2.000000</td>\n",
       "    </tr>\n",
       "    <tr>\n",
       "      <th>50%</th>\n",
       "      <td>303.000000</td>\n",
       "      <td>1.000000</td>\n",
       "      <td>4.000000</td>\n",
       "    </tr>\n",
       "    <tr>\n",
       "      <th>75%</th>\n",
       "      <td>454.000000</td>\n",
       "      <td>1.000000</td>\n",
       "      <td>7.000000</td>\n",
       "    </tr>\n",
       "    <tr>\n",
       "      <th>max</th>\n",
       "      <td>605.000000</td>\n",
       "      <td>5.000000</td>\n",
       "      <td>30.000000</td>\n",
       "    </tr>\n",
       "  </tbody>\n",
       "</table>\n",
       "</div>"
      ],
      "text/plain": [
       "               id     ratings     upvotes\n",
       "count  605.000000  605.000000  605.000000\n",
       "mean   303.000000    1.515702    4.758678\n",
       "std    174.792734    1.174439    4.024504\n",
       "min      1.000000    1.000000    0.000000\n",
       "25%    152.000000    1.000000    2.000000\n",
       "50%    303.000000    1.000000    4.000000\n",
       "75%    454.000000    1.000000    7.000000\n",
       "max    605.000000    5.000000   30.000000"
      ]
     },
     "execution_count": 4,
     "metadata": {},
     "output_type": "execute_result"
    }
   ],
   "source": [
    "df.describe()"
   ]
  },
  {
   "cell_type": "markdown",
   "id": "9147a587",
   "metadata": {},
   "source": [
    "Looks like most of the ratings are bad...  yikes."
   ]
  },
  {
   "cell_type": "code",
   "execution_count": 5,
   "id": "e892cdb6",
   "metadata": {},
   "outputs": [
    {
     "data": {
      "text/plain": [
       "'Pizza Hut in Aurora IL is garbage. Placed order online for carry out. Picked up pizza to get home home and find a burned dried out pizza. Called the restaurant and spoke to the manager who suggested I come back and he would replace it. I’m sorry, but I believe if you do it right the first time, you don’t have to have customers coming back wasting time, gas and effort for you to get it right a second time!!!! What a lousy busy practice model. I should have read the “writing on the wall” when I got there and the parking lot was empty!!!'"
      ]
     },
     "execution_count": 5,
     "metadata": {},
     "output_type": "execute_result"
    }
   ],
   "source": [
    "df.iloc[200]['review']"
   ]
  },
  {
   "cell_type": "code",
   "execution_count": 6,
   "id": "859ae9b8",
   "metadata": {},
   "outputs": [
    {
     "data": {
      "text/plain": [
       "<Axes: xlabel='ratings', ylabel='count'>"
      ]
     },
     "execution_count": 6,
     "metadata": {},
     "output_type": "execute_result"
    },
    {
     "data": {
      "image/png": "[encoded data removed]",
      "text/plain": [
       "<Figure size 640x480 with 1 Axes>"
      ]
     },
     "metadata": {},
     "output_type": "display_data"
    }
   ],
   "source": [
    "sns.countplot(data=df, x='ratings')"
   ]
  },
  {
   "cell_type": "code",
   "execution_count": 7,
   "id": "722e3964",
   "metadata": {},
   "outputs": [
    {
     "data": {
      "text/plain": [
       "<Axes: xlabel='upvotes', ylabel='count'>"
      ]
     },
     "execution_count": 7,
     "metadata": {},
     "output_type": "execute_result"
    },
    {
     "data": {
      "image/png": "[encoded data removed]",
      "text/plain": [
       "<Figure size 640x480 with 1 Axes>"
      ]
     },
     "metadata": {},
     "output_type": "display_data"
    }
   ],
   "source": [
    "sns.countplot(data=df, x='upvotes')"
   ]
  },
  {
   "cell_type": "markdown",
   "id": "b4c75735",
   "metadata": {},
   "source": [
    "Looking into how many reviews there are per year:"
   ]
  },
  {
   "cell_type": "code",
   "execution_count": 8,
   "id": "bf23b45b",
   "metadata": {},
   "outputs": [],
   "source": [
    "df['date'] = pd.to_datetime(df['created_at'], format = 'mixed')"
   ]
  },
  {
   "cell_type": "code",
   "execution_count": 9,
   "id": "9b69c489",
   "metadata": {},
   "outputs": [],
   "source": [
    "df[\"month\"] = df[\"date\"].apply(lambda x: x.month_name())\n",
    "df[\"day_name\"] = df[\"date\"].apply(lambda x: x.day_name())\n",
    "df[\"hour\"] = df[\"date\"].apply(lambda x: x.hour)\n",
    "df[\"year\"] = df[\"date\"].apply(lambda x: x.year)"
   ]
  },
  {
   "cell_type": "code",
   "execution_count": 10,
   "id": "abab7186",
   "metadata": {},
   "outputs": [
    {
     "data": {
      "text/plain": [
       "<Axes: xlabel='year', ylabel='count'>"
      ]
     },
     "execution_count": 10,
     "metadata": {},
     "output_type": "execute_result"
    },
    {
     "data": {
      "image/png": "[encoded data removed]",
      "text/plain": [
       "<Figure size 640x480 with 1 Axes>"
      ]
     },
     "metadata": {},
     "output_type": "display_data"
    }
   ],
   "source": [
    "sns.countplot(data=df, x='year')"
   ]
  },
  {
   "cell_type": "markdown",
   "id": "7530441b",
   "metadata": {},
   "source": [
    "The days that reviews are created:"
   ]
  },
  {
   "cell_type": "code",
   "execution_count": 11,
   "id": "72c4803f",
   "metadata": {},
   "outputs": [
    {
     "data": {
      "text/plain": [
       "<Axes: xlabel='day_name', ylabel='count'>"
      ]
     },
     "execution_count": 11,
     "metadata": {},
     "output_type": "execute_result"
    },
    {
     "data": {
      "image/png": "[encoded data removed]",
      "text/plain": [
       "<Figure size 640x480 with 1 Axes>"
      ]
     },
     "metadata": {},
     "output_type": "display_data"
    }
   ],
   "source": [
    "order = [\"Sunday\", \"Monday\", \"Tuesday\", \"Wednesday\", \"Thursday\", \"Friday\", \"Saturday\"]\n",
    "sns.countplot(data=df, x='day_name', order=order)"
   ]
  },
  {
   "cell_type": "markdown",
   "id": "9dc42b29",
   "metadata": {},
   "source": [
    "If we are curious about the ratings in 2022 only..."
   ]
  },
  {
   "cell_type": "code",
   "execution_count": 12,
   "id": "485553e5",
   "metadata": {},
   "outputs": [
    {
     "data": {
      "text/plain": [
       "<Axes: xlabel='ratings', ylabel='count'>"
      ]
     },
     "execution_count": 12,
     "metadata": {},
     "output_type": "execute_result"
    },
    {
     "data": {
      "image/png": "[encoded data removed]",
      "text/plain": [
       "<Figure size 640x480 with 1 Axes>"
      ]
     },
     "metadata": {},
     "output_type": "display_data"
    }
   ],
   "source": [
    "sns.countplot(data=df[df['year'] == 2022], x='ratings')"
   ]
  },
  {
   "cell_type": "markdown",
   "id": "b89d6f0f",
   "metadata": {},
   "source": [
    "## Feature engineering"
   ]
  },
  {
   "cell_type": "markdown",
   "id": "c4c112bc",
   "metadata": {},
   "source": [
    "Since we have just raw text as the review, we can't do much with it quite yet.  \n",
    "Let's explore some ways to get information out of the text."
   ]
  },
  {
   "cell_type": "markdown",
   "id": "104e2bc1",
   "metadata": {},
   "source": [
    "But first, let's only keep the columns we plan to work with: `review` and `ratings`"
   ]
  },
  {
   "cell_type": "code",
   "execution_count": 13,
   "id": "7f40d02d",
   "metadata": {},
   "outputs": [
    {
     "data": {
      "text/plain": [
       "Index(['id', 'review', 'created_at', 'ratings', 'upvotes', 'date', 'month',\n",
       "       'day_name', 'hour', 'year'],\n",
       "      dtype='object')"
      ]
     },
     "execution_count": 13,
     "metadata": {},
     "output_type": "execute_result"
    }
   ],
   "source": [
    "df.columns"
   ]
  },
  {
   "cell_type": "code",
   "execution_count": 14,
   "id": "d80a672a",
   "metadata": {},
   "outputs": [],
   "source": [
    "df = df[['review','ratings']]"
   ]
  },
  {
   "cell_type": "code",
   "execution_count": 15,
   "id": "576b1ded",
   "metadata": {
    "scrolled": false
   },
   "outputs": [
    {
     "data": {
      "application/vnd.microsoft.datawrangler.viewer.v0+json": {
       "columns": [
        {
         "name": "index",
         "rawType": "int64",
         "type": "integer"
        },
        {
         "name": "review",
         "rawType": "object",
         "type": "string"
        },
        {
         "name": "ratings",
         "rawType": "int64",
         "type": "integer"
        }
       ],
       "conversionMethod": "pd.DataFrame",
       "ref": "7427e66b-084e-4b40-8fd8-8b53d1d877f6",
       "rows": [
        [
         "0",
         "The staff Alexa was very kind and helpful. I had donated 20 pizzas to my children's graduation party/dance. I went in person to make sure I placed such a large order correctly and was going to be delivered to the correct place at the proper time. I asked about getting my reward points for this extremely large order. The staff said “I’m sorry I can’t get a receipt right now”. However, I went back in a few days later she was able to print a receipt out for me and gave me a phone number to call customer service to ask that the points to be added. Customer service said the points weren’t added because they didn’t have my phone number or my name. I sent a copy of the receipt circle the top in red that has my name in phone number on it. That is how I place the order in the first place. ",
         "1"
        ],
        [
         "1",
         "I ordered 4 pizzas One veggie lover, one cheese lover and two Great Beyond pizzas. When checked the toppings of the great beyond, all we got were the Soya chunks where it should be Beyond meat Italian sausage crumbles. Either the recipe is wrong or the local store is cutting corners. When called later to report this, no credit or anything just \"should've called the same day and this is only customer service you can get\". What a \"GREAT scam\" in the name of the \"Great beyond\".",
         "1"
        ],
        [
         "2",
         "My experience was bad. Had a long day, want to grab a quick pizza on way home, did not want to be on internet and driving so I just stop, walked in, order. Got the large 3 topping pizza. When I saw she charged me 18.50 instead of 10 dollars they are advertising, she tells me I have to order online to get it 10 dollars. Why, it's still the same pizza. Also ran into a litter bird that work at 6625 Dixie highway Miami fl 33143. Told me at end of night they re-ring the orders, and pocket the extra for the people they overcharged on the deal pizzas.??? FYI mostly managers but split with some people that want talk. ",
         "1"
        ],
        [
         "3",
         "I do not suggest you order from Pizza Hut, I literally paid 25 dollars for half cooked pizza and cinnamon sticks. On top of that, I ordered 2 drinks and they only gave me one. Not ordering pizza from there anymore",
         "1"
        ],
        [
         "4",
         "Pizza Hut is a scam! I never got my pizza delivered to my house! This is terrible service. Don't order from Pizza Hut! They wouldn't let me add ingredients. I found spit in my pizza and nails in the cheese.",
         "1"
        ]
       ],
       "shape": {
        "columns": 2,
        "rows": 5
       }
      },
      "text/html": [
       "<div>\n",
       "<style scoped>\n",
       "    .dataframe tbody tr th:only-of-type {\n",
       "        vertical-align: middle;\n",
       "    }\n",
       "\n",
       "    .dataframe tbody tr th {\n",
       "        vertical-align: top;\n",
       "    }\n",
       "\n",
       "    .dataframe thead th {\n",
       "        text-align: right;\n",
       "    }\n",
       "</style>\n",
       "<table border=\"1\" class=\"dataframe\">\n",
       "  <thead>\n",
       "    <tr style=\"text-align: right;\">\n",
       "      <th></th>\n",
       "      <th>review</th>\n",
       "      <th>ratings</th>\n",
       "    </tr>\n",
       "  </thead>\n",
       "  <tbody>\n",
       "    <tr>\n",
       "      <th>0</th>\n",
       "      <td>The staff Alexa was very kind and helpful. I h...</td>\n",
       "      <td>1</td>\n",
       "    </tr>\n",
       "    <tr>\n",
       "      <th>1</th>\n",
       "      <td>I ordered 4 pizzas One veggie lover, one chees...</td>\n",
       "      <td>1</td>\n",
       "    </tr>\n",
       "    <tr>\n",
       "      <th>2</th>\n",
       "      <td>My experience was bad. Had a long day, want to...</td>\n",
       "      <td>1</td>\n",
       "    </tr>\n",
       "    <tr>\n",
       "      <th>3</th>\n",
       "      <td>I do not suggest you order from Pizza Hut, I l...</td>\n",
       "      <td>1</td>\n",
       "    </tr>\n",
       "    <tr>\n",
       "      <th>4</th>\n",
       "      <td>Pizza Hut is a scam! I never got my pizza deli...</td>\n",
       "      <td>1</td>\n",
       "    </tr>\n",
       "  </tbody>\n",
       "</table>\n",
       "</div>"
      ],
      "text/plain": [
       "                                              review  ratings\n",
       "0  The staff Alexa was very kind and helpful. I h...        1\n",
       "1  I ordered 4 pizzas One veggie lover, one chees...        1\n",
       "2  My experience was bad. Had a long day, want to...        1\n",
       "3  I do not suggest you order from Pizza Hut, I l...        1\n",
       "4  Pizza Hut is a scam! I never got my pizza deli...        1"
      ]
     },
     "execution_count": 15,
     "metadata": {},
     "output_type": "execute_result"
    }
   ],
   "source": [
    "df.head()"
   ]
  },
  {
   "cell_type": "markdown",
   "id": "95592930",
   "metadata": {},
   "source": [
    "Let's figure out how to get some sentiment scores out of this raw text. There are many methods out there for exploring text and obtaining features from raw text. For now, let's use [NLTK](https://www.nltk.org/), the \"natural language toolkit. NLTK is a \"leading platform for building Python programs to work with human language data.\" There are many tutorials and examples on how to use the various NLTK modules. We will use it to gain sentiment values. Example can be viewed here: https://www.nltk.org/howto/sentiment.html"
   ]
  },
  {
   "cell_type": "code",
   "execution_count": 167,
   "id": "19f85d41",
   "metadata": {},
   "outputs": [],
   "source": [
    "# install\n",
    "#!pip install nltk "
   ]
  },
  {
   "cell_type": "code",
   "execution_count": 16,
   "id": "6ec9eafc",
   "metadata": {},
   "outputs": [],
   "source": [
    "from nltk.sentiment.vader import SentimentIntensityAnalyzer # import"
   ]
  },
  {
   "cell_type": "code",
   "execution_count": null,
   "id": "c8fdb510",
   "metadata": {},
   "outputs": [
    {
     "name": "stderr",
     "output_type": "stream",
     "text": [
      "[nltk_data] Downloading package vader_lexicon to /home/tommie-\n",
      "[nltk_data]     clark/nltk_data...\n",
      "[nltk_data] Downloading package stopwords to /home/tommie-\n",
      "[nltk_data]     clark/nltk_data...\n",
      "[nltk_data]   Unzipping corpora/stopwords.zip.\n"
     ]
    },
    {
     "data": {
      "text/plain": [
       "True"
      ]
     },
     "execution_count": 18,
     "metadata": {},
     "output_type": "execute_result"
    }
   ],
   "source": [
    "# Need to run this if haven't before\n",
    "# import nltk\n",
    "# nltk.download('vader_lexicon')\n",
    "# nltk.download('stopwords')"
   ]
  },
  {
   "cell_type": "markdown",
   "id": "2251b51b",
   "metadata": {},
   "source": [
    "Just to get a sample of what this looks like..."
   ]
  },
  {
   "cell_type": "code",
   "execution_count": 19,
   "id": "833e2dad",
   "metadata": {},
   "outputs": [],
   "source": [
    "sentiment = SentimentIntensityAnalyzer()"
   ]
  },
  {
   "cell_type": "code",
   "execution_count": 20,
   "id": "d055560c",
   "metadata": {},
   "outputs": [],
   "source": [
    "sample = df[0:3]['review']"
   ]
  },
  {
   "cell_type": "code",
   "execution_count": 21,
   "id": "498c2923",
   "metadata": {},
   "outputs": [
    {
     "name": "stdout",
     "output_type": "stream",
     "text": [
      "The staff Alexa was very kind and helpful. I had donated 20 pizzas to my children's graduation party/dance. I went in person to make sure I placed such a large order correctly and was going to be delivered to the correct place at the proper time. I asked about getting my reward points for this extremely large order. The staff said “I’m sorry I can’t get a receipt right now”. However, I went back in a few days later she was able to print a receipt out for me and gave me a phone number to call customer service to ask that the points to be added. Customer service said the points weren’t added because they didn’t have my phone number or my name. I sent a copy of the receipt circle the top in red that has my name in phone number on it. That is how I place the order in the first place. \n",
      "{'neg': 0.009, 'neu': 0.871, 'pos': 0.121, 'compound': 0.9344}\n",
      "---------------------------------------\n",
      "I ordered 4 pizzas One veggie lover, one cheese lover and two Great Beyond pizzas. When checked the toppings of the great beyond, all we got were the Soya chunks where it should be Beyond meat Italian sausage crumbles. Either the recipe is wrong or the local store is cutting corners. When called later to report this, no credit or anything just \"should've called the same day and this is only customer service you can get\". What a \"GREAT scam\" in the name of the \"Great beyond\".\n",
      "{'neg': 0.097, 'neu': 0.657, 'pos': 0.246, 'compound': 0.9614}\n",
      "---------------------------------------\n",
      "My experience was bad. Had a long day, want to grab a quick pizza on way home, did not want to be on internet and driving so I just stop, walked in, order. Got the large 3 topping pizza. When I saw she charged me 18.50 instead of 10 dollars they are advertising, she tells me I have to order online to get it 10 dollars. Why, it's still the same pizza. Also ran into a litter bird that work at 6625 Dixie highway Miami fl 33143. Told me at end of night they re-ring the orders, and pocket the extra for the people they overcharged on the deal pizzas.??? FYI mostly managers but split with some people that want talk. \n",
      "{'neg': 0.045, 'neu': 0.903, 'pos': 0.051, 'compound': -0.3427}\n",
      "---------------------------------------\n"
     ]
    }
   ],
   "source": [
    "for s in sample:\n",
    "    print(s)\n",
    "    ss = sentiment.polarity_scores(s)\n",
    "    print(ss)\n",
    "    print('---------------------------------------')"
   ]
  },
  {
   "cell_type": "markdown",
   "id": "51a49c4e",
   "metadata": {},
   "source": [
    "Note, the `compound` score calculates the sum of all the ratings normalized between -1 (most negative) and +1 (most positive). `neg`, `neu`, and `pos` are rather self explanatory."
   ]
  },
  {
   "cell_type": "markdown",
   "id": "31dd48c2",
   "metadata": {},
   "source": [
    "There are also methods for cleaning textual data, which we will not get too far into. One, however, is to remove \"stop words.\" Stop words are words such as \"a\", \"and\", \"the\", etc... as they are common words that do not hold meaning."
   ]
  },
  {
   "cell_type": "code",
   "execution_count": 22,
   "id": "916416c5",
   "metadata": {},
   "outputs": [],
   "source": [
    "# import stop words\n",
    "from nltk.corpus import stopwords\n",
    "stop = stopwords.words('english')"
   ]
  },
  {
   "cell_type": "code",
   "execution_count": 23,
   "id": "bdcd0f97",
   "metadata": {},
   "outputs": [],
   "source": [
    "df['cleaned_reviews'] = df['review'].apply(lambda x: ' '.join([word for word in x.split() if word not in (stop)]))"
   ]
  },
  {
   "cell_type": "markdown",
   "id": "8061922d",
   "metadata": {},
   "source": [
    "If we check the sentiment again, we can see that this step does make a difference in the scoresd."
   ]
  },
  {
   "cell_type": "code",
   "execution_count": 24,
   "id": "fbb07f5a",
   "metadata": {},
   "outputs": [
    {
     "name": "stdout",
     "output_type": "stream",
     "text": [
      "The staff Alexa kind helpful. I donated 20 pizzas children's graduation party/dance. I went person make sure I placed large order correctly going delivered correct place proper time. I asked getting reward points extremely large order. The staff said “I’m sorry I can’t get receipt right now”. However, I went back days later able print receipt gave phone number call customer service ask points added. Customer service said points weren’t added didn’t phone number name. I sent copy receipt circle top red name phone number it. That I place order first place.\n",
      "{'neg': 0.014, 'neu': 0.796, 'pos': 0.19, 'compound': 0.9274}\n",
      "---------------------------------------\n",
      "I ordered 4 pizzas One veggie lover, one cheese lover two Great Beyond pizzas. When checked toppings great beyond, got Soya chunks Beyond meat Italian sausage crumbles. Either recipe wrong local store cutting corners. When called later report this, credit anything \"should've called day customer service get\". What \"GREAT scam\" name \"Great beyond\".\n",
      "{'neg': 0.108, 'neu': 0.532, 'pos': 0.36, 'compound': 0.9699}\n",
      "---------------------------------------\n",
      "My experience bad. Had long day, want grab quick pizza way home, want internet driving I stop, walked in, order. Got large 3 topping pizza. When I saw charged 18.50 instead 10 dollars advertising, tells I order online get 10 dollars. Why, still pizza. Also ran litter bird work 6625 Dixie highway Miami fl 33143. Told end night re-ring orders, pocket extra people overcharged deal pizzas.??? FYI mostly managers split people want talk.\n",
      "{'neg': 0.105, 'neu': 0.811, 'pos': 0.084, 'compound': -0.5584}\n",
      "---------------------------------------\n"
     ]
    }
   ],
   "source": [
    "sample = df[0:3]['cleaned_reviews']\n",
    "\n",
    "for s in sample:\n",
    "    print(s)\n",
    "    ss = sentiment.polarity_scores(s)\n",
    "    print(ss)\n",
    "    print('---------------------------------------')"
   ]
  },
  {
   "cell_type": "markdown",
   "id": "7471484c",
   "metadata": {},
   "source": [
    "Let's iterate through and make a new column for each sentiment score."
   ]
  },
  {
   "cell_type": "code",
   "execution_count": 25,
   "id": "0cfd9636",
   "metadata": {},
   "outputs": [],
   "source": [
    "df['neg'] = df['cleaned_reviews'].apply(lambda x: sentiment.polarity_scores(x)['neg'])\n",
    "df['neu'] = df['cleaned_reviews'].apply(lambda x: sentiment.polarity_scores(x)['neu'])\n",
    "df['pos'] = df['cleaned_reviews'].apply(lambda x: sentiment.polarity_scores(x)['pos'])\n",
    "df['compound'] = df['cleaned_reviews'].apply(lambda x: sentiment.polarity_scores(x)['compound'])"
   ]
  },
  {
   "cell_type": "code",
   "execution_count": 26,
   "id": "adc13a68",
   "metadata": {},
   "outputs": [
    {
     "data": {
      "application/vnd.microsoft.datawrangler.viewer.v0+json": {
       "columns": [
        {
         "name": "index",
         "rawType": "int64",
         "type": "integer"
        },
        {
         "name": "review",
         "rawType": "object",
         "type": "string"
        },
        {
         "name": "ratings",
         "rawType": "int64",
         "type": "integer"
        },
        {
         "name": "cleaned_reviews",
         "rawType": "object",
         "type": "string"
        },
        {
         "name": "neg",
         "rawType": "float64",
         "type": "float"
        },
        {
         "name": "neu",
         "rawType": "float64",
         "type": "float"
        },
        {
         "name": "pos",
         "rawType": "float64",
         "type": "float"
        },
        {
         "name": "compound",
         "rawType": "float64",
         "type": "float"
        }
       ],
       "conversionMethod": "pd.DataFrame",
       "ref": "cd353fac-3c67-4d35-9ad6-58428174a803",
       "rows": [
        [
         "0",
         "The staff Alexa was very kind and helpful. I had donated 20 pizzas to my children's graduation party/dance. I went in person to make sure I placed such a large order correctly and was going to be delivered to the correct place at the proper time. I asked about getting my reward points for this extremely large order. The staff said “I’m sorry I can’t get a receipt right now”. However, I went back in a few days later she was able to print a receipt out for me and gave me a phone number to call customer service to ask that the points to be added. Customer service said the points weren’t added because they didn’t have my phone number or my name. I sent a copy of the receipt circle the top in red that has my name in phone number on it. That is how I place the order in the first place. ",
         "1",
         "The staff Alexa kind helpful. I donated 20 pizzas children's graduation party/dance. I went person make sure I placed large order correctly going delivered correct place proper time. I asked getting reward points extremely large order. The staff said “I’m sorry I can’t get receipt right now”. However, I went back days later able print receipt gave phone number call customer service ask points added. Customer service said points weren’t added didn’t phone number name. I sent copy receipt circle top red name phone number it. That I place order first place.",
         "0.014",
         "0.796",
         "0.19",
         "0.9274"
        ],
        [
         "1",
         "I ordered 4 pizzas One veggie lover, one cheese lover and two Great Beyond pizzas. When checked the toppings of the great beyond, all we got were the Soya chunks where it should be Beyond meat Italian sausage crumbles. Either the recipe is wrong or the local store is cutting corners. When called later to report this, no credit or anything just \"should've called the same day and this is only customer service you can get\". What a \"GREAT scam\" in the name of the \"Great beyond\".",
         "1",
         "I ordered 4 pizzas One veggie lover, one cheese lover two Great Beyond pizzas. When checked toppings great beyond, got Soya chunks Beyond meat Italian sausage crumbles. Either recipe wrong local store cutting corners. When called later report this, credit anything \"should've called day customer service get\". What \"GREAT scam\" name \"Great beyond\".",
         "0.108",
         "0.532",
         "0.36",
         "0.9699"
        ],
        [
         "2",
         "My experience was bad. Had a long day, want to grab a quick pizza on way home, did not want to be on internet and driving so I just stop, walked in, order. Got the large 3 topping pizza. When I saw she charged me 18.50 instead of 10 dollars they are advertising, she tells me I have to order online to get it 10 dollars. Why, it's still the same pizza. Also ran into a litter bird that work at 6625 Dixie highway Miami fl 33143. Told me at end of night they re-ring the orders, and pocket the extra for the people they overcharged on the deal pizzas.??? FYI mostly managers but split with some people that want talk. ",
         "1",
         "My experience bad. Had long day, want grab quick pizza way home, want internet driving I stop, walked in, order. Got large 3 topping pizza. When I saw charged 18.50 instead 10 dollars advertising, tells I order online get 10 dollars. Why, still pizza. Also ran litter bird work 6625 Dixie highway Miami fl 33143. Told end night re-ring orders, pocket extra people overcharged deal pizzas.??? FYI mostly managers split people want talk.",
         "0.105",
         "0.811",
         "0.084",
         "-0.5584"
        ],
        [
         "3",
         "I do not suggest you order from Pizza Hut, I literally paid 25 dollars for half cooked pizza and cinnamon sticks. On top of that, I ordered 2 drinks and they only gave me one. Not ordering pizza from there anymore",
         "1",
         "I suggest order Pizza Hut, I literally paid 25 dollars half cooked pizza cinnamon sticks. On top that, I ordered 2 drinks gave one. Not ordering pizza anymore",
         "0.0",
         "0.927",
         "0.073",
         "0.2023"
        ],
        [
         "4",
         "Pizza Hut is a scam! I never got my pizza delivered to my house! This is terrible service. Don't order from Pizza Hut! They wouldn't let me add ingredients. I found spit in my pizza and nails in the cheese.",
         "1",
         "Pizza Hut scam! I never got pizza delivered house! This terrible service. Don't order Pizza Hut! They let add ingredients. I found spit pizza nails cheese.",
         "0.259",
         "0.741",
         "0.0",
         "-0.826"
        ]
       ],
       "shape": {
        "columns": 7,
        "rows": 5
       }
      },
      "text/html": [
       "<div>\n",
       "<style scoped>\n",
       "    .dataframe tbody tr th:only-of-type {\n",
       "        vertical-align: middle;\n",
       "    }\n",
       "\n",
       "    .dataframe tbody tr th {\n",
       "        vertical-align: top;\n",
       "    }\n",
       "\n",
       "    .dataframe thead th {\n",
       "        text-align: right;\n",
       "    }\n",
       "</style>\n",
       "<table border=\"1\" class=\"dataframe\">\n",
       "  <thead>\n",
       "    <tr style=\"text-align: right;\">\n",
       "      <th></th>\n",
       "      <th>review</th>\n",
       "      <th>ratings</th>\n",
       "      <th>cleaned_reviews</th>\n",
       "      <th>neg</th>\n",
       "      <th>neu</th>\n",
       "      <th>pos</th>\n",
       "      <th>compound</th>\n",
       "    </tr>\n",
       "  </thead>\n",
       "  <tbody>\n",
       "    <tr>\n",
       "      <th>0</th>\n",
       "      <td>The staff Alexa was very kind and helpful. I h...</td>\n",
       "      <td>1</td>\n",
       "      <td>The staff Alexa kind helpful. I donated 20 piz...</td>\n",
       "      <td>0.014</td>\n",
       "      <td>0.796</td>\n",
       "      <td>0.190</td>\n",
       "      <td>0.9274</td>\n",
       "    </tr>\n",
       "    <tr>\n",
       "      <th>1</th>\n",
       "      <td>I ordered 4 pizzas One veggie lover, one chees...</td>\n",
       "      <td>1</td>\n",
       "      <td>I ordered 4 pizzas One veggie lover, one chees...</td>\n",
       "      <td>0.108</td>\n",
       "      <td>0.532</td>\n",
       "      <td>0.360</td>\n",
       "      <td>0.9699</td>\n",
       "    </tr>\n",
       "    <tr>\n",
       "      <th>2</th>\n",
       "      <td>My experience was bad. Had a long day, want to...</td>\n",
       "      <td>1</td>\n",
       "      <td>My experience bad. Had long day, want grab qui...</td>\n",
       "      <td>0.105</td>\n",
       "      <td>0.811</td>\n",
       "      <td>0.084</td>\n",
       "      <td>-0.5584</td>\n",
       "    </tr>\n",
       "    <tr>\n",
       "      <th>3</th>\n",
       "      <td>I do not suggest you order from Pizza Hut, I l...</td>\n",
       "      <td>1</td>\n",
       "      <td>I suggest order Pizza Hut, I literally paid 25...</td>\n",
       "      <td>0.000</td>\n",
       "      <td>0.927</td>\n",
       "      <td>0.073</td>\n",
       "      <td>0.2023</td>\n",
       "    </tr>\n",
       "    <tr>\n",
       "      <th>4</th>\n",
       "      <td>Pizza Hut is a scam! I never got my pizza deli...</td>\n",
       "      <td>1</td>\n",
       "      <td>Pizza Hut scam! I never got pizza delivered ho...</td>\n",
       "      <td>0.259</td>\n",
       "      <td>0.741</td>\n",
       "      <td>0.000</td>\n",
       "      <td>-0.8260</td>\n",
       "    </tr>\n",
       "  </tbody>\n",
       "</table>\n",
       "</div>"
      ],
      "text/plain": [
       "                                              review  ratings  \\\n",
       "0  The staff Alexa was very kind and helpful. I h...        1   \n",
       "1  I ordered 4 pizzas One veggie lover, one chees...        1   \n",
       "2  My experience was bad. Had a long day, want to...        1   \n",
       "3  I do not suggest you order from Pizza Hut, I l...        1   \n",
       "4  Pizza Hut is a scam! I never got my pizza deli...        1   \n",
       "\n",
       "                                     cleaned_reviews    neg    neu    pos  \\\n",
       "0  The staff Alexa kind helpful. I donated 20 piz...  0.014  0.796  0.190   \n",
       "1  I ordered 4 pizzas One veggie lover, one chees...  0.108  0.532  0.360   \n",
       "2  My experience bad. Had long day, want grab qui...  0.105  0.811  0.084   \n",
       "3  I suggest order Pizza Hut, I literally paid 25...  0.000  0.927  0.073   \n",
       "4  Pizza Hut scam! I never got pizza delivered ho...  0.259  0.741  0.000   \n",
       "\n",
       "   compound  \n",
       "0    0.9274  \n",
       "1    0.9699  \n",
       "2   -0.5584  \n",
       "3    0.2023  \n",
       "4   -0.8260  "
      ]
     },
     "execution_count": 26,
     "metadata": {},
     "output_type": "execute_result"
    }
   ],
   "source": [
    "df.head()"
   ]
  },
  {
   "cell_type": "markdown",
   "id": "b95b6e81",
   "metadata": {},
   "source": [
    "Now we have the sentiment scores for each row!"
   ]
  },
  {
   "cell_type": "markdown",
   "id": "bdc320ab",
   "metadata": {},
   "source": [
    "## Now for K-means clustering!"
   ]
  },
  {
   "cell_type": "code",
   "execution_count": 27,
   "id": "e2f81620",
   "metadata": {},
   "outputs": [],
   "source": [
    "from sklearn.cluster import KMeans"
   ]
  },
  {
   "cell_type": "markdown",
   "id": "3484765b",
   "metadata": {},
   "source": [
    "First, let's define our X as just the sentiment values:"
   ]
  },
  {
   "cell_type": "code",
   "execution_count": 28,
   "id": "ea9011f2",
   "metadata": {},
   "outputs": [],
   "source": [
    "X = df[['neg','neu','pos','compound']]"
   ]
  },
  {
   "cell_type": "markdown",
   "id": "a5900839",
   "metadata": {},
   "source": [
    "Now to figure out how many clusters (what value of K) we want.  \n",
    "Below, we are iterating between different numbers of K (from 1 to 7), making clusters based on that K, and then saving the `inertia` to plot. What is inertia? It is the \"within-cluster sum-of-squares\" distance. So, the sum of the distances between each point within a cluster and that cluster's center point."
   ]
  },
  {
   "cell_type": "code",
   "execution_count": 29,
   "id": "6b8af101",
   "metadata": {},
   "outputs": [
    {
     "data": {
      "text/plain": [
       "Text(0, 0.5, 'Variance')"
      ]
     },
     "execution_count": 29,
     "metadata": {},
     "output_type": "execute_result"
    },
    {
     "data": {
      "image/png": "[encoded data removed]",
      "text/plain": [
       "<Figure size 640x480 with 1 Axes>"
      ]
     },
     "metadata": {},
     "output_type": "display_data"
    }
   ],
   "source": [
    "inertia = []\n",
    "for k in range(1,8):\n",
    "    kmeans = KMeans(n_clusters=k, random_state=1, n_init = 'auto').fit(X)\n",
    "    inertia.append(np.sqrt(kmeans.inertia_))\n",
    "    \n",
    "plt.plot(range(1, 8), inertia, marker='s');\n",
    "plt.xlabel('$k$')\n",
    "plt.ylabel('Variance')"
   ]
  },
  {
   "cell_type": "markdown",
   "id": "e1a59cd2",
   "metadata": {},
   "source": [
    "This part can get subjective, but we can now use this plot to determine the best value of K -- where the plot drops the most and then starts to decrease more slowly is that \"best point.\" Here, it looks like K = 2 is most optimal."
   ]
  },
  {
   "cell_type": "markdown",
   "id": "3fbfab5f",
   "metadata": {},
   "source": [
    "Now let's make our model!"
   ]
  },
  {
   "cell_type": "code",
   "execution_count": 30,
   "id": "707aedb7",
   "metadata": {},
   "outputs": [],
   "source": [
    "kmeans = KMeans(n_clusters = 2, random_state = 1,n_init= 10).fit(X)"
   ]
  },
  {
   "cell_type": "markdown",
   "id": "7ef31876",
   "metadata": {},
   "source": [
    "We can now get the cluster that each point belongs to:"
   ]
  },
  {
   "cell_type": "code",
   "execution_count": 31,
   "id": "a024d856",
   "metadata": {},
   "outputs": [],
   "source": [
    "y = kmeans.fit_predict(X)"
   ]
  },
  {
   "cell_type": "markdown",
   "id": "296e6b19",
   "metadata": {},
   "source": [
    "And this just saves it back into the dataframe for us."
   ]
  },
  {
   "cell_type": "code",
   "execution_count": 32,
   "id": "b48d59a4",
   "metadata": {},
   "outputs": [],
   "source": [
    "df['cluster'] = y"
   ]
  },
  {
   "cell_type": "code",
   "execution_count": 33,
   "id": "005b2cba",
   "metadata": {},
   "outputs": [
    {
     "data": {
      "application/vnd.microsoft.datawrangler.viewer.v0+json": {
       "columns": [
        {
         "name": "index",
         "rawType": "int64",
         "type": "integer"
        },
        {
         "name": "review",
         "rawType": "object",
         "type": "string"
        },
        {
         "name": "ratings",
         "rawType": "int64",
         "type": "integer"
        },
        {
         "name": "cleaned_reviews",
         "rawType": "object",
         "type": "string"
        },
        {
         "name": "neg",
         "rawType": "float64",
         "type": "float"
        },
        {
         "name": "neu",
         "rawType": "float64",
         "type": "float"
        },
        {
         "name": "pos",
         "rawType": "float64",
         "type": "float"
        },
        {
         "name": "compound",
         "rawType": "float64",
         "type": "float"
        },
        {
         "name": "cluster",
         "rawType": "int32",
         "type": "integer"
        }
       ],
       "conversionMethod": "pd.DataFrame",
       "ref": "d81cc07a-ba77-4c49-ab72-d98dee77d783",
       "rows": [
        [
         "0",
         "The staff Alexa was very kind and helpful. I had donated 20 pizzas to my children's graduation party/dance. I went in person to make sure I placed such a large order correctly and was going to be delivered to the correct place at the proper time. I asked about getting my reward points for this extremely large order. The staff said “I’m sorry I can’t get a receipt right now”. However, I went back in a few days later she was able to print a receipt out for me and gave me a phone number to call customer service to ask that the points to be added. Customer service said the points weren’t added because they didn’t have my phone number or my name. I sent a copy of the receipt circle the top in red that has my name in phone number on it. That is how I place the order in the first place. ",
         "1",
         "The staff Alexa kind helpful. I donated 20 pizzas children's graduation party/dance. I went person make sure I placed large order correctly going delivered correct place proper time. I asked getting reward points extremely large order. The staff said “I’m sorry I can’t get receipt right now”. However, I went back days later able print receipt gave phone number call customer service ask points added. Customer service said points weren’t added didn’t phone number name. I sent copy receipt circle top red name phone number it. That I place order first place.",
         "0.014",
         "0.796",
         "0.19",
         "0.9274",
         "0"
        ],
        [
         "1",
         "I ordered 4 pizzas One veggie lover, one cheese lover and two Great Beyond pizzas. When checked the toppings of the great beyond, all we got were the Soya chunks where it should be Beyond meat Italian sausage crumbles. Either the recipe is wrong or the local store is cutting corners. When called later to report this, no credit or anything just \"should've called the same day and this is only customer service you can get\". What a \"GREAT scam\" in the name of the \"Great beyond\".",
         "1",
         "I ordered 4 pizzas One veggie lover, one cheese lover two Great Beyond pizzas. When checked toppings great beyond, got Soya chunks Beyond meat Italian sausage crumbles. Either recipe wrong local store cutting corners. When called later report this, credit anything \"should've called day customer service get\". What \"GREAT scam\" name \"Great beyond\".",
         "0.108",
         "0.532",
         "0.36",
         "0.9699",
         "0"
        ],
        [
         "2",
         "My experience was bad. Had a long day, want to grab a quick pizza on way home, did not want to be on internet and driving so I just stop, walked in, order. Got the large 3 topping pizza. When I saw she charged me 18.50 instead of 10 dollars they are advertising, she tells me I have to order online to get it 10 dollars. Why, it's still the same pizza. Also ran into a litter bird that work at 6625 Dixie highway Miami fl 33143. Told me at end of night they re-ring the orders, and pocket the extra for the people they overcharged on the deal pizzas.??? FYI mostly managers but split with some people that want talk. ",
         "1",
         "My experience bad. Had long day, want grab quick pizza way home, want internet driving I stop, walked in, order. Got large 3 topping pizza. When I saw charged 18.50 instead 10 dollars advertising, tells I order online get 10 dollars. Why, still pizza. Also ran litter bird work 6625 Dixie highway Miami fl 33143. Told end night re-ring orders, pocket extra people overcharged deal pizzas.??? FYI mostly managers split people want talk.",
         "0.105",
         "0.811",
         "0.084",
         "-0.5584",
         "1"
        ],
        [
         "3",
         "I do not suggest you order from Pizza Hut, I literally paid 25 dollars for half cooked pizza and cinnamon sticks. On top of that, I ordered 2 drinks and they only gave me one. Not ordering pizza from there anymore",
         "1",
         "I suggest order Pizza Hut, I literally paid 25 dollars half cooked pizza cinnamon sticks. On top that, I ordered 2 drinks gave one. Not ordering pizza anymore",
         "0.0",
         "0.927",
         "0.073",
         "0.2023",
         "0"
        ],
        [
         "4",
         "Pizza Hut is a scam! I never got my pizza delivered to my house! This is terrible service. Don't order from Pizza Hut! They wouldn't let me add ingredients. I found spit in my pizza and nails in the cheese.",
         "1",
         "Pizza Hut scam! I never got pizza delivered house! This terrible service. Don't order Pizza Hut! They let add ingredients. I found spit pizza nails cheese.",
         "0.259",
         "0.741",
         "0.0",
         "-0.826",
         "1"
        ]
       ],
       "shape": {
        "columns": 8,
        "rows": 5
       }
      },
      "text/html": [
       "<div>\n",
       "<style scoped>\n",
       "    .dataframe tbody tr th:only-of-type {\n",
       "        vertical-align: middle;\n",
       "    }\n",
       "\n",
       "    .dataframe tbody tr th {\n",
       "        vertical-align: top;\n",
       "    }\n",
       "\n",
       "    .dataframe thead th {\n",
       "        text-align: right;\n",
       "    }\n",
       "</style>\n",
       "<table border=\"1\" class=\"dataframe\">\n",
       "  <thead>\n",
       "    <tr style=\"text-align: right;\">\n",
       "      <th></th>\n",
       "      <th>review</th>\n",
       "      <th>ratings</th>\n",
       "      <th>cleaned_reviews</th>\n",
       "      <th>neg</th>\n",
       "      <th>neu</th>\n",
       "      <th>pos</th>\n",
       "      <th>compound</th>\n",
       "      <th>cluster</th>\n",
       "    </tr>\n",
       "  </thead>\n",
       "  <tbody>\n",
       "    <tr>\n",
       "      <th>0</th>\n",
       "      <td>The staff Alexa was very kind and helpful. I h...</td>\n",
       "      <td>1</td>\n",
       "      <td>The staff Alexa kind helpful. I donated 20 piz...</td>\n",
       "      <td>0.014</td>\n",
       "      <td>0.796</td>\n",
       "      <td>0.190</td>\n",
       "      <td>0.9274</td>\n",
       "      <td>0</td>\n",
       "    </tr>\n",
       "    <tr>\n",
       "      <th>1</th>\n",
       "      <td>I ordered 4 pizzas One veggie lover, one chees...</td>\n",
       "      <td>1</td>\n",
       "      <td>I ordered 4 pizzas One veggie lover, one chees...</td>\n",
       "      <td>0.108</td>\n",
       "      <td>0.532</td>\n",
       "      <td>0.360</td>\n",
       "      <td>0.9699</td>\n",
       "      <td>0</td>\n",
       "    </tr>\n",
       "    <tr>\n",
       "      <th>2</th>\n",
       "      <td>My experience was bad. Had a long day, want to...</td>\n",
       "      <td>1</td>\n",
       "      <td>My experience bad. Had long day, want grab qui...</td>\n",
       "      <td>0.105</td>\n",
       "      <td>0.811</td>\n",
       "      <td>0.084</td>\n",
       "      <td>-0.5584</td>\n",
       "      <td>1</td>\n",
       "    </tr>\n",
       "    <tr>\n",
       "      <th>3</th>\n",
       "      <td>I do not suggest you order from Pizza Hut, I l...</td>\n",
       "      <td>1</td>\n",
       "      <td>I suggest order Pizza Hut, I literally paid 25...</td>\n",
       "      <td>0.000</td>\n",
       "      <td>0.927</td>\n",
       "      <td>0.073</td>\n",
       "      <td>0.2023</td>\n",
       "      <td>0</td>\n",
       "    </tr>\n",
       "    <tr>\n",
       "      <th>4</th>\n",
       "      <td>Pizza Hut is a scam! I never got my pizza deli...</td>\n",
       "      <td>1</td>\n",
       "      <td>Pizza Hut scam! I never got pizza delivered ho...</td>\n",
       "      <td>0.259</td>\n",
       "      <td>0.741</td>\n",
       "      <td>0.000</td>\n",
       "      <td>-0.8260</td>\n",
       "      <td>1</td>\n",
       "    </tr>\n",
       "  </tbody>\n",
       "</table>\n",
       "</div>"
      ],
      "text/plain": [
       "                                              review  ratings  \\\n",
       "0  The staff Alexa was very kind and helpful. I h...        1   \n",
       "1  I ordered 4 pizzas One veggie lover, one chees...        1   \n",
       "2  My experience was bad. Had a long day, want to...        1   \n",
       "3  I do not suggest you order from Pizza Hut, I l...        1   \n",
       "4  Pizza Hut is a scam! I never got my pizza deli...        1   \n",
       "\n",
       "                                     cleaned_reviews    neg    neu    pos  \\\n",
       "0  The staff Alexa kind helpful. I donated 20 piz...  0.014  0.796  0.190   \n",
       "1  I ordered 4 pizzas One veggie lover, one chees...  0.108  0.532  0.360   \n",
       "2  My experience bad. Had long day, want grab qui...  0.105  0.811  0.084   \n",
       "3  I suggest order Pizza Hut, I literally paid 25...  0.000  0.927  0.073   \n",
       "4  Pizza Hut scam! I never got pizza delivered ho...  0.259  0.741  0.000   \n",
       "\n",
       "   compound  cluster  \n",
       "0    0.9274        0  \n",
       "1    0.9699        0  \n",
       "2   -0.5584        1  \n",
       "3    0.2023        0  \n",
       "4   -0.8260        1  "
      ]
     },
     "execution_count": 33,
     "metadata": {},
     "output_type": "execute_result"
    }
   ],
   "source": [
    "df.head()"
   ]
  },
  {
   "cell_type": "markdown",
   "id": "73ca609c",
   "metadata": {},
   "source": [
    "## Visualizing our clusters"
   ]
  },
  {
   "cell_type": "markdown",
   "id": "06bd3c32",
   "metadata": {},
   "source": [
    "With this scatterplot  below, we can see how the more negative and positive clusters are split. But what can we do from here?"
   ]
  },
  {
   "cell_type": "code",
   "execution_count": 34,
   "id": "a0de8b3b",
   "metadata": {},
   "outputs": [
    {
     "data": {
      "text/plain": [
       "<Axes: xlabel='neg', ylabel='pos'>"
      ]
     },
     "execution_count": 34,
     "metadata": {},
     "output_type": "execute_result"
    },
    {
     "data": {
      "image/png": "[encoded data removed]",
      "text/plain": [
       "<Figure size 640x480 with 1 Axes>"
      ]
     },
     "metadata": {},
     "output_type": "display_data"
    }
   ],
   "source": [
    "sns.scatterplot(x = df['neg'], y = df['pos'], hue=df['cluster'])"
   ]
  },
  {
   "cell_type": "markdown",
   "id": "3de16c77",
   "metadata": {},
   "source": [
    "Perhaps we can make an interactive plot to start looking at the individual points."
   ]
  },
  {
   "cell_type": "code",
   "execution_count": null,
   "id": "e7240fcf",
   "metadata": {
    "collapsed": true
   },
   "outputs": [
    {
     "name": "stdout",
     "output_type": "stream",
     "text": [
      "Requirement already satisfied: plotly in c:\\users\\nicol\\appdata\\local\\programs\\python\\python311\\lib\\site-packages (5.18.0)"
     ]
    },
    {
     "name": "stderr",
     "output_type": "stream",
     "text": [
      "\n",
      "[notice] A new release of pip is available: 23.2.1 -> 23.3.1\n",
      "[notice] To update, run: python.exe -m pip install --upgrade pip\n"
     ]
    },
    {
     "name": "stdout",
     "output_type": "stream",
     "text": [
      "\n",
      "Requirement already satisfied: tenacity>=6.2.0 in c:\\users\\nicol\\appdata\\local\\programs\\python\\python311\\lib\\site-packages (from plotly) (8.2.3)\n",
      "Requirement already satisfied: packaging in c:\\users\\nicol\\appdata\\local\\programs\\python\\python311\\lib\\site-packages (from plotly) (23.1)\n"
     ]
    }
   ],
   "source": [
    "# !pip install plotly"
   ]
  },
  {
   "cell_type": "code",
   "execution_count": 35,
   "id": "e1aa7999",
   "metadata": {},
   "outputs": [],
   "source": [
    "import plotly.express as px"
   ]
  },
  {
   "cell_type": "code",
   "execution_count": 36,
   "id": "3c2477d4",
   "metadata": {
    "scrolled": false
   },
   "outputs": [
    {
     "data": {
      "application/vnd.plotly.v1+json": {
       "config": {
        "plotlyServerURL": "https://plot.ly"
       },
       "data": [
        {
         "customdata": [
          [
           1,
           0.796,
           0.9274
          ],
          [
           1,
           0.532,
           0.9699
          ],
          [
           1,
           0.811,
           -0.5584
          ],
          [
           1,
           0.927,
           0.2023
          ],
          [
           1,
           0.741,
           -0.826
          ],
          [
           1,
           0.85,
           0.0953
          ],
          [
           1,
           0.695,
           -0.471
          ],
          [
           1,
           0.756,
           -0.7269
          ],
          [
           3,
           0.898,
           0.3612
          ],
          [
           1,
           0.631,
           -0.8593
          ],
          [
           1,
           0.724,
           0.595
          ],
          [
           1,
           0.913,
           -0.4939
          ],
          [
           1,
           0.893,
           0.1174
          ],
          [
           5,
           0.521,
           0.9393
          ],
          [
           1,
           0.638,
           0.9098
          ],
          [
           1,
           0.843,
           -0.6981
          ],
          [
           2,
           0.691,
           0.6908
          ],
          [
           1,
           0.953,
           0.4019
          ],
          [
           1,
           0.789,
           -0.8689
          ],
          [
           1,
           0.765,
           0.5423
          ],
          [
           1,
           0.639,
           -0.2263
          ],
          [
           1,
           0.635,
           -0.7964
          ],
          [
           1,
           0.764,
           0.1027
          ],
          [
           1,
           0.874,
           0.3818
          ],
          [
           1,
           0.816,
           0.3365
          ],
          [
           1,
           0.735,
           0.4696
          ],
          [
           1,
           0.877,
           0.3818
          ],
          [
           1,
           0.842,
           0.6486
          ],
          [
           1,
           0.667,
           0.4951
          ],
          [
           1,
           0.798,
           -0.765
          ],
          [
           1,
           0.593,
           -0.8908
          ],
          [
           1,
           0.832,
           0.8264
          ],
          [
           1,
           0.807,
           -0.3384
          ],
          [
           1,
           0.551,
           -0.9348
          ],
          [
           1,
           0.642,
           -0.8885
          ],
          [
           1,
           0.901,
           0.1027
          ],
          [
           1,
           0.718,
           -0.9361
          ],
          [
           1,
           0.822,
           0.4767
          ],
          [
           1,
           0.75,
           0.4885
          ],
          [
           1,
           0.827,
           -0.4939
          ],
          [
           2,
           0.901,
           -0.3182
          ],
          [
           1,
           0.849,
           -0.2023
          ],
          [
           1,
           0.561,
           -0.942
          ],
          [
           1,
           0.891,
           0.4215
          ],
          [
           1,
           0.822,
           -0.6705
          ],
          [
           1,
           1,
           0
          ],
          [
           1,
           0.793,
           -0.7559
          ],
          [
           1,
           0.84,
           -0.7691
          ],
          [
           2,
           0.659,
           -0.3182
          ],
          [
           1,
           0.707,
           -0.2023
          ],
          [
           1,
           0.691,
           0.5574
          ],
          [
           1,
           0.954,
           -0.4898
          ],
          [
           3,
           0.738,
           0.8061
          ],
          [
           1,
           0.919,
           -0.4084
          ],
          [
           1,
           0.846,
           -0.8902
          ],
          [
           1,
           0.789,
           0.7579
          ],
          [
           1,
           0.819,
           -0.6478
          ],
          [
           1,
           0.826,
           -0.2263
          ],
          [
           1,
           0.748,
           -0.4327
          ],
          [
           1,
           0.882,
           0.3164
          ],
          [
           1,
           0.606,
           -0.0832
          ],
          [
           2,
           0.87,
           -0.2023
          ],
          [
           1,
           0.828,
           0.3184
          ],
          [
           1,
           0.934,
           -0.2462
          ],
          [
           1,
           0.919,
           -0.296
          ],
          [
           1,
           0.802,
           0.7717
          ],
          [
           1,
           0.755,
           -0.7319
          ],
          [
           1,
           0.704,
           -0.6997
          ],
          [
           1,
           0.891,
           -0.4215
          ],
          [
           1,
           0.743,
           -0.3182
          ],
          [
           1,
           0.932,
           0.3612
          ],
          [
           1,
           0.813,
           -0.48
          ],
          [
           1,
           0.87,
           0.3818
          ],
          [
           1,
           0.939,
           0.5562
          ],
          [
           1,
           0.797,
           -0.3818
          ],
          [
           1,
           0.772,
           0.8614
          ],
          [
           1,
           0.807,
           -0.1779
          ],
          [
           1,
           0.594,
           -0.9062
          ],
          [
           2,
           0.804,
           -0.3818
          ],
          [
           1,
           0.806,
           0.3187
          ],
          [
           2,
           0.793,
           0.9186
          ],
          [
           1,
           0.712,
           -0.3841
          ],
          [
           1,
           0.918,
           0.5621
          ],
          [
           1,
           0.857,
           0.0772
          ],
          [
           1,
           0.735,
           -0.3818
          ],
          [
           1,
           0.849,
           0.5859
          ],
          [
           1,
           0.843,
           0.0516
          ],
          [
           5,
           0.541,
           0.9099
          ],
          [
           1,
           0.842,
           -0.4588
          ],
          [
           1,
           0.679,
           -0.6249
          ],
          [
           1,
           0.795,
           -0.2023
          ],
          [
           2,
           0.821,
           -0.9484
          ],
          [
           1,
           0.904,
           0.5707
          ],
          [
           5,
           0.563,
           0.7712
          ],
          [
           1,
           0.623,
           0.7717
          ],
          [
           1,
           0.772,
           0.6124
          ],
          [
           1,
           0.82,
           -0.4939
          ],
          [
           1,
           0.773,
           0.7351
          ],
          [
           1,
           0.945,
           -0.2263
          ],
          [
           1,
           0.905,
           0.25
          ],
          [
           1,
           0.801,
           0.34
          ],
          [
           2,
           0.598,
           -0.1812
          ],
          [
           1,
           0.913,
           -0.1531
          ],
          [
           1,
           0.835,
           -0.7937
          ],
          [
           1,
           0.759,
           -0.7675
          ],
          [
           1,
           0.838,
           0
          ],
          [
           1,
           0.735,
           -0.3481
          ],
          [
           1,
           0.771,
           0.1027
          ],
          [
           1,
           0.692,
           -0.9262
          ],
          [
           5,
           0.576,
           0.9565
          ],
          [
           2,
           0.873,
           0.4404
          ],
          [
           1,
           0.697,
           0.3365
          ],
          [
           1,
           0.637,
           0.4545
          ],
          [
           1,
           0.886,
           0.743
          ],
          [
           1,
           0.842,
           -0.6908
          ],
          [
           2,
           0.661,
           -0.5423
          ],
          [
           1,
           0.596,
           0.1531
          ],
          [
           1,
           1,
           0
          ],
          [
           1,
           0.956,
           0.1531
          ],
          [
           1,
           0.779,
           0.8316
          ],
          [
           1,
           0.857,
           -0.4588
          ],
          [
           1,
           0.831,
           0.9246
          ],
          [
           5,
           0.828,
           0.6597
          ],
          [
           5,
           0.766,
           0.8766
          ],
          [
           5,
           0.615,
           0.9732
          ],
          [
           5,
           0.803,
           0.5994
          ],
          [
           5,
           0.577,
           0.9153
          ],
          [
           3,
           0.659,
           0.6908
          ],
          [
           5,
           0.661,
           0.9571
          ],
          [
           1,
           0.664,
           -0.4939
          ],
          [
           5,
           0.476,
           0.9758
          ],
          [
           5,
           0.602,
           0.9217
          ],
          [
           2,
           0.911,
           -0.0788
          ],
          [
           3,
           0.825,
           0.4391
          ],
          [
           4,
           0.811,
           0.8264
          ],
          [
           5,
           0.736,
           0.7717
          ],
          [
           5,
           0.547,
           0.742
          ],
          [
           5,
           0.57,
           0.9307
          ],
          [
           4,
           0.56,
           0.9574
          ],
          [
           4,
           0.654,
           0.8402
          ],
          [
           3,
           0.558,
           -0.3818
          ],
          [
           5,
           0.732,
           0.8316
          ],
          [
           3,
           0.604,
           0.7506
          ],
          [
           4,
           0.683,
           0.8807
          ],
          [
           5,
           0.49,
           0.9569
          ],
          [
           3,
           0.751,
           0.8074
          ],
          [
           1,
           0.655,
           -0.128
          ],
          [
           3,
           0.894,
           -0.2263
          ],
          [
           5,
           0.458,
           0.9774
          ],
          [
           5,
           0.629,
           0.7506
          ],
          [
           5,
           0.792,
           0.2732
          ],
          [
           3,
           0.559,
           0.6369
          ],
          [
           5,
           0.438,
           0.9827
          ],
          [
           4,
           0.827,
           0.8402
          ],
          [
           2,
           0.865,
           0.4118
          ],
          [
           5,
           0.788,
           0.8745
          ],
          [
           5,
           0.565,
           0.9062
          ],
          [
           3,
           0.774,
           0.9057
          ],
          [
           5,
           0.486,
           0.969
          ],
          [
           1,
           0.709,
           0.8553
          ],
          [
           3,
           0.643,
           0.7269
          ],
          [
           4,
           0.533,
           0.8767
          ],
          [
           5,
           0.462,
           0.9682
          ],
          [
           5,
           0.651,
           0.8442
          ],
          [
           4,
           0.421,
           0.9485
          ],
          [
           4,
           0.873,
           0.4404
          ],
          [
           1,
           0.635,
           -0.4735
          ],
          [
           2,
           0.786,
           0.34
          ],
          [
           1,
           0.75,
           -0.8098
          ],
          [
           1,
           0.861,
           0.0772
          ],
          [
           1,
           0.839,
           -0.296
          ],
          [
           1,
           0.829,
           -0.8597
          ],
          [
           3,
           0.829,
           0.8807
          ],
          [
           1,
           0.85,
           0.8555
          ],
          [
           1,
           0.841,
           -0.6492
          ],
          [
           1,
           0.622,
           -0.1429
          ],
          [
           1,
           0.641,
           0.8786
          ],
          [
           1,
           0.613,
           0.8428
          ],
          [
           1,
           0.675,
           -0.5707
          ],
          [
           5,
           0.59,
           0.9524
          ],
          [
           1,
           0.867,
           -0.1956
          ],
          [
           1,
           1,
           0
          ],
          [
           1,
           0.875,
           -0.3818
          ],
          [
           1,
           0.746,
           -0.7858
          ],
          [
           1,
           0.736,
           0.4915
          ],
          [
           2,
           0.761,
           0.8771
          ],
          [
           1,
           0.609,
           0.7506
          ],
          [
           1,
           0.828,
           0.6597
          ],
          [
           2,
           0.857,
           0.4871
          ],
          [
           1,
           0.753,
           -0.9039
          ],
          [
           1,
           0.786,
           0.3993
          ],
          [
           1,
           0.747,
           0.9639
          ],
          [
           1,
           0.603,
           -0.9208
          ],
          [
           1,
           0.974,
           -0.34
          ],
          [
           1,
           0.789,
           -0.1531
          ],
          [
           1,
           0.672,
           0.6249
          ],
          [
           1,
           0.762,
           0.4767
          ],
          [
           1,
           0.676,
           0.6025
          ],
          [
           1,
           0.832,
           0.0865
          ],
          [
           5,
           0.653,
           0.9868
          ],
          [
           1,
           0.84,
           -0.858
          ],
          [
           1,
           0.685,
           -0.34
          ],
          [
           1,
           0.73,
           0.8157
          ],
          [
           1,
           0.706,
           0.1832
          ],
          [
           1,
           0.64,
           -0.9393
          ],
          [
           1,
           0.788,
           -0.3595
          ],
          [
           1,
           0.924,
           -0.4912
          ],
          [
           1,
           0.808,
           -0.811
          ],
          [
           1,
           0.823,
           -0.6249
          ],
          [
           1,
           0.952,
           0.4215
          ],
          [
           1,
           0.621,
           -0.2808
          ],
          [
           1,
           0.706,
           -0.9052
          ],
          [
           1,
           0.776,
           -0.25
          ],
          [
           1,
           0.83,
           0.7157
          ],
          [
           1,
           0.786,
           -0.9432
          ],
          [
           1,
           0.752,
           -0.9157
          ],
          [
           1,
           0.934,
           0.5106
          ],
          [
           1,
           0.92,
           0.228
          ],
          [
           1,
           0.885,
           -0.7925
          ],
          [
           2,
           0.543,
           0.9493
          ],
          [
           1,
           0.869,
           0.0346
          ],
          [
           1,
           0.959,
           -0.296
          ],
          [
           1,
           0.759,
           0.88
          ],
          [
           1,
           0.638,
           -0.9062
          ],
          [
           2,
           0.795,
           0.9349
          ],
          [
           1,
           0.8,
           0.5574
          ],
          [
           1,
           0.929,
           0.4767
          ],
          [
           1,
           0.703,
           0.6679
          ],
          [
           2,
           0.795,
           0.9179
          ],
          [
           1,
           0.821,
           -0.228
          ],
          [
           2,
           1,
           0
          ],
          [
           1,
           0.892,
           -0.0772
          ],
          [
           1,
           0.772,
           0.8821
          ],
          [
           1,
           0.779,
           -0.4003
          ],
          [
           5,
           0.526,
           0.9517
          ],
          [
           5,
           0.457,
           0.9657
          ],
          [
           1,
           0.743,
           0.7835
          ],
          [
           1,
           0.921,
           0.3164
          ],
          [
           1,
           0.648,
           0.4215
          ],
          [
           1,
           0.755,
           0.8433
          ],
          [
           1,
           0.815,
           0.7783
          ],
          [
           1,
           0.804,
           -0.9416
          ],
          [
           1,
           0.878,
           -0.5574
          ],
          [
           5,
           0.694,
           0.9021
          ],
          [
           1,
           0.963,
           -0.2023
          ],
          [
           5,
           0.788,
           0.7562
          ],
          [
           2,
           0.909,
           0.4215
          ],
          [
           1,
           0.919,
           0.4404
          ],
          [
           1,
           0.781,
           0.8625
          ],
          [
           5,
           0.445,
           0.9781
          ],
          [
           1,
           0.731,
           -0.8608
          ],
          [
           5,
           0.516,
           0.9735
          ],
          [
           1,
           0.851,
           0.6833
          ],
          [
           1,
           0.803,
           0.0516
          ],
          [
           1,
           0.748,
           -0.6476
          ],
          [
           5,
           0.616,
           0.9393
          ],
          [
           1,
           0.885,
           -0.8682
          ],
          [
           1,
           0.858,
           0.4215
          ],
          [
           1,
           0.573,
           0.3311
          ],
          [
           1,
           0.815,
           0
          ],
          [
           5,
           0.701,
           0.8555
          ],
          [
           1,
           0.786,
           -0.8655
          ],
          [
           2,
           0.542,
           0.7534
          ],
          [
           1,
           0.873,
           -0.7922
          ],
          [
           1,
           0.97,
           -0.2023
          ],
          [
           1,
           0.64,
           -0.9337
          ],
          [
           1,
           0.8,
           -0.1531
          ],
          [
           1,
           0.843,
           -0.784
          ],
          [
           5,
           0.644,
           0.9729
          ],
          [
           1,
           0.566,
           -0.6793
          ],
          [
           1,
           0.773,
           0.885
          ],
          [
           1,
           0.598,
           -0.9333
          ],
          [
           1,
           0.931,
           0.3164
          ],
          [
           1,
           0.69,
           0.4413
          ],
          [
           1,
           0.895,
           -0.694
          ],
          [
           2,
           0.746,
           -0.128
          ],
          [
           1,
           0.864,
           -0.4336
          ],
          [
           1,
           0.923,
           -0.6202
          ],
          [
           1,
           0.938,
           -0.4767
          ],
          [
           1,
           0.884,
           -0.5994
          ],
          [
           2,
           0.702,
           -0.5397
          ],
          [
           2,
           0.935,
           0.4549
          ],
          [
           1,
           0.658,
           0.6996
          ],
          [
           1,
           0.799,
           -0.2962
          ],
          [
           1,
           0.631,
           -0.6497
          ],
          [
           1,
           0.911,
           0.8264
          ],
          [
           1,
           0.62,
           -0.5106
          ],
          [
           1,
           0.664,
           -0.5
          ],
          [
           1,
           0.854,
           0.4284
          ],
          [
           2,
           0.717,
           0.6407
          ],
          [
           2,
           0.711,
           -0.3937
          ],
          [
           1,
           0.869,
           0.091
          ],
          [
           1,
           0.851,
           -0.8367
          ],
          [
           2,
           0.809,
           0.7142
          ],
          [
           1,
           0.939,
           -0.5684
          ],
          [
           1,
           0.781,
           0.8126
          ],
          [
           1,
           0.77,
           -0.9047
          ],
          [
           1,
           0.776,
           -0.862
          ],
          [
           1,
           0.95,
           -0.4404
          ],
          [
           1,
           0.821,
           -0.6705
          ],
          [
           1,
           0.843,
           -0.4588
          ],
          [
           1,
           0.94,
           -0.1739
          ],
          [
           1,
           0.836,
           0.875
          ],
          [
           1,
           0.899,
           -0.316
          ],
          [
           1,
           0.634,
           -0.891
          ],
          [
           1,
           0.862,
           -0.6124
          ],
          [
           1,
           0.8,
           -0.6478
          ],
          [
           1,
           0.827,
           -0.5994
          ],
          [
           1,
           0.839,
           -0.4939
          ],
          [
           1,
           0.886,
           -0.6249
          ],
          [
           1,
           0.67,
           0.7163
          ],
          [
           1,
           0.877,
           0.7088
          ],
          [
           1,
           0.635,
           -0.9296
          ],
          [
           1,
           0.819,
           -0.2127
          ],
          [
           1,
           0.811,
           0.3309
          ],
          [
           1,
           0.923,
           0.3804
          ],
          [
           1,
           0.763,
           0.8962
          ],
          [
           1,
           0.746,
           0.7399
          ],
          [
           1,
           0.917,
           -0.7925
          ],
          [
           1,
           0.839,
           -0.6124
          ],
          [
           2,
           0.838,
           -0.1531
          ],
          [
           1,
           0.847,
           -0.4215
          ],
          [
           5,
           0.62,
           0.9334
          ],
          [
           5,
           0.644,
           0.9808
          ],
          [
           1,
           0.64,
           -0.9291
          ],
          [
           1,
           0.792,
           0.7774
          ],
          [
           1,
           0.749,
           -0.7964
          ],
          [
           1,
           0.678,
           -0.9231
          ],
          [
           1,
           0.865,
           0.0813
          ],
          [
           1,
           0.605,
           -0.4019
          ],
          [
           1,
           0.789,
           -0.0717
          ],
          [
           1,
           0.899,
           -0.6458
          ],
          [
           1,
           0.788,
           0.9461
          ],
          [
           2,
           0.821,
           -0.4559
          ],
          [
           1,
           0.782,
           -0.8547
          ],
          [
           1,
           0.749,
           -0.5574
          ],
          [
           1,
           0.838,
           -0.7955
          ],
          [
           1,
           0.741,
           -0.7263
          ],
          [
           1,
           0.855,
           0.0772
          ],
          [
           1,
           0.84,
           -0.1697
          ],
          [
           1,
           0.816,
           0.0258
          ],
          [
           1,
           0.66,
           -0.5904
          ],
          [
           1,
           0.898,
           -0.296
          ],
          [
           1,
           0.689,
           -0.3182
          ],
          [
           2,
           0.865,
           -0.3006
          ],
          [
           1,
           0.643,
           -0.25
          ],
          [
           1,
           0.921,
           -0.5906
          ],
          [
           2,
           0.847,
           0.8916
          ],
          [
           1,
           0.87,
           0.5423
          ],
          [
           1,
           0.692,
           -0.3446
          ],
          [
           1,
           0.675,
           0.1885
          ],
          [
           1,
           0.927,
           -0.4754
          ],
          [
           1,
           0.823,
           0.836
          ],
          [
           1,
           0.881,
           -0.8316
          ],
          [
           1,
           0.848,
           0.694
          ],
          [
           1,
           0.573,
           -0.6119
          ],
          [
           1,
           0.8,
           -0.8628
          ],
          [
           3,
           0.909,
           0.316
          ],
          [
           1,
           0.886,
           0.7003
          ],
          [
           1,
           0.641,
           0.9322
          ],
          [
           1,
           0.58,
           0.8025
          ],
          [
           1,
           0.957,
           0.3612
          ],
          [
           1,
           0.805,
           -0.5859
          ],
          [
           1,
           0.928,
           0.4199
          ],
          [
           1,
           0.766,
           0.7901
          ],
          [
           1,
           0.927,
           0.5826
          ],
          [
           1,
           0.736,
           -0.6597
          ],
          [
           1,
           0.763,
           -0.4767
          ],
          [
           1,
           0.887,
           -0.6474
          ],
          [
           1,
           0.792,
           0.3182
          ],
          [
           1,
           0.545,
           0.6739
          ],
          [
           1,
           0.609,
           -0.8344
          ],
          [
           1,
           0.658,
           0.4898
          ],
          [
           1,
           0.777,
           -0.5574
          ],
          [
           1,
           0.813,
           0.5876
          ],
          [
           1,
           0.922,
           0.4588
          ],
          [
           1,
           0.857,
           0.8271
          ],
          [
           1,
           0.659,
           0.1181
          ],
          [
           1,
           0.617,
           -0.948
          ],
          [
           1,
           0.71,
           -0.8481
          ],
          [
           3,
           0.821,
           0.7568
          ],
          [
           1,
           0.603,
           0.6083
          ],
          [
           5,
           0.78,
           0.9323
          ],
          [
           1,
           0.859,
           -0.1027
          ],
          [
           5,
           0.857,
           0.5813
          ],
          [
           4,
           0.756,
           0.6249
          ],
          [
           3,
           0.649,
           0.9823
          ],
          [
           3,
           0.741,
           0.9184
          ],
          [
           1,
           0.896,
           -0.0516
          ],
          [
           5,
           0.616,
           0.8934
          ],
          [
           3,
           0.624,
           0.9403
          ],
          [
           2,
           0.764,
           0.8534
          ],
          [
           1,
           0.714,
           -0.8625
          ],
          [
           1,
           0.862,
           -0.4019
          ],
          [
           1,
           0.842,
           -0.4588
          ],
          [
           2,
           0.891,
           0.7579
          ],
          [
           1,
           0.72,
           -0.7494
          ],
          [
           1,
           0.689,
           -0.8658
          ],
          [
           1,
           0.767,
           -0.3451
          ],
          [
           1,
           0.665,
           -0.7964
          ],
          [
           1,
           0.622,
           -0.168
          ],
          [
           1,
           0.831,
           -0.7574
          ],
          [
           1,
           0.789,
           -0.1531
          ],
          [
           1,
           0.668,
           -0.9062
          ],
          [
           1,
           0.89,
           -0.4939
          ],
          [
           1,
           0.576,
           -0.9744
          ],
          [
           1,
           0.823,
           -0.7269
          ],
          [
           1,
           0.833,
           0.7541
          ],
          [
           1,
           0.863,
           -0.358
          ],
          [
           1,
           0.569,
           -0.8981
          ],
          [
           1,
           0.809,
           0.5423
          ],
          [
           1,
           0.783,
           -0.8614
          ],
          [
           1,
           0.716,
           -0.0258
          ],
          [
           1,
           0.783,
           -0.2805
          ],
          [
           1,
           0.682,
           -0.6189
          ],
          [
           1,
           0.962,
           -0.2023
          ],
          [
           1,
           0.729,
           -0.4939
          ],
          [
           1,
           0.688,
           0.8122
          ],
          [
           1,
           0.815,
           -0.7717
          ],
          [
           1,
           0.817,
           0.25
          ],
          [
           1,
           0.833,
           -0.296
          ],
          [
           1,
           0.919,
           0.3561
          ],
          [
           1,
           0.707,
           -0.3083
          ],
          [
           1,
           0.889,
           0.6808
          ],
          [
           1,
           0.698,
           0.3997
          ],
          [
           1,
           1,
           0
          ],
          [
           1,
           0.634,
           0.09
          ],
          [
           1,
           0.815,
           0.0516
          ],
          [
           2,
           0.791,
           0.5859
          ],
          [
           1,
           0.875,
           -0.1027
          ],
          [
           1,
           1,
           0
          ],
          [
           1,
           0.732,
           0.8565
          ],
          [
           1,
           0.627,
           -0.5719
          ],
          [
           1,
           0.826,
           -0.8661
          ],
          [
           1,
           0.794,
           -0.8996
          ],
          [
           1,
           0.825,
           -0.2732
          ],
          [
           1,
           0.888,
           0.1779
          ],
          [
           1,
           0.74,
           -0.9105
          ],
          [
           1,
           0.614,
           -0.9658
          ],
          [
           4,
           0.862,
           -0.128
          ],
          [
           1,
           0.732,
           0.8176
          ],
          [
           1,
           0.85,
           -0.7579
          ],
          [
           1,
           0.888,
           -0.4404
          ],
          [
           1,
           0.709,
           -0.9524
          ],
          [
           1,
           0.719,
           -0.7299
          ],
          [
           2,
           0.732,
           0.9441
          ],
          [
           1,
           0.89,
           0.836
          ],
          [
           2,
           0.781,
           0.7906
          ],
          [
           1,
           0.657,
           -0.1531
          ],
          [
           1,
           0.733,
           0.6705
          ],
          [
           1,
           0.828,
           -0.1531
          ],
          [
           1,
           0.602,
           0.7906
          ],
          [
           1,
           0.82,
           -0.7983
          ],
          [
           1,
           0.84,
           -0.2023
          ],
          [
           1,
           0.853,
           -0.8779
          ],
          [
           1,
           0.822,
           0.6327
          ],
          [
           1,
           0.799,
           0.6249
          ],
          [
           1,
           0.912,
           0.5267
          ],
          [
           1,
           0.791,
           0.4094
          ],
          [
           1,
           0.811,
           -0.8395
          ],
          [
           1,
           0.904,
           0.3971
          ],
          [
           1,
           0.843,
           0.5106
          ],
          [
           2,
           0.824,
           -0.4588
          ],
          [
           1,
           0.93,
           0.4215
          ],
          [
           1,
           0.718,
           0.6808
          ],
          [
           1,
           0.863,
           0.0772
          ],
          [
           1,
           0.56,
           -0.3818
          ],
          [
           1,
           0.708,
           -0.7074
          ],
          [
           1,
           0.844,
           -0.34
          ],
          [
           1,
           0.837,
           0.509
          ],
          [
           1,
           0.603,
           -0.4784
          ],
          [
           1,
           0.864,
           -0.1779
          ],
          [
           1,
           0.922,
           0.8176
          ],
          [
           1,
           1,
           0
          ],
          [
           1,
           0.847,
           -0.5696
          ],
          [
           1,
           0.794,
           0.4404
          ],
          [
           1,
           0.864,
           -0.4678
          ],
          [
           1,
           0.842,
           0.7783
          ],
          [
           1,
           0.85,
           0.8257
          ],
          [
           1,
           0.615,
           -0.7579
          ],
          [
           2,
           0.867,
           0.6868
          ],
          [
           5,
           0.717,
           0.9517
          ],
          [
           1,
           0.699,
           -0.2467
          ],
          [
           1,
           0.852,
           0.7263
          ],
          [
           1,
           0.624,
           -0.8779
          ],
          [
           1,
           0.586,
           -0.9755
          ],
          [
           1,
           0.921,
           -0.6249
          ],
          [
           1,
           0.844,
           -0.1779
          ],
          [
           1,
           0.812,
           -0.1027
          ],
          [
           1,
           0.625,
           -0.9725
          ],
          [
           2,
           0.855,
           0.1263
          ],
          [
           1,
           0.608,
           -0.6682
          ],
          [
           2,
           0.793,
           -0.4648
          ],
          [
           1,
           0.79,
           -0.9442
          ],
          [
           1,
           0.78,
           -0.0516
          ],
          [
           1,
           0.681,
           -0.9524
          ],
          [
           1,
           0.697,
           -0.743
          ],
          [
           1,
           0.673,
           0.4737
          ],
          [
           1,
           0.956,
           -0.296
          ],
          [
           1,
           0.848,
           0.4995
          ],
          [
           1,
           0.825,
           0.8689
          ],
          [
           1,
           0.892,
           0.7506
          ],
          [
           1,
           1,
           0
          ],
          [
           1,
           0.789,
           0.2481
          ],
          [
           1,
           0.856,
           -0.5719
          ],
          [
           1,
           0.674,
           -0.2263
          ],
          [
           2,
           0.794,
           0.4078
          ],
          [
           1,
           0.782,
           -0.795
          ],
          [
           1,
           0.756,
           0.7256
          ],
          [
           1,
           0.826,
           0.7579
          ],
          [
           3,
           1,
           0
          ],
          [
           1,
           0.813,
           0.024
          ],
          [
           1,
           0.839,
           -0.875
          ],
          [
           1,
           0.77,
           0.8504
          ],
          [
           1,
           0.706,
           0.4909
          ],
          [
           1,
           0.778,
           -0.6397
          ],
          [
           1,
           0.773,
           -0.7184
          ],
          [
           1,
           0.798,
           -0.6597
          ],
          [
           1,
           0.537,
           0.973
          ],
          [
           1,
           0.713,
           -0.7251
          ],
          [
           1,
           0.694,
           -0.9152
          ],
          [
           1,
           0.775,
           0.8271
          ],
          [
           1,
           0.688,
           0.8153
          ],
          [
           1,
           0.779,
           0.5067
          ],
          [
           1,
           0.752,
           0.752
          ],
          [
           1,
           0.976,
           0.0772
          ],
          [
           1,
           0.616,
           -0.7717
          ],
          [
           1,
           1,
           0
          ],
          [
           1,
           0.811,
           0.5849
          ],
          [
           1,
           0.792,
           -0.7506
          ],
          [
           1,
           0.738,
           -0.7946
          ],
          [
           1,
           0.694,
           -0.6929
          ],
          [
           1,
           0.618,
           -0.6666
          ],
          [
           5,
           0.643,
           0.9488
          ],
          [
           1,
           0.677,
           0.7543
          ],
          [
           4,
           0.798,
           0.8779
          ],
          [
           1,
           0.765,
           0.8894
          ],
          [
           1,
           1,
           0
          ],
          [
           1,
           0.85,
           0.5423
          ],
          [
           1,
           0.852,
           -0.4588
          ],
          [
           1,
           0.783,
           0.2023
          ],
          [
           1,
           0.85,
           0.7579
          ],
          [
           1,
           0.799,
           -0.7654
          ],
          [
           1,
           0.684,
           0.3887
          ],
          [
           1,
           0.774,
           0.872
          ],
          [
           1,
           0.819,
           -0.0772
          ],
          [
           1,
           0.673,
           -0.9322
          ],
          [
           5,
           0.577,
           0.899
          ],
          [
           2,
           0.772,
           -0.7527
          ],
          [
           5,
           0.354,
           0.9298
          ],
          [
           1,
           0.754,
           0.7096
          ],
          [
           1,
           0.696,
           0.9729
          ],
          [
           1,
           0.679,
           0.8522
          ],
          [
           1,
           0.841,
           0.7351
          ],
          [
           1,
           0.851,
           -0.4497
          ],
          [
           1,
           0.88,
           0.5541
          ],
          [
           1,
           0.741,
           0.893
          ],
          [
           5,
           0.635,
           0.617
          ],
          [
           1,
           0.764,
           -0.5126
          ],
          [
           1,
           0.674,
           -0.4588
          ],
          [
           1,
           0.533,
           -0.9722
          ],
          [
           4,
           0.702,
           -0.9196
          ],
          [
           3,
           0.775,
           0.8469
          ],
          [
           1,
           0.906,
           -0.25
          ],
          [
           1,
           0.844,
           -0.3147
          ],
          [
           2,
           0.849,
           -0.3182
          ],
          [
           1,
           0.672,
           0.701
          ],
          [
           1,
           0.721,
           -0.7345
          ],
          [
           1,
           0.796,
           -0.0943
          ],
          [
           1,
           0.811,
           -0.5859
          ],
          [
           1,
           0.777,
           0.0258
          ],
          [
           1,
           0.745,
           -0.9227
          ],
          [
           1,
           0.731,
           0.925
          ],
          [
           1,
           0.855,
           -0.25
          ],
          [
           1,
           0.629,
           0.9001
          ],
          [
           1,
           0.788,
           0.3794
          ],
          [
           1,
           0.83,
           0.8173
          ],
          [
           1,
           0.607,
           0.931
          ],
          [
           1,
           0.905,
           0.4939
          ],
          [
           1,
           0.92,
           -0.5106
          ],
          [
           1,
           0.901,
           -0.5106
          ],
          [
           4,
           0.722,
           0.2263
          ],
          [
           1,
           0.945,
           0.3802
          ],
          [
           1,
           0.78,
           -0.8271
          ],
          [
           1,
           0.925,
           0.5106
          ],
          [
           1,
           0.946,
           -0.3182
          ],
          [
           1,
           0.79,
           0.7845
          ],
          [
           2,
           0.715,
           -0.8832
          ],
          [
           3,
           0.758,
           0.872
          ],
          [
           1,
           0.717,
           -0.889
          ],
          [
           1,
           0.693,
           -0.924
          ],
          [
           1,
           0.796,
           0.8534
          ],
          [
           1,
           0.769,
           -0.6808
          ],
          [
           1,
           0.848,
           0.6876
          ],
          [
           1,
           0.825,
           -0.8625
          ],
          [
           1,
           0.871,
           -0.0772
          ],
          [
           2,
           0.815,
           -0.4316
          ],
          [
           1,
           0.74,
           -0.7579
          ],
          [
           1,
           0.774,
           -0.6103
          ],
          [
           1,
           0.613,
           -0.9701
          ],
          [
           1,
           0.797,
           -0.8316
          ],
          [
           1,
           0.813,
           -0.7556
          ],
          [
           1,
           0.966,
           0.144
          ],
          [
           1,
           0.916,
           -0.6705
          ],
          [
           1,
           0.895,
           -0.4019
          ]
         ],
         "hovertemplate": "neg=%{x}<br>pos=%{y}<br>ratings=%{customdata[0]}<br>neu=%{customdata[1]}<br>compound=%{customdata[2]}<br>cluster=%{marker.color}<extra></extra>",
         "legendgroup": "",
         "marker": {
          "color": [
           0,
           0,
           1,
           0,
           1,
           0,
           1,
           1,
           0,
           1,
           0,
           1,
           0,
           0,
           0,
           1,
           0,
           0,
           1,
           0,
           1,
           1,
           0,
           0,
           0,
           0,
           0,
           0,
           0,
           1,
           1,
           0,
           1,
           1,
           1,
           0,
           1,
           0,
           0,
           1,
           1,
           1,
           1,
           0,
           1,
           1,
           1,
           1,
           1,
           1,
           0,
           1,
           0,
           1,
           1,
           0,
           1,
           1,
           1,
           0,
           1,
           1,
           0,
           1,
           1,
           0,
           1,
           1,
           1,
           1,
           0,
           1,
           0,
           0,
           1,
           0,
           1,
           1,
           1,
           0,
           0,
           1,
           0,
           0,
           1,
           0,
           1,
           0,
           1,
           1,
           1,
           1,
           0,
           0,
           0,
           0,
           1,
           0,
           1,
           0,
           0,
           1,
           1,
           1,
           1,
           1,
           1,
           0,
           1,
           0,
           0,
           0,
           0,
           0,
           1,
           1,
           0,
           1,
           0,
           0,
           1,
           0,
           0,
           0,
           0,
           0,
           0,
           0,
           0,
           1,
           0,
           0,
           1,
           0,
           0,
           0,
           0,
           0,
           0,
           0,
           1,
           0,
           0,
           0,
           0,
           0,
           1,
           1,
           0,
           0,
           0,
           0,
           0,
           0,
           0,
           0,
           0,
           0,
           0,
           0,
           0,
           0,
           0,
           0,
           0,
           0,
           1,
           0,
           1,
           0,
           1,
           1,
           0,
           0,
           1,
           1,
           0,
           0,
           1,
           0,
           1,
           1,
           1,
           1,
           0,
           0,
           0,
           0,
           0,
           1,
           0,
           0,
           1,
           1,
           1,
           0,
           0,
           0,
           0,
           0,
           1,
           1,
           0,
           0,
           1,
           1,
           1,
           1,
           1,
           0,
           1,
           1,
           1,
           0,
           1,
           1,
           0,
           0,
           1,
           0,
           1,
           1,
           0,
           1,
           0,
           0,
           0,
           0,
           0,
           1,
           1,
           1,
           0,
           1,
           0,
           0,
           0,
           0,
           0,
           0,
           0,
           1,
           1,
           0,
           1,
           0,
           0,
           0,
           0,
           0,
           1,
           0,
           0,
           1,
           1,
           0,
           1,
           0,
           0,
           1,
           0,
           1,
           0,
           1,
           1,
           1,
           1,
           1,
           0,
           1,
           0,
           1,
           0,
           0,
           1,
           1,
           1,
           1,
           1,
           1,
           1,
           0,
           0,
           1,
           1,
           0,
           1,
           1,
           0,
           0,
           1,
           0,
           1,
           0,
           1,
           0,
           1,
           1,
           1,
           1,
           1,
           1,
           0,
           1,
           1,
           1,
           1,
           1,
           1,
           1,
           0,
           0,
           1,
           1,
           0,
           0,
           0,
           0,
           1,
           1,
           1,
           1,
           0,
           0,
           1,
           0,
           1,
           1,
           0,
           1,
           1,
           1,
           0,
           1,
           1,
           1,
           1,
           1,
           0,
           1,
           1,
           1,
           1,
           1,
           1,
           1,
           1,
           0,
           0,
           1,
           0,
           1,
           0,
           1,
           0,
           1,
           1,
           0,
           0,
           0,
           0,
           0,
           1,
           0,
           0,
           0,
           1,
           1,
           1,
           0,
           0,
           1,
           0,
           1,
           0,
           0,
           0,
           0,
           1,
           1,
           0,
           0,
           0,
           1,
           0,
           0,
           0,
           0,
           1,
           0,
           0,
           0,
           1,
           1,
           1,
           0,
           1,
           1,
           1,
           1,
           1,
           1,
           1,
           1,
           1,
           1,
           1,
           0,
           1,
           1,
           0,
           1,
           1,
           1,
           1,
           1,
           1,
           0,
           1,
           0,
           1,
           0,
           1,
           0,
           0,
           1,
           0,
           1,
           0,
           1,
           1,
           0,
           1,
           1,
           1,
           1,
           0,
           1,
           1,
           1,
           0,
           1,
           1,
           1,
           1,
           0,
           0,
           0,
           1,
           0,
           1,
           0,
           1,
           1,
           1,
           0,
           0,
           0,
           0,
           1,
           0,
           0,
           1,
           0,
           0,
           0,
           1,
           1,
           1,
           0,
           1,
           1,
           0,
           1,
           1,
           0,
           1,
           0,
           0,
           1,
           0,
           0,
           1,
           0,
           1,
           1,
           1,
           1,
           1,
           1,
           0,
           1,
           1,
           1,
           1,
           1,
           1,
           0,
           1,
           0,
           0,
           0,
           1,
           0,
           1,
           1,
           0,
           1,
           0,
           0,
           1,
           1,
           1,
           0,
           0,
           1,
           1,
           1,
           0,
           1,
           1,
           0,
           0,
           0,
           0,
           0,
           1,
           1,
           0,
           1,
           1,
           1,
           1,
           0,
           0,
           0,
           0,
           1,
           0,
           1,
           0,
           0,
           1,
           0,
           0,
           1,
           1,
           0,
           1,
           0,
           0,
           0,
           0,
           0,
           1,
           0,
           0,
           0,
           1,
           1,
           1,
           1,
           0,
           1,
           1,
           1,
           0,
           1,
           1,
           1,
           1,
           1,
           0,
           1,
           0,
           0,
           0,
           0,
           0,
           1,
           1,
           0,
           0,
           1,
           0,
           1,
           0,
           1,
           0,
           1,
           1,
           0,
           1,
           0,
           1,
           1,
           1,
           1,
           1,
           1,
           1,
           1,
           0,
           1,
           1
          ],
          "coloraxis": "coloraxis",
          "symbol": "circle"
         },
         "mode": "markers",
         "name": "",
         "orientation": "v",
         "showlegend": false,
         "type": "scatter",
         "x": [
          0.014,
          0.108,
          0.105,
          0,
          0.259,
          0.064,
          0.192,
          0.147,
          0,
          0.268,
          0.105,
          0.087,
          0.042,
          0.049,
          0,
          0.157,
          0,
          0,
          0.171,
          0.095,
          0.18,
          0.289,
          0.111,
          0,
          0.071,
          0.07,
          0.041,
          0.035,
          0.113,
          0.202,
          0.292,
          0,
          0.089,
          0.39,
          0.313,
          0.037,
          0.282,
          0.073,
          0.111,
          0.111,
          0.099,
          0.092,
          0.312,
          0.034,
          0.131,
          0,
          0.162,
          0.16,
          0.189,
          0.168,
          0.093,
          0.034,
          0.03,
          0.081,
          0.154,
          0,
          0.132,
          0.1,
          0.146,
          0.039,
          0.217,
          0.082,
          0.071,
          0.066,
          0.053,
          0.038,
          0.209,
          0.218,
          0.109,
          0.131,
          0,
          0.102,
          0,
          0,
          0.127,
          0,
          0.075,
          0.406,
          0.122,
          0.11,
          0,
          0.157,
          0,
          0.068,
          0.159,
          0,
          0.067,
          0.082,
          0.099,
          0.181,
          0.116,
          0.179,
          0.033,
          0.142,
          0.073,
          0.078,
          0.123,
          0.041,
          0.035,
          0,
          0.078,
          0.222,
          0.048,
          0.129,
          0.165,
          0.076,
          0.152,
          0.096,
          0.234,
          0,
          0,
          0.127,
          0.132,
          0.02,
          0.12,
          0.197,
          0.192,
          0,
          0,
          0,
          0.143,
          0,
          0,
          0.035,
          0,
          0,
          0.058,
          0.084,
          0.052,
          0.224,
          0,
          0,
          0.048,
          0.055,
          0,
          0.064,
          0.125,
          0,
          0,
          0,
          0.227,
          0,
          0.126,
          0,
          0,
          0,
          0.179,
          0.106,
          0,
          0.079,
          0.064,
          0.178,
          0,
          0.028,
          0,
          0,
          0,
          0,
          0,
          0.065,
          0.083,
          0.117,
          0,
          0,
          0.071,
          0,
          0.21,
          0.083,
          0.25,
          0.065,
          0.1,
          0.123,
          0.017,
          0,
          0.159,
          0.195,
          0.044,
          0.155,
          0.185,
          0,
          0.065,
          0,
          0.075,
          0.169,
          0.07,
          0.043,
          0.093,
          0.045,
          0,
          0.224,
          0.087,
          0,
          0.292,
          0.026,
          0.117,
          0.118,
          0.09,
          0.125,
          0.079,
          0,
          0.16,
          0.199,
          0.035,
          0.137,
          0.36,
          0.126,
          0.053,
          0.192,
          0.177,
          0,
          0.197,
          0.245,
          0.127,
          0.066,
          0.189,
          0.248,
          0,
          0.028,
          0.115,
          0.035,
          0.076,
          0.041,
          0.049,
          0.287,
          0,
          0.055,
          0,
          0.074,
          0,
          0.103,
          0,
          0.058,
          0,
          0.138,
          0,
          0,
          0.066,
          0.027,
          0.161,
          0,
          0.044,
          0.196,
          0.098,
          0.046,
          0.037,
          0,
          0,
          0,
          0.065,
          0,
          0.217,
          0,
          0.039,
          0.096,
          0.147,
          0,
          0.115,
          0,
          0.185,
          0.093,
          0.059,
          0.186,
          0.169,
          0.127,
          0.03,
          0.283,
          0.136,
          0.124,
          0,
          0.292,
          0,
          0.284,
          0.027,
          0.11,
          0.077,
          0.119,
          0.094,
          0.077,
          0.062,
          0.078,
          0.164,
          0,
          0.118,
          0.126,
          0.273,
          0,
          0.233,
          0.196,
          0.05,
          0.093,
          0.166,
          0.059,
          0.13,
          0.027,
          0.045,
          0.059,
          0.201,
          0.166,
          0.05,
          0.116,
          0.093,
          0.034,
          0.032,
          0.063,
          0.308,
          0.102,
          0.166,
          0.137,
          0.117,
          0.086,
          0.118,
          0.027,
          0.365,
          0.103,
          0.087,
          0.031,
          0.038,
          0.095,
          0.083,
          0.161,
          0.089,
          0.099,
          0.051,
          0.017,
          0.253,
          0.06,
          0.21,
          0.286,
          0.063,
          0.236,
          0.107,
          0.101,
          0.046,
          0.105,
          0.181,
          0.147,
          0.123,
          0.205,
          0.067,
          0.09,
          0.09,
          0.211,
          0.102,
          0.152,
          0.075,
          0.19,
          0.062,
          0,
          0.036,
          0.162,
          0.146,
          0.073,
          0.029,
          0.119,
          0,
          0.22,
          0.163,
          0.035,
          0,
          0.084,
          0.123,
          0,
          0.13,
          0,
          0.061,
          0,
          0.153,
          0.237,
          0.083,
          0.061,
          0.196,
          0.275,
          0.113,
          0.171,
          0.08,
          0,
          0.022,
          0.168,
          0.325,
          0.219,
          0.044,
          0.165,
          0.028,
          0.074,
          0.043,
          0.093,
          0.044,
          0.063,
          0.046,
          0.103,
          0,
          0,
          0.286,
          0.081,
          0.158,
          0,
          0.193,
          0.264,
          0.233,
          0.258,
          0.195,
          0.169,
          0.117,
          0.298,
          0.11,
          0.424,
          0.177,
          0.024,
          0.079,
          0.392,
          0,
          0.163,
          0.143,
          0.095,
          0.201,
          0.038,
          0.136,
          0.095,
          0.185,
          0.067,
          0.108,
          0,
          0.163,
          0,
          0.139,
          0,
          0.166,
          0.091,
          0.074,
          0.065,
          0,
          0.078,
          0.259,
          0.151,
          0.206,
          0.099,
          0.049,
          0.234,
          0.346,
          0.074,
          0.051,
          0.15,
          0.076,
          0.248,
          0.172,
          0.074,
          0,
          0.031,
          0.179,
          0.067,
          0.095,
          0.049,
          0.18,
          0.078,
          0.147,
          0.044,
          0.044,
          0.02,
          0.084,
          0.13,
          0.036,
          0.057,
          0.176,
          0,
          0.08,
          0.059,
          0.297,
          0.228,
          0.087,
          0.055,
          0.203,
          0.084,
          0,
          0,
          0.153,
          0,
          0.077,
          0.023,
          0,
          0.258,
          0,
          0,
          0.154,
          0.031,
          0.24,
          0.33,
          0.079,
          0.082,
          0.101,
          0.341,
          0.076,
          0.25,
          0.122,
          0.21,
          0.103,
          0.298,
          0.193,
          0.101,
          0.044,
          0,
          0,
          0,
          0,
          0.088,
          0.112,
          0.173,
          0.081,
          0.218,
          0.062,
          0.042,
          0,
          0.093,
          0.161,
          0.048,
          0.1,
          0.128,
          0.163,
          0.13,
          0.123,
          0.202,
          0.218,
          0.04,
          0.107,
          0.087,
          0.094,
          0,
          0.272,
          0,
          0.058,
          0.125,
          0.162,
          0.181,
          0.247,
          0,
          0.085,
          0.02,
          0.042,
          0,
          0.042,
          0.148,
          0.092,
          0.036,
          0.145,
          0.118,
          0.042,
          0.096,
          0.256,
          0.126,
          0.164,
          0,
          0.079,
          0,
          0.101,
          0,
          0.097,
          0.041,
          0.083,
          0.149,
          0.173,
          0.191,
          0.327,
          0.206,
          0.053,
          0.063,
          0.083,
          0.077,
          0.103,
          0.279,
          0.105,
          0.14,
          0.111,
          0.204,
          0.079,
          0.08,
          0.111,
          0.079,
          0.05,
          0.092,
          0,
          0.08,
          0.073,
          0.107,
          0.017,
          0.153,
          0,
          0.054,
          0.066,
          0.202,
          0.043,
          0.207,
          0.246,
          0.028,
          0.171,
          0.044,
          0.145,
          0.067,
          0.098,
          0.168,
          0.151,
          0.298,
          0.17,
          0.154,
          0,
          0.084,
          0.105
         ],
         "xaxis": "x",
         "y": [
          0.19,
          0.36,
          0.084,
          0.073,
          0,
          0.087,
          0.113,
          0.097,
          0.102,
          0.101,
          0.171,
          0,
          0.065,
          0.43,
          0.362,
          0,
          0.309,
          0.047,
          0.04,
          0.14,
          0.181,
          0.075,
          0.125,
          0.126,
          0.113,
          0.195,
          0.083,
          0.123,
          0.22,
          0,
          0.116,
          0.168,
          0.105,
          0.059,
          0.045,
          0.061,
          0,
          0.105,
          0.139,
          0.061,
          0,
          0.058,
          0.126,
          0.075,
          0.047,
          0,
          0.045,
          0,
          0.152,
          0.124,
          0.215,
          0.012,
          0.233,
          0,
          0,
          0.211,
          0.049,
          0.074,
          0.106,
          0.079,
          0.177,
          0.049,
          0.101,
          0,
          0.028,
          0.16,
          0.036,
          0.078,
          0,
          0.126,
          0.068,
          0.085,
          0.13,
          0.061,
          0.076,
          0.228,
          0.117,
          0,
          0.074,
          0.084,
          0.207,
          0.131,
          0.082,
          0.075,
          0.107,
          0.151,
          0.09,
          0.376,
          0.059,
          0.141,
          0.089,
          0,
          0.063,
          0.295,
          0.304,
          0.149,
          0.057,
          0.185,
          0.02,
          0.095,
          0.121,
          0.179,
          0.039,
          0.036,
          0.076,
          0.086,
          0.114,
          0.133,
          0.074,
          0.424,
          0.127,
          0.176,
          0.231,
          0.094,
          0.038,
          0.142,
          0.212,
          0,
          0.044,
          0.221,
          0,
          0.169,
          0.172,
          0.2,
          0.385,
          0.197,
          0.365,
          0.256,
          0.287,
          0.112,
          0.524,
          0.398,
          0.042,
          0.12,
          0.189,
          0.2,
          0.328,
          0.43,
          0.44,
          0.346,
          0.215,
          0.268,
          0.27,
          0.317,
          0.51,
          0.249,
          0.165,
          0,
          0.542,
          0.291,
          0.143,
          0.263,
          0.562,
          0.145,
          0.135,
          0.212,
          0.435,
          0.226,
          0.514,
          0.226,
          0.273,
          0.35,
          0.538,
          0.349,
          0.508,
          0.127,
          0.154,
          0.131,
          0,
          0.074,
          0.061,
          0.048,
          0.154,
          0.15,
          0,
          0.183,
          0.315,
          0.232,
          0.141,
          0.41,
          0.068,
          0,
          0.05,
          0.086,
          0.194,
          0.196,
          0.298,
          0.127,
          0.143,
          0.023,
          0.127,
          0.253,
          0.105,
          0,
          0.094,
          0.211,
          0.148,
          0.198,
          0.089,
          0.347,
          0,
          0.116,
          0.235,
          0.157,
          0,
          0.087,
          0.024,
          0,
          0,
          0.048,
          0.182,
          0.049,
          0.096,
          0.104,
          0.025,
          0,
          0.066,
          0.052,
          0,
          0.422,
          0.055,
          0,
          0.193,
          0.075,
          0.205,
          0.145,
          0.071,
          0.223,
          0.205,
          0.077,
          0,
          0.05,
          0.228,
          0.084,
          0.474,
          0.543,
          0.191,
          0.052,
          0.191,
          0.245,
          0.141,
          0,
          0.024,
          0.26,
          0,
          0.212,
          0.091,
          0.081,
          0.154,
          0.555,
          0.052,
          0.484,
          0.11,
          0.1,
          0.105,
          0.384,
          0,
          0.142,
          0.243,
          0.093,
          0.24,
          0.028,
          0.289,
          0,
          0,
          0.078,
          0.064,
          0.033,
          0.356,
          0.143,
          0.227,
          0.118,
          0.042,
          0.201,
          0.027,
          0.136,
          0.043,
          0,
          0,
          0.037,
          0.134,
          0.065,
          0.224,
          0.075,
          0.096,
          0.089,
          0.147,
          0.14,
          0.096,
          0.19,
          0.122,
          0.072,
          0.02,
          0.164,
          0.017,
          0.16,
          0.029,
          0.058,
          0,
          0.063,
          0.063,
          0.026,
          0.131,
          0.038,
          0.059,
          0.036,
          0.034,
          0.036,
          0.044,
          0.028,
          0.212,
          0.096,
          0,
          0.078,
          0.102,
          0.046,
          0.199,
          0.158,
          0,
          0,
          0.074,
          0.054,
          0.329,
          0.339,
          0.107,
          0.148,
          0.042,
          0.036,
          0.072,
          0.159,
          0.104,
          0,
          0.165,
          0.074,
          0.036,
          0.104,
          0.039,
          0.054,
          0.078,
          0.07,
          0.093,
          0.129,
          0,
          0.159,
          0.06,
          0.167,
          0.017,
          0.153,
          0.094,
          0.147,
          0.18,
          0,
          0.147,
          0,
          0.152,
          0.207,
          0.037,
          0.056,
          0.114,
          0.275,
          0.297,
          0.043,
          0.065,
          0.072,
          0.173,
          0.073,
          0.111,
          0,
          0.03,
          0.147,
          0.259,
          0.116,
          0.229,
          0.052,
          0.107,
          0.078,
          0.121,
          0.173,
          0.058,
          0.071,
          0.136,
          0.232,
          0.192,
          0.067,
          0.1,
          0.15,
          0.307,
          0.196,
          0.058,
          0.281,
          0.376,
          0.236,
          0,
          0.057,
          0,
          0.109,
          0.088,
          0.047,
          0,
          0.077,
          0.183,
          0,
          0.094,
          0.033,
          0,
          0,
          0,
          0.143,
          0.058,
          0.039,
          0.191,
          0.054,
          0.141,
          0.121,
          0.117,
          0,
          0.134,
          0.217,
          0,
          0.116,
          0.059,
          0.081,
          0.13,
          0.111,
          0.163,
          0,
          0.199,
          0.093,
          0.134,
          0.06,
          0,
          0.19,
          0.114,
          0.024,
          0,
          0.076,
          0.063,
          0.025,
          0.04,
          0.064,
          0.217,
          0,
          0.036,
          0.043,
          0.109,
          0.194,
          0.11,
          0.187,
          0.164,
          0.2,
          0.077,
          0.35,
          0,
          0.082,
          0,
          0.134,
          0.157,
          0.068,
          0.125,
          0.059,
          0.06,
          0.101,
          0,
          0.07,
          0.202,
          0.078,
          0.142,
          0.064,
          0.069,
          0.107,
          0.194,
          0.052,
          0.078,
          0,
          0,
          0.206,
          0.059,
          0.135,
          0.15,
          0.128,
          0.133,
          0.283,
          0.146,
          0.116,
          0.135,
          0.083,
          0,
          0.075,
          0.086,
          0.033,
          0.069,
          0.142,
          0.085,
          0,
          0.117,
          0.021,
          0.109,
          0.226,
          0,
          0.152,
          0.175,
          0.108,
          0,
          0.124,
          0.032,
          0.154,
          0.126,
          0,
          0.183,
          0.132,
          0,
          0.094,
          0,
          0.182,
          0.194,
          0.093,
          0.064,
          0.072,
          0.341,
          0.086,
          0.089,
          0.185,
          0.204,
          0.134,
          0.155,
          0.024,
          0.112,
          0,
          0.13,
          0.083,
          0.1,
          0.125,
          0.135,
          0.357,
          0.238,
          0.181,
          0.194,
          0,
          0.108,
          0,
          0.125,
          0.114,
          0.056,
          0.198,
          0.184,
          0.085,
          0.071,
          0.297,
          0.064,
          0.646,
          0.167,
          0.304,
          0.22,
          0.159,
          0.053,
          0.079,
          0.176,
          0.216,
          0.063,
          0.135,
          0.14,
          0.093,
          0.172,
          0.031,
          0.073,
          0.074,
          0.225,
          0,
          0.099,
          0.049,
          0.112,
          0.05,
          0.19,
          0.065,
          0.26,
          0.134,
          0.12,
          0.302,
          0.095,
          0,
          0.026,
          0.172,
          0.039,
          0.066,
          0.075,
          0,
          0.144,
          0.083,
          0.199,
          0.076,
          0.061,
          0.175,
          0.06,
          0.107,
          0.03,
          0.062,
          0.087,
          0.092,
          0.074,
          0.089,
          0.033,
          0.032,
          0.034,
          0,
          0
         ],
         "yaxis": "y"
        }
       ],
       "layout": {
        "coloraxis": {
         "colorbar": {
          "title": {
           "text": "cluster"
          }
         },
         "colorscale": [
          [
           0,
           "#0d0887"
          ],
          [
           0.1111111111111111,
           "#46039f"
          ],
          [
           0.2222222222222222,
           "#7201a8"
          ],
          [
           0.3333333333333333,
           "#9c179e"
          ],
          [
           0.4444444444444444,
           "#bd3786"
          ],
          [
           0.5555555555555556,
           "#d8576b"
          ],
          [
           0.6666666666666666,
           "#ed7953"
          ],
          [
           0.7777777777777778,
           "#fb9f3a"
          ],
          [
           0.8888888888888888,
           "#fdca26"
          ],
          [
           1,
           "#f0f921"
          ]
         ]
        },
        "legend": {
         "tracegroupgap": 0
        },
        "margin": {
         "t": 60
        },
        "template": {
         "data": {
          "bar": [
           {
            "error_x": {
             "color": "#2a3f5f"
            },
            "error_y": {
             "color": "#2a3f5f"
            },
            "marker": {
             "line": {
              "color": "#E5ECF6",
              "width": 0.5
             },
             "pattern": {
              "fillmode": "overlay",
              "size": 10,
              "solidity": 0.2
             }
            },
            "type": "bar"
           }
          ],
          "barpolar": [
           {
            "marker": {
             "line": {
              "color": "#E5ECF6",
              "width": 0.5
             },
             "pattern": {
              "fillmode": "overlay",
              "size": 10,
              "solidity": 0.2
             }
            },
            "type": "barpolar"
           }
          ],
          "carpet": [
           {
            "aaxis": {
             "endlinecolor": "#2a3f5f",
             "gridcolor": "white",
             "linecolor": "white",
             "minorgridcolor": "white",
             "startlinecolor": "#2a3f5f"
            },
            "baxis": {
             "endlinecolor": "#2a3f5f",
             "gridcolor": "white",
             "linecolor": "white",
             "minorgridcolor": "white",
             "startlinecolor": "#2a3f5f"
            },
            "type": "carpet"
           }
          ],
          "choropleth": [
           {
            "colorbar": {
             "outlinewidth": 0,
             "ticks": ""
            },
            "type": "choropleth"
           }
          ],
          "contour": [
           {
            "colorbar": {
             "outlinewidth": 0,
             "ticks": ""
            },
            "colorscale": [
             [
              0,
              "#0d0887"
             ],
             [
              0.1111111111111111,
              "#46039f"
             ],
             [
              0.2222222222222222,
              "#7201a8"
             ],
             [
              0.3333333333333333,
              "#9c179e"
             ],
             [
              0.4444444444444444,
              "#bd3786"
             ],
             [
              0.5555555555555556,
              "#d8576b"
             ],
             [
              0.6666666666666666,
              "#ed7953"
             ],
             [
              0.7777777777777778,
              "#fb9f3a"
             ],
             [
              0.8888888888888888,
              "#fdca26"
             ],
             [
              1,
              "#f0f921"
             ]
            ],
            "type": "contour"
           }
          ],
          "contourcarpet": [
           {
            "colorbar": {
             "outlinewidth": 0,
             "ticks": ""
            },
            "type": "contourcarpet"
           }
          ],
          "heatmap": [
           {
            "colorbar": {
             "outlinewidth": 0,
             "ticks": ""
            },
            "colorscale": [
             [
              0,
              "#0d0887"
             ],
             [
              0.1111111111111111,
              "#46039f"
             ],
             [
              0.2222222222222222,
              "#7201a8"
             ],
             [
              0.3333333333333333,
              "#9c179e"
             ],
             [
              0.4444444444444444,
              "#bd3786"
             ],
             [
              0.5555555555555556,
              "#d8576b"
             ],
             [
              0.6666666666666666,
              "#ed7953"
             ],
             [
              0.7777777777777778,
              "#fb9f3a"
             ],
             [
              0.8888888888888888,
              "#fdca26"
             ],
             [
              1,
              "#f0f921"
             ]
            ],
            "type": "heatmap"
           }
          ],
          "heatmapgl": [
           {
            "colorbar": {
             "outlinewidth": 0,
             "ticks": ""
            },
            "colorscale": [
             [
              0,
              "#0d0887"
             ],
             [
              0.1111111111111111,
              "#46039f"
             ],
             [
              0.2222222222222222,
              "#7201a8"
             ],
             [
              0.3333333333333333,
              "#9c179e"
             ],
             [
              0.4444444444444444,
              "#bd3786"
             ],
             [
              0.5555555555555556,
              "#d8576b"
             ],
             [
              0.6666666666666666,
              "#ed7953"
             ],
             [
              0.7777777777777778,
              "#fb9f3a"
             ],
             [
              0.8888888888888888,
              "#fdca26"
             ],
             [
              1,
              "#f0f921"
             ]
            ],
            "type": "heatmapgl"
           }
          ],
          "histogram": [
           {
            "marker": {
             "pattern": {
              "fillmode": "overlay",
              "size": 10,
              "solidity": 0.2
             }
            },
            "type": "histogram"
           }
          ],
          "histogram2d": [
           {
            "colorbar": {
             "outlinewidth": 0,
             "ticks": ""
            },
            "colorscale": [
             [
              0,
              "#0d0887"
             ],
             [
              0.1111111111111111,
              "#46039f"
             ],
             [
              0.2222222222222222,
              "#7201a8"
             ],
             [
              0.3333333333333333,
              "#9c179e"
             ],
             [
              0.4444444444444444,
              "#bd3786"
             ],
             [
              0.5555555555555556,
              "#d8576b"
             ],
             [
              0.6666666666666666,
              "#ed7953"
             ],
             [
              0.7777777777777778,
              "#fb9f3a"
             ],
             [
              0.8888888888888888,
              "#fdca26"
             ],
             [
              1,
              "#f0f921"
             ]
            ],
            "type": "histogram2d"
           }
          ],
          "histogram2dcontour": [
           {
            "colorbar": {
             "outlinewidth": 0,
             "ticks": ""
            },
            "colorscale": [
             [
              0,
              "#0d0887"
             ],
             [
              0.1111111111111111,
              "#46039f"
             ],
             [
              0.2222222222222222,
              "#7201a8"
             ],
             [
              0.3333333333333333,
              "#9c179e"
             ],
             [
              0.4444444444444444,
              "#bd3786"
             ],
             [
              0.5555555555555556,
              "#d8576b"
             ],
             [
              0.6666666666666666,
              "#ed7953"
             ],
             [
              0.7777777777777778,
              "#fb9f3a"
             ],
             [
              0.8888888888888888,
              "#fdca26"
             ],
             [
              1,
              "#f0f921"
             ]
            ],
            "type": "histogram2dcontour"
           }
          ],
          "mesh3d": [
           {
            "colorbar": {
             "outlinewidth": 0,
             "ticks": ""
            },
            "type": "mesh3d"
           }
          ],
          "parcoords": [
           {
            "line": {
             "colorbar": {
              "outlinewidth": 0,
              "ticks": ""
             }
            },
            "type": "parcoords"
           }
          ],
          "pie": [
           {
            "automargin": true,
            "type": "pie"
           }
          ],
          "scatter": [
           {
            "fillpattern": {
             "fillmode": "overlay",
             "size": 10,
             "solidity": 0.2
            },
            "type": "scatter"
           }
          ],
          "scatter3d": [
           {
            "line": {
             "colorbar": {
              "outlinewidth": 0,
              "ticks": ""
             }
            },
            "marker": {
             "colorbar": {
              "outlinewidth": 0,
              "ticks": ""
             }
            },
            "type": "scatter3d"
           }
          ],
          "scattercarpet": [
           {
            "marker": {
             "colorbar": {
              "outlinewidth": 0,
              "ticks": ""
             }
            },
            "type": "scattercarpet"
           }
          ],
          "scattergeo": [
           {
            "marker": {
             "colorbar": {
              "outlinewidth": 0,
              "ticks": ""
             }
            },
            "type": "scattergeo"
           }
          ],
          "scattergl": [
           {
            "marker": {
             "colorbar": {
              "outlinewidth": 0,
              "ticks": ""
             }
            },
            "type": "scattergl"
           }
          ],
          "scattermapbox": [
           {
            "marker": {
             "colorbar": {
              "outlinewidth": 0,
              "ticks": ""
             }
            },
            "type": "scattermapbox"
           }
          ],
          "scatterpolar": [
           {
            "marker": {
             "colorbar": {
              "outlinewidth": 0,
              "ticks": ""
             }
            },
            "type": "scatterpolar"
           }
          ],
          "scatterpolargl": [
           {
            "marker": {
             "colorbar": {
              "outlinewidth": 0,
              "ticks": ""
             }
            },
            "type": "scatterpolargl"
           }
          ],
          "scatterternary": [
           {
            "marker": {
             "colorbar": {
              "outlinewidth": 0,
              "ticks": ""
             }
            },
            "type": "scatterternary"
           }
          ],
          "surface": [
           {
            "colorbar": {
             "outlinewidth": 0,
             "ticks": ""
            },
            "colorscale": [
             [
              0,
              "#0d0887"
             ],
             [
              0.1111111111111111,
              "#46039f"
             ],
             [
              0.2222222222222222,
              "#7201a8"
             ],
             [
              0.3333333333333333,
              "#9c179e"
             ],
             [
              0.4444444444444444,
              "#bd3786"
             ],
             [
              0.5555555555555556,
              "#d8576b"
             ],
             [
              0.6666666666666666,
              "#ed7953"
             ],
             [
              0.7777777777777778,
              "#fb9f3a"
             ],
             [
              0.8888888888888888,
              "#fdca26"
             ],
             [
              1,
              "#f0f921"
             ]
            ],
            "type": "surface"
           }
          ],
          "table": [
           {
            "cells": {
             "fill": {
              "color": "#EBF0F8"
             },
             "line": {
              "color": "white"
             }
            },
            "header": {
             "fill": {
              "color": "#C8D4E3"
             },
             "line": {
              "color": "white"
             }
            },
            "type": "table"
           }
          ]
         },
         "layout": {
          "annotationdefaults": {
           "arrowcolor": "#2a3f5f",
           "arrowhead": 0,
           "arrowwidth": 1
          },
          "autotypenumbers": "strict",
          "coloraxis": {
           "colorbar": {
            "outlinewidth": 0,
            "ticks": ""
           }
          },
          "colorscale": {
           "diverging": [
            [
             0,
             "#8e0152"
            ],
            [
             0.1,
             "#c51b7d"
            ],
            [
             0.2,
             "#de77ae"
            ],
            [
             0.3,
             "#f1b6da"
            ],
            [
             0.4,
             "#fde0ef"
            ],
            [
             0.5,
             "#f7f7f7"
            ],
            [
             0.6,
             "#e6f5d0"
            ],
            [
             0.7,
             "#b8e186"
            ],
            [
             0.8,
             "#7fbc41"
            ],
            [
             0.9,
             "#4d9221"
            ],
            [
             1,
             "#276419"
            ]
           ],
           "sequential": [
            [
             0,
             "#0d0887"
            ],
            [
             0.1111111111111111,
             "#46039f"
            ],
            [
             0.2222222222222222,
             "#7201a8"
            ],
            [
             0.3333333333333333,
             "#9c179e"
            ],
            [
             0.4444444444444444,
             "#bd3786"
            ],
            [
             0.5555555555555556,
             "#d8576b"
            ],
            [
             0.6666666666666666,
             "#ed7953"
            ],
            [
             0.7777777777777778,
             "#fb9f3a"
            ],
            [
             0.8888888888888888,
             "#fdca26"
            ],
            [
             1,
             "#f0f921"
            ]
           ],
           "sequentialminus": [
            [
             0,
             "#0d0887"
            ],
            [
             0.1111111111111111,
             "#46039f"
            ],
            [
             0.2222222222222222,
             "#7201a8"
            ],
            [
             0.3333333333333333,
             "#9c179e"
            ],
            [
             0.4444444444444444,
             "#bd3786"
            ],
            [
             0.5555555555555556,
             "#d8576b"
            ],
            [
             0.6666666666666666,
             "#ed7953"
            ],
            [
             0.7777777777777778,
             "#fb9f3a"
            ],
            [
             0.8888888888888888,
             "#fdca26"
            ],
            [
             1,
             "#f0f921"
            ]
           ]
          },
          "colorway": [
           "#636efa",
           "#EF553B",
           "#00cc96",
           "#ab63fa",
           "#FFA15A",
           "#19d3f3",
           "#FF6692",
           "#B6E880",
           "#FF97FF",
           "#FECB52"
          ],
          "font": {
           "color": "#2a3f5f"
          },
          "geo": {
           "bgcolor": "white",
           "lakecolor": "white",
           "landcolor": "#E5ECF6",
           "showlakes": true,
           "showland": true,
           "subunitcolor": "white"
          },
          "hoverlabel": {
           "align": "left"
          },
          "hovermode": "closest",
          "mapbox": {
           "style": "light"
          },
          "paper_bgcolor": "white",
          "plot_bgcolor": "#E5ECF6",
          "polar": {
           "angularaxis": {
            "gridcolor": "white",
            "linecolor": "white",
            "ticks": ""
           },
           "bgcolor": "#E5ECF6",
           "radialaxis": {
            "gridcolor": "white",
            "linecolor": "white",
            "ticks": ""
           }
          },
          "scene": {
           "xaxis": {
            "backgroundcolor": "#E5ECF6",
            "gridcolor": "white",
            "gridwidth": 2,
            "linecolor": "white",
            "showbackground": true,
            "ticks": "",
            "zerolinecolor": "white"
           },
           "yaxis": {
            "backgroundcolor": "#E5ECF6",
            "gridcolor": "white",
            "gridwidth": 2,
            "linecolor": "white",
            "showbackground": true,
            "ticks": "",
            "zerolinecolor": "white"
           },
           "zaxis": {
            "backgroundcolor": "#E5ECF6",
            "gridcolor": "white",
            "gridwidth": 2,
            "linecolor": "white",
            "showbackground": true,
            "ticks": "",
            "zerolinecolor": "white"
           }
          },
          "shapedefaults": {
           "line": {
            "color": "#2a3f5f"
           }
          },
          "ternary": {
           "aaxis": {
            "gridcolor": "white",
            "linecolor": "white",
            "ticks": ""
           },
           "baxis": {
            "gridcolor": "white",
            "linecolor": "white",
            "ticks": ""
           },
           "bgcolor": "#E5ECF6",
           "caxis": {
            "gridcolor": "white",
            "linecolor": "white",
            "ticks": ""
           }
          },
          "title": {
           "x": 0.05
          },
          "xaxis": {
           "automargin": true,
           "gridcolor": "white",
           "linecolor": "white",
           "ticks": "",
           "title": {
            "standoff": 15
           },
           "zerolinecolor": "white",
           "zerolinewidth": 2
          },
          "yaxis": {
           "automargin": true,
           "gridcolor": "white",
           "linecolor": "white",
           "ticks": "",
           "title": {
            "standoff": 15
           },
           "zerolinecolor": "white",
           "zerolinewidth": 2
          }
         }
        },
        "xaxis": {
         "anchor": "y",
         "domain": [
          0,
          1
         ],
         "title": {
          "text": "neg"
         }
        },
        "yaxis": {
         "anchor": "x",
         "domain": [
          0,
          1
         ],
         "title": {
          "text": "pos"
         }
        }
       }
      }
     },
     "metadata": {},
     "output_type": "display_data"
    }
   ],
   "source": [
    "fig = px.scatter(df, x = 'neg', y = 'pos', color='cluster', hover_data=['ratings','neg','neu','pos','compound'])\n",
    "fig.show()"
   ]
  },
  {
   "cell_type": "markdown",
   "id": "d46d90ae",
   "metadata": {},
   "source": [
    "At a glance, it looks like it is mostly split between positive and negative compound scores... which.. makes sense."
   ]
  },
  {
   "cell_type": "markdown",
   "id": "28e43205",
   "metadata": {},
   "source": [
    "Perhaps if we look deeper into the individual reviews, what kinds of patterns might we notice between the two clusters?"
   ]
  },
  {
   "cell_type": "code",
   "execution_count": 37,
   "id": "b3edbd4b",
   "metadata": {},
   "outputs": [
    {
     "name": "stdout",
     "output_type": "stream",
     "text": [
      "The staff Alexa was very kind and helpful. I had donated 20 pizzas to my children's graduation party/dance. I went in person to make sure I placed such a large order correctly and was going to be delivered to the correct place at the proper time. I asked about getting my reward points for this extremely large order. The staff said “I’m sorry I can’t get a receipt right now”. However, I went back in a few days later she was able to print a receipt out for me and gave me a phone number to call customer service to ask that the points to be added. Customer service said the points weren’t added because they didn’t have my phone number or my name. I sent a copy of the receipt circle the top in red that has my name in phone number on it. That is how I place the order in the first place. \n",
      "\n",
      "I ordered 4 pizzas One veggie lover, one cheese lover and two Great Beyond pizzas. When checked the toppings of the great beyond, all we got were the Soya chunks where it should be Beyond meat Italian sausage crumbles. Either the recipe is wrong or the local store is cutting corners. When called later to report this, no credit or anything just \"should've called the same day and this is only customer service you can get\". What a \"GREAT scam\" in the name of the \"Great beyond\".\n",
      "\n",
      "I do not suggest you order from Pizza Hut, I literally paid 25 dollars for half cooked pizza and cinnamon sticks. On top of that, I ordered 2 drinks and they only gave me one. Not ordering pizza from there anymore\n",
      "\n",
      "We keep giving Pizza Hut a chance, but no longer. From the time we order to the time we receive our food by delivery, it has taken consistently 2 1/2 hours to 3 hours. This is after the order taker claims 30 to 40 minutes. Last night, 5/2/2022, we ordered a pie approx 6:15. Was told expect deliver within 45 minutes. At 7:30, called store and they claim waiting for Door Dash to pick it up. The store is approx 5 minutes from the house. So at this point, the pie has been ready sitting under a heat lamp since approx 6:45. (Was told about 20 -25 minutes to be prepared and ready). At 8:30 pm, called again and they indicated door dash has not come to pick up the order. So why the hell do they take delivery orders if they can't get it delivered in a timely manner. Ended up cancelling order.\n",
      "\n",
      "We order to a shop close to our house. Whenever we order we get no dipping when we ask for it. The toppings are very little quantity. Example; the chicken are only like 1-2 per slice compared to other stuff.\n",
      "\n"
     ]
    }
   ],
   "source": [
    "counter = 0\n",
    "for row in df[df['cluster'] == 0].itertuples():\n",
    "    if counter == 5:\n",
    "        break\n",
    "        \n",
    "    print(row.review)\n",
    "    print()\n",
    "    \n",
    "    counter = counter + 1"
   ]
  },
  {
   "cell_type": "code",
   "execution_count": 38,
   "id": "1ccc283c",
   "metadata": {},
   "outputs": [
    {
     "name": "stdout",
     "output_type": "stream",
     "text": [
      "My experience was bad. Had a long day, want to grab a quick pizza on way home, did not want to be on internet and driving so I just stop, walked in, order. Got the large 3 topping pizza. When I saw she charged me 18.50 instead of 10 dollars they are advertising, she tells me I have to order online to get it 10 dollars. Why, it's still the same pizza. Also ran into a litter bird that work at 6625 Dixie highway Miami fl 33143. Told me at end of night they re-ring the orders, and pocket the extra for the people they overcharged on the deal pizzas.??? FYI mostly managers but split with some people that want talk. \n",
      "\n",
      "Pizza Hut is a scam! I never got my pizza delivered to my house! This is terrible service. Don't order from Pizza Hut! They wouldn't let me add ingredients. I found spit in my pizza and nails in the cheese.\n",
      "\n",
      "I think it's sad that the Salt and Pepper of Pizza Hut is now charged for. Grated Parmesan and Red pepper flakes should be on the table just like salt and pepper is at any other restaurant. This is absurd.. You are going to put yourselves out of business by charging for the simplest things!!! I'm surprised we didn't have to pay for a to-go box!!!!\n",
      "\n",
      "\"Dear sir, Order number Your Order No ** has been dispatched and will be delivered soon by Harman,\"  This order That was fraud as in system tracking delivered 20 minutes prior the delivery boy reached. Moreover pizza was not hot and delivery boy acknowledge that backend team is forcing them to deliver in system even if physical order delivery is pending. Delivery took around 55 minutes bro deliver. Poor service by Pizza Hut. Quality degraded as compared to Domino's and La Pino pizza brands. I will not order and will escalate on social media till satisfactory action is taken from your side\n",
      "\n",
      "I have called to order a pizza from Pizza Hut in Harrisonburg VA and the last 2 times and today they have hung up on me, or pretended to not hear me. Answered and said they'll call me back and hung up... no call back. It's ridiculous at this point its been several different occasions. I don't complain ever but I honestly had to say something, it's that bad and wrong. Very very disappointed I like their pizza but I'm switching to Domino's!\n",
      "\n"
     ]
    }
   ],
   "source": [
    "counter = 0\n",
    "for row in df[df['cluster'] == 1].itertuples():\n",
    "    if counter == 5:\n",
    "        break\n",
    "        \n",
    "    print(row.review)\n",
    "    print()\n",
    "    \n",
    "    counter = counter + 1"
   ]
  },
  {
   "cell_type": "markdown",
   "id": "bd93e1fe",
   "metadata": {},
   "source": [
    "## Extra model!"
   ]
  },
  {
   "cell_type": "markdown",
   "id": "ac0b909d",
   "metadata": {},
   "source": [
    "Just an extra model using TFIDF to cluster using individual words instead of sentiment scores. Then displays the keywords for each cluster. Example from [here](https://www.kaggle.com/code/rahulvks/customer-review-analysis)."
   ]
  },
  {
   "cell_type": "code",
   "execution_count": 39,
   "id": "0140c0b6",
   "metadata": {},
   "outputs": [],
   "source": [
    "from sklearn.feature_extraction.text import TfidfVectorizer"
   ]
  },
  {
   "cell_type": "code",
   "execution_count": 40,
   "id": "1c241345",
   "metadata": {},
   "outputs": [],
   "source": [
    "vectorizer = TfidfVectorizer(max_df=0.5,max_features=10000,min_df=10,stop_words='english',use_idf=True)\n",
    "model = vectorizer.fit_transform(df['cleaned_reviews'].str.upper())"
   ]
  },
  {
   "cell_type": "code",
   "execution_count": 41,
   "id": "2d9acdee",
   "metadata": {},
   "outputs": [
    {
     "name": "stdout",
     "output_type": "stream",
     "text": [
      "cluster 0: called said delivery told store minutes time service manager customer\n",
      "cluster 1: cheese crust sauce ordered like time pizzas good toppings got\n"
     ]
    }
   ],
   "source": [
    "km = KMeans(n_clusters=2,n_init = 10)\n",
    "km.fit(model)\n",
    "\n",
    "terms = vectorizer.get_feature_names_out()\n",
    "order_centroids = km.cluster_centers_.argsort()[:,::-1]\n",
    "for i in range(2):\n",
    "    print(\"cluster %d:\" %i,end='')\n",
    "    for ind in order_centroids[i,:10]:\n",
    "        print(' %s' % terms[ind],end='')\n",
    "    print()    "
   ]
  },
  {
   "cell_type": "markdown",
   "id": "5e6e061a",
   "metadata": {},
   "source": [
    "<hr>"
   ]
  },
  {
   "cell_type": "markdown",
   "id": "3a13c027",
   "metadata": {},
   "source": [
    "## Agglomerative clustering"
   ]
  },
  {
   "cell_type": "code",
   "execution_count": 42,
   "id": "f871c181",
   "metadata": {},
   "outputs": [],
   "source": [
    "from sklearn.cluster import AgglomerativeClustering"
   ]
  },
  {
   "cell_type": "markdown",
   "id": "b1cf925f",
   "metadata": {},
   "source": [
    "Let's use the same X as above."
   ]
  },
  {
   "cell_type": "code",
   "execution_count": 43,
   "id": "6545f1ad",
   "metadata": {},
   "outputs": [
    {
     "data": {
      "application/vnd.microsoft.datawrangler.viewer.v0+json": {
       "columns": [
        {
         "name": "index",
         "rawType": "int64",
         "type": "integer"
        },
        {
         "name": "neg",
         "rawType": "float64",
         "type": "float"
        },
        {
         "name": "neu",
         "rawType": "float64",
         "type": "float"
        },
        {
         "name": "pos",
         "rawType": "float64",
         "type": "float"
        },
        {
         "name": "compound",
         "rawType": "float64",
         "type": "float"
        }
       ],
       "conversionMethod": "pd.DataFrame",
       "ref": "26a0e2b6-d3a8-422d-81d4-5b5ec0ec5b54",
       "rows": [
        [
         "0",
         "0.014",
         "0.796",
         "0.19",
         "0.9274"
        ],
        [
         "1",
         "0.108",
         "0.532",
         "0.36",
         "0.9699"
        ],
        [
         "2",
         "0.105",
         "0.811",
         "0.084",
         "-0.5584"
        ],
        [
         "3",
         "0.0",
         "0.927",
         "0.073",
         "0.2023"
        ],
        [
         "4",
         "0.259",
         "0.741",
         "0.0",
         "-0.826"
        ],
        [
         "5",
         "0.064",
         "0.85",
         "0.087",
         "0.0953"
        ],
        [
         "6",
         "0.192",
         "0.695",
         "0.113",
         "-0.471"
        ],
        [
         "7",
         "0.147",
         "0.756",
         "0.097",
         "-0.7269"
        ],
        [
         "8",
         "0.0",
         "0.898",
         "0.102",
         "0.3612"
        ],
        [
         "9",
         "0.268",
         "0.631",
         "0.101",
         "-0.8593"
        ],
        [
         "10",
         "0.105",
         "0.724",
         "0.171",
         "0.595"
        ],
        [
         "11",
         "0.087",
         "0.913",
         "0.0",
         "-0.4939"
        ],
        [
         "12",
         "0.042",
         "0.893",
         "0.065",
         "0.1174"
        ],
        [
         "13",
         "0.049",
         "0.521",
         "0.43",
         "0.9393"
        ],
        [
         "14",
         "0.0",
         "0.638",
         "0.362",
         "0.9098"
        ],
        [
         "15",
         "0.157",
         "0.843",
         "0.0",
         "-0.6981"
        ],
        [
         "16",
         "0.0",
         "0.691",
         "0.309",
         "0.6908"
        ],
        [
         "17",
         "0.0",
         "0.953",
         "0.047",
         "0.4019"
        ],
        [
         "18",
         "0.171",
         "0.789",
         "0.04",
         "-0.8689"
        ],
        [
         "19",
         "0.095",
         "0.765",
         "0.14",
         "0.5423"
        ],
        [
         "20",
         "0.18",
         "0.639",
         "0.181",
         "-0.2263"
        ],
        [
         "21",
         "0.289",
         "0.635",
         "0.075",
         "-0.7964"
        ],
        [
         "22",
         "0.111",
         "0.764",
         "0.125",
         "0.1027"
        ],
        [
         "23",
         "0.0",
         "0.874",
         "0.126",
         "0.3818"
        ],
        [
         "24",
         "0.071",
         "0.816",
         "0.113",
         "0.3365"
        ],
        [
         "25",
         "0.07",
         "0.735",
         "0.195",
         "0.4696"
        ],
        [
         "26",
         "0.041",
         "0.877",
         "0.083",
         "0.3818"
        ],
        [
         "27",
         "0.035",
         "0.842",
         "0.123",
         "0.6486"
        ],
        [
         "28",
         "0.113",
         "0.667",
         "0.22",
         "0.4951"
        ],
        [
         "29",
         "0.202",
         "0.798",
         "0.0",
         "-0.765"
        ],
        [
         "30",
         "0.292",
         "0.593",
         "0.116",
         "-0.8908"
        ],
        [
         "31",
         "0.0",
         "0.832",
         "0.168",
         "0.8264"
        ],
        [
         "32",
         "0.089",
         "0.807",
         "0.105",
         "-0.3384"
        ],
        [
         "33",
         "0.39",
         "0.551",
         "0.059",
         "-0.9348"
        ],
        [
         "34",
         "0.313",
         "0.642",
         "0.045",
         "-0.8885"
        ],
        [
         "35",
         "0.037",
         "0.901",
         "0.061",
         "0.1027"
        ],
        [
         "36",
         "0.282",
         "0.718",
         "0.0",
         "-0.9361"
        ],
        [
         "37",
         "0.073",
         "0.822",
         "0.105",
         "0.4767"
        ],
        [
         "38",
         "0.111",
         "0.75",
         "0.139",
         "0.4885"
        ],
        [
         "39",
         "0.111",
         "0.827",
         "0.061",
         "-0.4939"
        ],
        [
         "40",
         "0.099",
         "0.901",
         "0.0",
         "-0.3182"
        ],
        [
         "41",
         "0.092",
         "0.849",
         "0.058",
         "-0.2023"
        ],
        [
         "42",
         "0.312",
         "0.561",
         "0.126",
         "-0.942"
        ],
        [
         "43",
         "0.034",
         "0.891",
         "0.075",
         "0.4215"
        ],
        [
         "44",
         "0.131",
         "0.822",
         "0.047",
         "-0.6705"
        ],
        [
         "45",
         "0.0",
         "1.0",
         "0.0",
         "0.0"
        ],
        [
         "46",
         "0.162",
         "0.793",
         "0.045",
         "-0.7559"
        ],
        [
         "47",
         "0.16",
         "0.84",
         "0.0",
         "-0.7691"
        ],
        [
         "48",
         "0.189",
         "0.659",
         "0.152",
         "-0.3182"
        ],
        [
         "49",
         "0.168",
         "0.707",
         "0.124",
         "-0.2023"
        ]
       ],
       "shape": {
        "columns": 4,
        "rows": 605
       }
      },
      "text/html": [
       "<div>\n",
       "<style scoped>\n",
       "    .dataframe tbody tr th:only-of-type {\n",
       "        vertical-align: middle;\n",
       "    }\n",
       "\n",
       "    .dataframe tbody tr th {\n",
       "        vertical-align: top;\n",
       "    }\n",
       "\n",
       "    .dataframe thead th {\n",
       "        text-align: right;\n",
       "    }\n",
       "</style>\n",
       "<table border=\"1\" class=\"dataframe\">\n",
       "  <thead>\n",
       "    <tr style=\"text-align: right;\">\n",
       "      <th></th>\n",
       "      <th>neg</th>\n",
       "      <th>neu</th>\n",
       "      <th>pos</th>\n",
       "      <th>compound</th>\n",
       "    </tr>\n",
       "  </thead>\n",
       "  <tbody>\n",
       "    <tr>\n",
       "      <th>0</th>\n",
       "      <td>0.014</td>\n",
       "      <td>0.796</td>\n",
       "      <td>0.190</td>\n",
       "      <td>0.9274</td>\n",
       "    </tr>\n",
       "    <tr>\n",
       "      <th>1</th>\n",
       "      <td>0.108</td>\n",
       "      <td>0.532</td>\n",
       "      <td>0.360</td>\n",
       "      <td>0.9699</td>\n",
       "    </tr>\n",
       "    <tr>\n",
       "      <th>2</th>\n",
       "      <td>0.105</td>\n",
       "      <td>0.811</td>\n",
       "      <td>0.084</td>\n",
       "      <td>-0.5584</td>\n",
       "    </tr>\n",
       "    <tr>\n",
       "      <th>3</th>\n",
       "      <td>0.000</td>\n",
       "      <td>0.927</td>\n",
       "      <td>0.073</td>\n",
       "      <td>0.2023</td>\n",
       "    </tr>\n",
       "    <tr>\n",
       "      <th>4</th>\n",
       "      <td>0.259</td>\n",
       "      <td>0.741</td>\n",
       "      <td>0.000</td>\n",
       "      <td>-0.8260</td>\n",
       "    </tr>\n",
       "    <tr>\n",
       "      <th>...</th>\n",
       "      <td>...</td>\n",
       "      <td>...</td>\n",
       "      <td>...</td>\n",
       "      <td>...</td>\n",
       "    </tr>\n",
       "    <tr>\n",
       "      <th>600</th>\n",
       "      <td>0.170</td>\n",
       "      <td>0.797</td>\n",
       "      <td>0.033</td>\n",
       "      <td>-0.8316</td>\n",
       "    </tr>\n",
       "    <tr>\n",
       "      <th>601</th>\n",
       "      <td>0.154</td>\n",
       "      <td>0.813</td>\n",
       "      <td>0.032</td>\n",
       "      <td>-0.7556</td>\n",
       "    </tr>\n",
       "    <tr>\n",
       "      <th>602</th>\n",
       "      <td>0.000</td>\n",
       "      <td>0.966</td>\n",
       "      <td>0.034</td>\n",
       "      <td>0.1440</td>\n",
       "    </tr>\n",
       "    <tr>\n",
       "      <th>603</th>\n",
       "      <td>0.084</td>\n",
       "      <td>0.916</td>\n",
       "      <td>0.000</td>\n",
       "      <td>-0.6705</td>\n",
       "    </tr>\n",
       "    <tr>\n",
       "      <th>604</th>\n",
       "      <td>0.105</td>\n",
       "      <td>0.895</td>\n",
       "      <td>0.000</td>\n",
       "      <td>-0.4019</td>\n",
       "    </tr>\n",
       "  </tbody>\n",
       "</table>\n",
       "<p>605 rows × 4 columns</p>\n",
       "</div>"
      ],
      "text/plain": [
       "       neg    neu    pos  compound\n",
       "0    0.014  0.796  0.190    0.9274\n",
       "1    0.108  0.532  0.360    0.9699\n",
       "2    0.105  0.811  0.084   -0.5584\n",
       "3    0.000  0.927  0.073    0.2023\n",
       "4    0.259  0.741  0.000   -0.8260\n",
       "..     ...    ...    ...       ...\n",
       "600  0.170  0.797  0.033   -0.8316\n",
       "601  0.154  0.813  0.032   -0.7556\n",
       "602  0.000  0.966  0.034    0.1440\n",
       "603  0.084  0.916  0.000   -0.6705\n",
       "604  0.105  0.895  0.000   -0.4019\n",
       "\n",
       "[605 rows x 4 columns]"
      ]
     },
     "execution_count": 43,
     "metadata": {},
     "output_type": "execute_result"
    }
   ],
   "source": [
    "X"
   ]
  },
  {
   "cell_type": "code",
   "execution_count": 44,
   "id": "797578b9",
   "metadata": {},
   "outputs": [
    {
     "data": {
      "image/png": "[encoded data removed]",
      "text/plain": [
       "<Figure size 1000x700 with 1 Axes>"
      ]
     },
     "metadata": {},
     "output_type": "display_data"
    }
   ],
   "source": [
    "#Create and display a dendrogram\n",
    "import scipy.cluster.hierarchy as shc\n",
    "plt.figure(figsize=(10, 7))  \n",
    "plt.title('Dendrogram')\n",
    "plt.xlabel('Reviews')\n",
    "plt.ylabel('Euclidean distances')\n",
    "plt.axhline(y=825, color='r', linestyle='--')\n",
    "plt.axhline(y=1575, color='r', linestyle='--')\n",
    "dend = shc.dendrogram(shc.linkage(X, method='ward'))\n"
   ]
  },
  {
   "cell_type": "markdown",
   "id": "a83cac7f",
   "metadata": {},
   "source": [
    "To read a dendrogram to find the optimal number of clusters, find the section with the highest width. the number of lines (in this example the blue lines) intersecting the section is the optimal number of clusters. "
   ]
  },
  {
   "cell_type": "code",
   "execution_count": 45,
   "id": "2ee4bc1c",
   "metadata": {},
   "outputs": [],
   "source": [
    "#Implement model\n",
    "agglo = AgglomerativeClustering(n_clusters=2, metric='euclidean', linkage='ward')  "
   ]
  },
  {
   "cell_type": "code",
   "execution_count": 46,
   "id": "38a319d2",
   "metadata": {},
   "outputs": [],
   "source": [
    "df['agglo_cluster'] = agglo.fit_predict(X)"
   ]
  },
  {
   "cell_type": "code",
   "execution_count": 47,
   "id": "9ae66c3e",
   "metadata": {},
   "outputs": [
    {
     "data": {
      "application/vnd.plotly.v1+json": {
       "config": {
        "plotlyServerURL": "https://plot.ly"
       },
       "data": [
        {
         "customdata": [
          [
           1,
           0.796,
           0.9274
          ],
          [
           1,
           0.532,
           0.9699
          ],
          [
           1,
           0.811,
           -0.5584
          ],
          [
           1,
           0.927,
           0.2023
          ],
          [
           1,
           0.741,
           -0.826
          ],
          [
           1,
           0.85,
           0.0953
          ],
          [
           1,
           0.695,
           -0.471
          ],
          [
           1,
           0.756,
           -0.7269
          ],
          [
           3,
           0.898,
           0.3612
          ],
          [
           1,
           0.631,
           -0.8593
          ],
          [
           1,
           0.724,
           0.595
          ],
          [
           1,
           0.913,
           -0.4939
          ],
          [
           1,
           0.893,
           0.1174
          ],
          [
           5,
           0.521,
           0.9393
          ],
          [
           1,
           0.638,
           0.9098
          ],
          [
           1,
           0.843,
           -0.6981
          ],
          [
           2,
           0.691,
           0.6908
          ],
          [
           1,
           0.953,
           0.4019
          ],
          [
           1,
           0.789,
           -0.8689
          ],
          [
           1,
           0.765,
           0.5423
          ],
          [
           1,
           0.639,
           -0.2263
          ],
          [
           1,
           0.635,
           -0.7964
          ],
          [
           1,
           0.764,
           0.1027
          ],
          [
           1,
           0.874,
           0.3818
          ],
          [
           1,
           0.816,
           0.3365
          ],
          [
           1,
           0.735,
           0.4696
          ],
          [
           1,
           0.877,
           0.3818
          ],
          [
           1,
           0.842,
           0.6486
          ],
          [
           1,
           0.667,
           0.4951
          ],
          [
           1,
           0.798,
           -0.765
          ],
          [
           1,
           0.593,
           -0.8908
          ],
          [
           1,
           0.832,
           0.8264
          ],
          [
           1,
           0.807,
           -0.3384
          ],
          [
           1,
           0.551,
           -0.9348
          ],
          [
           1,
           0.642,
           -0.8885
          ],
          [
           1,
           0.901,
           0.1027
          ],
          [
           1,
           0.718,
           -0.9361
          ],
          [
           1,
           0.822,
           0.4767
          ],
          [
           1,
           0.75,
           0.4885
          ],
          [
           1,
           0.827,
           -0.4939
          ],
          [
           2,
           0.901,
           -0.3182
          ],
          [
           1,
           0.849,
           -0.2023
          ],
          [
           1,
           0.561,
           -0.942
          ],
          [
           1,
           0.891,
           0.4215
          ],
          [
           1,
           0.822,
           -0.6705
          ],
          [
           1,
           1,
           0
          ],
          [
           1,
           0.793,
           -0.7559
          ],
          [
           1,
           0.84,
           -0.7691
          ],
          [
           2,
           0.659,
           -0.3182
          ],
          [
           1,
           0.707,
           -0.2023
          ],
          [
           1,
           0.691,
           0.5574
          ],
          [
           1,
           0.954,
           -0.4898
          ],
          [
           3,
           0.738,
           0.8061
          ],
          [
           1,
           0.919,
           -0.4084
          ],
          [
           1,
           0.846,
           -0.8902
          ],
          [
           1,
           0.789,
           0.7579
          ],
          [
           1,
           0.819,
           -0.6478
          ],
          [
           1,
           0.826,
           -0.2263
          ],
          [
           1,
           0.748,
           -0.4327
          ],
          [
           1,
           0.882,
           0.3164
          ],
          [
           1,
           0.606,
           -0.0832
          ],
          [
           2,
           0.87,
           -0.2023
          ],
          [
           1,
           0.828,
           0.3184
          ],
          [
           1,
           0.934,
           -0.2462
          ],
          [
           1,
           0.919,
           -0.296
          ],
          [
           1,
           0.802,
           0.7717
          ],
          [
           1,
           0.755,
           -0.7319
          ],
          [
           1,
           0.704,
           -0.6997
          ],
          [
           1,
           0.891,
           -0.4215
          ],
          [
           1,
           0.743,
           -0.3182
          ],
          [
           1,
           0.932,
           0.3612
          ],
          [
           1,
           0.813,
           -0.48
          ],
          [
           1,
           0.87,
           0.3818
          ],
          [
           1,
           0.939,
           0.5562
          ],
          [
           1,
           0.797,
           -0.3818
          ],
          [
           1,
           0.772,
           0.8614
          ],
          [
           1,
           0.807,
           -0.1779
          ],
          [
           1,
           0.594,
           -0.9062
          ],
          [
           2,
           0.804,
           -0.3818
          ],
          [
           1,
           0.806,
           0.3187
          ],
          [
           2,
           0.793,
           0.9186
          ],
          [
           1,
           0.712,
           -0.3841
          ],
          [
           1,
           0.918,
           0.5621
          ],
          [
           1,
           0.857,
           0.0772
          ],
          [
           1,
           0.735,
           -0.3818
          ],
          [
           1,
           0.849,
           0.5859
          ],
          [
           1,
           0.843,
           0.0516
          ],
          [
           5,
           0.541,
           0.9099
          ],
          [
           1,
           0.842,
           -0.4588
          ],
          [
           1,
           0.679,
           -0.6249
          ],
          [
           1,
           0.795,
           -0.2023
          ],
          [
           2,
           0.821,
           -0.9484
          ],
          [
           1,
           0.904,
           0.5707
          ],
          [
           5,
           0.563,
           0.7712
          ],
          [
           1,
           0.623,
           0.7717
          ],
          [
           1,
           0.772,
           0.6124
          ],
          [
           1,
           0.82,
           -0.4939
          ],
          [
           1,
           0.773,
           0.7351
          ],
          [
           1,
           0.945,
           -0.2263
          ],
          [
           1,
           0.905,
           0.25
          ],
          [
           1,
           0.801,
           0.34
          ],
          [
           2,
           0.598,
           -0.1812
          ],
          [
           1,
           0.913,
           -0.1531
          ],
          [
           1,
           0.835,
           -0.7937
          ],
          [
           1,
           0.759,
           -0.7675
          ],
          [
           1,
           0.838,
           0
          ],
          [
           1,
           0.735,
           -0.3481
          ],
          [
           1,
           0.771,
           0.1027
          ],
          [
           1,
           0.692,
           -0.9262
          ],
          [
           5,
           0.576,
           0.9565
          ],
          [
           2,
           0.873,
           0.4404
          ],
          [
           1,
           0.697,
           0.3365
          ],
          [
           1,
           0.637,
           0.4545
          ],
          [
           1,
           0.886,
           0.743
          ],
          [
           1,
           0.842,
           -0.6908
          ],
          [
           2,
           0.661,
           -0.5423
          ],
          [
           1,
           0.596,
           0.1531
          ],
          [
           1,
           1,
           0
          ],
          [
           1,
           0.956,
           0.1531
          ],
          [
           1,
           0.779,
           0.8316
          ],
          [
           1,
           0.857,
           -0.4588
          ],
          [
           1,
           0.831,
           0.9246
          ],
          [
           5,
           0.828,
           0.6597
          ],
          [
           5,
           0.766,
           0.8766
          ],
          [
           5,
           0.615,
           0.9732
          ],
          [
           5,
           0.803,
           0.5994
          ],
          [
           5,
           0.577,
           0.9153
          ],
          [
           3,
           0.659,
           0.6908
          ],
          [
           5,
           0.661,
           0.9571
          ],
          [
           1,
           0.664,
           -0.4939
          ],
          [
           5,
           0.476,
           0.9758
          ],
          [
           5,
           0.602,
           0.9217
          ],
          [
           2,
           0.911,
           -0.0788
          ],
          [
           3,
           0.825,
           0.4391
          ],
          [
           4,
           0.811,
           0.8264
          ],
          [
           5,
           0.736,
           0.7717
          ],
          [
           5,
           0.547,
           0.742
          ],
          [
           5,
           0.57,
           0.9307
          ],
          [
           4,
           0.56,
           0.9574
          ],
          [
           4,
           0.654,
           0.8402
          ],
          [
           3,
           0.558,
           -0.3818
          ],
          [
           5,
           0.732,
           0.8316
          ],
          [
           3,
           0.604,
           0.7506
          ],
          [
           4,
           0.683,
           0.8807
          ],
          [
           5,
           0.49,
           0.9569
          ],
          [
           3,
           0.751,
           0.8074
          ],
          [
           1,
           0.655,
           -0.128
          ],
          [
           3,
           0.894,
           -0.2263
          ],
          [
           5,
           0.458,
           0.9774
          ],
          [
           5,
           0.629,
           0.7506
          ],
          [
           5,
           0.792,
           0.2732
          ],
          [
           3,
           0.559,
           0.6369
          ],
          [
           5,
           0.438,
           0.9827
          ],
          [
           4,
           0.827,
           0.8402
          ],
          [
           2,
           0.865,
           0.4118
          ],
          [
           5,
           0.788,
           0.8745
          ],
          [
           5,
           0.565,
           0.9062
          ],
          [
           3,
           0.774,
           0.9057
          ],
          [
           5,
           0.486,
           0.969
          ],
          [
           1,
           0.709,
           0.8553
          ],
          [
           3,
           0.643,
           0.7269
          ],
          [
           4,
           0.533,
           0.8767
          ],
          [
           5,
           0.462,
           0.9682
          ],
          [
           5,
           0.651,
           0.8442
          ],
          [
           4,
           0.421,
           0.9485
          ],
          [
           4,
           0.873,
           0.4404
          ],
          [
           1,
           0.635,
           -0.4735
          ],
          [
           2,
           0.786,
           0.34
          ],
          [
           1,
           0.75,
           -0.8098
          ],
          [
           1,
           0.861,
           0.0772
          ],
          [
           1,
           0.839,
           -0.296
          ],
          [
           1,
           0.829,
           -0.8597
          ],
          [
           3,
           0.829,
           0.8807
          ],
          [
           1,
           0.85,
           0.8555
          ],
          [
           1,
           0.841,
           -0.6492
          ],
          [
           1,
           0.622,
           -0.1429
          ],
          [
           1,
           0.641,
           0.8786
          ],
          [
           1,
           0.613,
           0.8428
          ],
          [
           1,
           0.675,
           -0.5707
          ],
          [
           5,
           0.59,
           0.9524
          ],
          [
           1,
           0.867,
           -0.1956
          ],
          [
           1,
           1,
           0
          ],
          [
           1,
           0.875,
           -0.3818
          ],
          [
           1,
           0.746,
           -0.7858
          ],
          [
           1,
           0.736,
           0.4915
          ],
          [
           2,
           0.761,
           0.8771
          ],
          [
           1,
           0.609,
           0.7506
          ],
          [
           1,
           0.828,
           0.6597
          ],
          [
           2,
           0.857,
           0.4871
          ],
          [
           1,
           0.753,
           -0.9039
          ],
          [
           1,
           0.786,
           0.3993
          ],
          [
           1,
           0.747,
           0.9639
          ],
          [
           1,
           0.603,
           -0.9208
          ],
          [
           1,
           0.974,
           -0.34
          ],
          [
           1,
           0.789,
           -0.1531
          ],
          [
           1,
           0.672,
           0.6249
          ],
          [
           1,
           0.762,
           0.4767
          ],
          [
           1,
           0.676,
           0.6025
          ],
          [
           1,
           0.832,
           0.0865
          ],
          [
           5,
           0.653,
           0.9868
          ],
          [
           1,
           0.84,
           -0.858
          ],
          [
           1,
           0.685,
           -0.34
          ],
          [
           1,
           0.73,
           0.8157
          ],
          [
           1,
           0.706,
           0.1832
          ],
          [
           1,
           0.64,
           -0.9393
          ],
          [
           1,
           0.788,
           -0.3595
          ],
          [
           1,
           0.924,
           -0.4912
          ],
          [
           1,
           0.808,
           -0.811
          ],
          [
           1,
           0.823,
           -0.6249
          ],
          [
           1,
           0.952,
           0.4215
          ],
          [
           1,
           0.621,
           -0.2808
          ],
          [
           1,
           0.706,
           -0.9052
          ],
          [
           1,
           0.776,
           -0.25
          ],
          [
           1,
           0.83,
           0.7157
          ],
          [
           1,
           0.786,
           -0.9432
          ],
          [
           1,
           0.752,
           -0.9157
          ],
          [
           1,
           0.934,
           0.5106
          ],
          [
           1,
           0.92,
           0.228
          ],
          [
           1,
           0.885,
           -0.7925
          ],
          [
           2,
           0.543,
           0.9493
          ],
          [
           1,
           0.869,
           0.0346
          ],
          [
           1,
           0.959,
           -0.296
          ],
          [
           1,
           0.759,
           0.88
          ],
          [
           1,
           0.638,
           -0.9062
          ],
          [
           2,
           0.795,
           0.9349
          ],
          [
           1,
           0.8,
           0.5574
          ],
          [
           1,
           0.929,
           0.4767
          ],
          [
           1,
           0.703,
           0.6679
          ],
          [
           2,
           0.795,
           0.9179
          ],
          [
           1,
           0.821,
           -0.228
          ],
          [
           2,
           1,
           0
          ],
          [
           1,
           0.892,
           -0.0772
          ],
          [
           1,
           0.772,
           0.8821
          ],
          [
           1,
           0.779,
           -0.4003
          ],
          [
           5,
           0.526,
           0.9517
          ],
          [
           5,
           0.457,
           0.9657
          ],
          [
           1,
           0.743,
           0.7835
          ],
          [
           1,
           0.921,
           0.3164
          ],
          [
           1,
           0.648,
           0.4215
          ],
          [
           1,
           0.755,
           0.8433
          ],
          [
           1,
           0.815,
           0.7783
          ],
          [
           1,
           0.804,
           -0.9416
          ],
          [
           1,
           0.878,
           -0.5574
          ],
          [
           5,
           0.694,
           0.9021
          ],
          [
           1,
           0.963,
           -0.2023
          ],
          [
           5,
           0.788,
           0.7562
          ],
          [
           2,
           0.909,
           0.4215
          ],
          [
           1,
           0.919,
           0.4404
          ],
          [
           1,
           0.781,
           0.8625
          ],
          [
           5,
           0.445,
           0.9781
          ],
          [
           1,
           0.731,
           -0.8608
          ],
          [
           5,
           0.516,
           0.9735
          ],
          [
           1,
           0.851,
           0.6833
          ],
          [
           1,
           0.803,
           0.0516
          ],
          [
           1,
           0.748,
           -0.6476
          ],
          [
           5,
           0.616,
           0.9393
          ],
          [
           1,
           0.885,
           -0.8682
          ],
          [
           1,
           0.858,
           0.4215
          ],
          [
           1,
           0.573,
           0.3311
          ],
          [
           1,
           0.815,
           0
          ],
          [
           5,
           0.701,
           0.8555
          ],
          [
           1,
           0.786,
           -0.8655
          ],
          [
           2,
           0.542,
           0.7534
          ],
          [
           1,
           0.873,
           -0.7922
          ],
          [
           1,
           0.97,
           -0.2023
          ],
          [
           1,
           0.64,
           -0.9337
          ],
          [
           1,
           0.8,
           -0.1531
          ],
          [
           1,
           0.843,
           -0.784
          ],
          [
           5,
           0.644,
           0.9729
          ],
          [
           1,
           0.566,
           -0.6793
          ],
          [
           1,
           0.773,
           0.885
          ],
          [
           1,
           0.598,
           -0.9333
          ],
          [
           1,
           0.931,
           0.3164
          ],
          [
           1,
           0.69,
           0.4413
          ],
          [
           1,
           0.895,
           -0.694
          ],
          [
           2,
           0.746,
           -0.128
          ],
          [
           1,
           0.864,
           -0.4336
          ],
          [
           1,
           0.923,
           -0.6202
          ],
          [
           1,
           0.938,
           -0.4767
          ],
          [
           1,
           0.884,
           -0.5994
          ],
          [
           2,
           0.702,
           -0.5397
          ],
          [
           2,
           0.935,
           0.4549
          ],
          [
           1,
           0.658,
           0.6996
          ],
          [
           1,
           0.799,
           -0.2962
          ],
          [
           1,
           0.631,
           -0.6497
          ],
          [
           1,
           0.911,
           0.8264
          ],
          [
           1,
           0.62,
           -0.5106
          ],
          [
           1,
           0.664,
           -0.5
          ],
          [
           1,
           0.854,
           0.4284
          ],
          [
           2,
           0.717,
           0.6407
          ],
          [
           2,
           0.711,
           -0.3937
          ],
          [
           1,
           0.869,
           0.091
          ],
          [
           1,
           0.851,
           -0.8367
          ],
          [
           2,
           0.809,
           0.7142
          ],
          [
           1,
           0.939,
           -0.5684
          ],
          [
           1,
           0.781,
           0.8126
          ],
          [
           1,
           0.77,
           -0.9047
          ],
          [
           1,
           0.776,
           -0.862
          ],
          [
           1,
           0.95,
           -0.4404
          ],
          [
           1,
           0.821,
           -0.6705
          ],
          [
           1,
           0.843,
           -0.4588
          ],
          [
           1,
           0.94,
           -0.1739
          ],
          [
           1,
           0.836,
           0.875
          ],
          [
           1,
           0.899,
           -0.316
          ],
          [
           1,
           0.634,
           -0.891
          ],
          [
           1,
           0.862,
           -0.6124
          ],
          [
           1,
           0.8,
           -0.6478
          ],
          [
           1,
           0.827,
           -0.5994
          ],
          [
           1,
           0.839,
           -0.4939
          ],
          [
           1,
           0.886,
           -0.6249
          ],
          [
           1,
           0.67,
           0.7163
          ],
          [
           1,
           0.877,
           0.7088
          ],
          [
           1,
           0.635,
           -0.9296
          ],
          [
           1,
           0.819,
           -0.2127
          ],
          [
           1,
           0.811,
           0.3309
          ],
          [
           1,
           0.923,
           0.3804
          ],
          [
           1,
           0.763,
           0.8962
          ],
          [
           1,
           0.746,
           0.7399
          ],
          [
           1,
           0.917,
           -0.7925
          ],
          [
           1,
           0.839,
           -0.6124
          ],
          [
           2,
           0.838,
           -0.1531
          ],
          [
           1,
           0.847,
           -0.4215
          ],
          [
           5,
           0.62,
           0.9334
          ],
          [
           5,
           0.644,
           0.9808
          ],
          [
           1,
           0.64,
           -0.9291
          ],
          [
           1,
           0.792,
           0.7774
          ],
          [
           1,
           0.749,
           -0.7964
          ],
          [
           1,
           0.678,
           -0.9231
          ],
          [
           1,
           0.865,
           0.0813
          ],
          [
           1,
           0.605,
           -0.4019
          ],
          [
           1,
           0.789,
           -0.0717
          ],
          [
           1,
           0.899,
           -0.6458
          ],
          [
           1,
           0.788,
           0.9461
          ],
          [
           2,
           0.821,
           -0.4559
          ],
          [
           1,
           0.782,
           -0.8547
          ],
          [
           1,
           0.749,
           -0.5574
          ],
          [
           1,
           0.838,
           -0.7955
          ],
          [
           1,
           0.741,
           -0.7263
          ],
          [
           1,
           0.855,
           0.0772
          ],
          [
           1,
           0.84,
           -0.1697
          ],
          [
           1,
           0.816,
           0.0258
          ],
          [
           1,
           0.66,
           -0.5904
          ],
          [
           1,
           0.898,
           -0.296
          ],
          [
           1,
           0.689,
           -0.3182
          ],
          [
           2,
           0.865,
           -0.3006
          ],
          [
           1,
           0.643,
           -0.25
          ],
          [
           1,
           0.921,
           -0.5906
          ],
          [
           2,
           0.847,
           0.8916
          ],
          [
           1,
           0.87,
           0.5423
          ],
          [
           1,
           0.692,
           -0.3446
          ],
          [
           1,
           0.675,
           0.1885
          ],
          [
           1,
           0.927,
           -0.4754
          ],
          [
           1,
           0.823,
           0.836
          ],
          [
           1,
           0.881,
           -0.8316
          ],
          [
           1,
           0.848,
           0.694
          ],
          [
           1,
           0.573,
           -0.6119
          ],
          [
           1,
           0.8,
           -0.8628
          ],
          [
           3,
           0.909,
           0.316
          ],
          [
           1,
           0.886,
           0.7003
          ],
          [
           1,
           0.641,
           0.9322
          ],
          [
           1,
           0.58,
           0.8025
          ],
          [
           1,
           0.957,
           0.3612
          ],
          [
           1,
           0.805,
           -0.5859
          ],
          [
           1,
           0.928,
           0.4199
          ],
          [
           1,
           0.766,
           0.7901
          ],
          [
           1,
           0.927,
           0.5826
          ],
          [
           1,
           0.736,
           -0.6597
          ],
          [
           1,
           0.763,
           -0.4767
          ],
          [
           1,
           0.887,
           -0.6474
          ],
          [
           1,
           0.792,
           0.3182
          ],
          [
           1,
           0.545,
           0.6739
          ],
          [
           1,
           0.609,
           -0.8344
          ],
          [
           1,
           0.658,
           0.4898
          ],
          [
           1,
           0.777,
           -0.5574
          ],
          [
           1,
           0.813,
           0.5876
          ],
          [
           1,
           0.922,
           0.4588
          ],
          [
           1,
           0.857,
           0.8271
          ],
          [
           1,
           0.659,
           0.1181
          ],
          [
           1,
           0.617,
           -0.948
          ],
          [
           1,
           0.71,
           -0.8481
          ],
          [
           3,
           0.821,
           0.7568
          ],
          [
           1,
           0.603,
           0.6083
          ],
          [
           5,
           0.78,
           0.9323
          ],
          [
           1,
           0.859,
           -0.1027
          ],
          [
           5,
           0.857,
           0.5813
          ],
          [
           4,
           0.756,
           0.6249
          ],
          [
           3,
           0.649,
           0.9823
          ],
          [
           3,
           0.741,
           0.9184
          ],
          [
           1,
           0.896,
           -0.0516
          ],
          [
           5,
           0.616,
           0.8934
          ],
          [
           3,
           0.624,
           0.9403
          ],
          [
           2,
           0.764,
           0.8534
          ],
          [
           1,
           0.714,
           -0.8625
          ],
          [
           1,
           0.862,
           -0.4019
          ],
          [
           1,
           0.842,
           -0.4588
          ],
          [
           2,
           0.891,
           0.7579
          ],
          [
           1,
           0.72,
           -0.7494
          ],
          [
           1,
           0.689,
           -0.8658
          ],
          [
           1,
           0.767,
           -0.3451
          ],
          [
           1,
           0.665,
           -0.7964
          ],
          [
           1,
           0.622,
           -0.168
          ],
          [
           1,
           0.831,
           -0.7574
          ],
          [
           1,
           0.789,
           -0.1531
          ],
          [
           1,
           0.668,
           -0.9062
          ],
          [
           1,
           0.89,
           -0.4939
          ],
          [
           1,
           0.576,
           -0.9744
          ],
          [
           1,
           0.823,
           -0.7269
          ],
          [
           1,
           0.833,
           0.7541
          ],
          [
           1,
           0.863,
           -0.358
          ],
          [
           1,
           0.569,
           -0.8981
          ],
          [
           1,
           0.809,
           0.5423
          ],
          [
           1,
           0.783,
           -0.8614
          ],
          [
           1,
           0.716,
           -0.0258
          ],
          [
           1,
           0.783,
           -0.2805
          ],
          [
           1,
           0.682,
           -0.6189
          ],
          [
           1,
           0.962,
           -0.2023
          ],
          [
           1,
           0.729,
           -0.4939
          ],
          [
           1,
           0.688,
           0.8122
          ],
          [
           1,
           0.815,
           -0.7717
          ],
          [
           1,
           0.817,
           0.25
          ],
          [
           1,
           0.833,
           -0.296
          ],
          [
           1,
           0.919,
           0.3561
          ],
          [
           1,
           0.707,
           -0.3083
          ],
          [
           1,
           0.889,
           0.6808
          ],
          [
           1,
           0.698,
           0.3997
          ],
          [
           1,
           1,
           0
          ],
          [
           1,
           0.634,
           0.09
          ],
          [
           1,
           0.815,
           0.0516
          ],
          [
           2,
           0.791,
           0.5859
          ],
          [
           1,
           0.875,
           -0.1027
          ],
          [
           1,
           1,
           0
          ],
          [
           1,
           0.732,
           0.8565
          ],
          [
           1,
           0.627,
           -0.5719
          ],
          [
           1,
           0.826,
           -0.8661
          ],
          [
           1,
           0.794,
           -0.8996
          ],
          [
           1,
           0.825,
           -0.2732
          ],
          [
           1,
           0.888,
           0.1779
          ],
          [
           1,
           0.74,
           -0.9105
          ],
          [
           1,
           0.614,
           -0.9658
          ],
          [
           4,
           0.862,
           -0.128
          ],
          [
           1,
           0.732,
           0.8176
          ],
          [
           1,
           0.85,
           -0.7579
          ],
          [
           1,
           0.888,
           -0.4404
          ],
          [
           1,
           0.709,
           -0.9524
          ],
          [
           1,
           0.719,
           -0.7299
          ],
          [
           2,
           0.732,
           0.9441
          ],
          [
           1,
           0.89,
           0.836
          ],
          [
           2,
           0.781,
           0.7906
          ],
          [
           1,
           0.657,
           -0.1531
          ],
          [
           1,
           0.733,
           0.6705
          ],
          [
           1,
           0.828,
           -0.1531
          ],
          [
           1,
           0.602,
           0.7906
          ],
          [
           1,
           0.82,
           -0.7983
          ],
          [
           1,
           0.84,
           -0.2023
          ],
          [
           1,
           0.853,
           -0.8779
          ],
          [
           1,
           0.822,
           0.6327
          ],
          [
           1,
           0.799,
           0.6249
          ],
          [
           1,
           0.912,
           0.5267
          ],
          [
           1,
           0.791,
           0.4094
          ],
          [
           1,
           0.811,
           -0.8395
          ],
          [
           1,
           0.904,
           0.3971
          ],
          [
           1,
           0.843,
           0.5106
          ],
          [
           2,
           0.824,
           -0.4588
          ],
          [
           1,
           0.93,
           0.4215
          ],
          [
           1,
           0.718,
           0.6808
          ],
          [
           1,
           0.863,
           0.0772
          ],
          [
           1,
           0.56,
           -0.3818
          ],
          [
           1,
           0.708,
           -0.7074
          ],
          [
           1,
           0.844,
           -0.34
          ],
          [
           1,
           0.837,
           0.509
          ],
          [
           1,
           0.603,
           -0.4784
          ],
          [
           1,
           0.864,
           -0.1779
          ],
          [
           1,
           0.922,
           0.8176
          ],
          [
           1,
           1,
           0
          ],
          [
           1,
           0.847,
           -0.5696
          ],
          [
           1,
           0.794,
           0.4404
          ],
          [
           1,
           0.864,
           -0.4678
          ],
          [
           1,
           0.842,
           0.7783
          ],
          [
           1,
           0.85,
           0.8257
          ],
          [
           1,
           0.615,
           -0.7579
          ],
          [
           2,
           0.867,
           0.6868
          ],
          [
           5,
           0.717,
           0.9517
          ],
          [
           1,
           0.699,
           -0.2467
          ],
          [
           1,
           0.852,
           0.7263
          ],
          [
           1,
           0.624,
           -0.8779
          ],
          [
           1,
           0.586,
           -0.9755
          ],
          [
           1,
           0.921,
           -0.6249
          ],
          [
           1,
           0.844,
           -0.1779
          ],
          [
           1,
           0.812,
           -0.1027
          ],
          [
           1,
           0.625,
           -0.9725
          ],
          [
           2,
           0.855,
           0.1263
          ],
          [
           1,
           0.608,
           -0.6682
          ],
          [
           2,
           0.793,
           -0.4648
          ],
          [
           1,
           0.79,
           -0.9442
          ],
          [
           1,
           0.78,
           -0.0516
          ],
          [
           1,
           0.681,
           -0.9524
          ],
          [
           1,
           0.697,
           -0.743
          ],
          [
           1,
           0.673,
           0.4737
          ],
          [
           1,
           0.956,
           -0.296
          ],
          [
           1,
           0.848,
           0.4995
          ],
          [
           1,
           0.825,
           0.8689
          ],
          [
           1,
           0.892,
           0.7506
          ],
          [
           1,
           1,
           0
          ],
          [
           1,
           0.789,
           0.2481
          ],
          [
           1,
           0.856,
           -0.5719
          ],
          [
           1,
           0.674,
           -0.2263
          ],
          [
           2,
           0.794,
           0.4078
          ],
          [
           1,
           0.782,
           -0.795
          ],
          [
           1,
           0.756,
           0.7256
          ],
          [
           1,
           0.826,
           0.7579
          ],
          [
           3,
           1,
           0
          ],
          [
           1,
           0.813,
           0.024
          ],
          [
           1,
           0.839,
           -0.875
          ],
          [
           1,
           0.77,
           0.8504
          ],
          [
           1,
           0.706,
           0.4909
          ],
          [
           1,
           0.778,
           -0.6397
          ],
          [
           1,
           0.773,
           -0.7184
          ],
          [
           1,
           0.798,
           -0.6597
          ],
          [
           1,
           0.537,
           0.973
          ],
          [
           1,
           0.713,
           -0.7251
          ],
          [
           1,
           0.694,
           -0.9152
          ],
          [
           1,
           0.775,
           0.8271
          ],
          [
           1,
           0.688,
           0.8153
          ],
          [
           1,
           0.779,
           0.5067
          ],
          [
           1,
           0.752,
           0.752
          ],
          [
           1,
           0.976,
           0.0772
          ],
          [
           1,
           0.616,
           -0.7717
          ],
          [
           1,
           1,
           0
          ],
          [
           1,
           0.811,
           0.5849
          ],
          [
           1,
           0.792,
           -0.7506
          ],
          [
           1,
           0.738,
           -0.7946
          ],
          [
           1,
           0.694,
           -0.6929
          ],
          [
           1,
           0.618,
           -0.6666
          ],
          [
           5,
           0.643,
           0.9488
          ],
          [
           1,
           0.677,
           0.7543
          ],
          [
           4,
           0.798,
           0.8779
          ],
          [
           1,
           0.765,
           0.8894
          ],
          [
           1,
           1,
           0
          ],
          [
           1,
           0.85,
           0.5423
          ],
          [
           1,
           0.852,
           -0.4588
          ],
          [
           1,
           0.783,
           0.2023
          ],
          [
           1,
           0.85,
           0.7579
          ],
          [
           1,
           0.799,
           -0.7654
          ],
          [
           1,
           0.684,
           0.3887
          ],
          [
           1,
           0.774,
           0.872
          ],
          [
           1,
           0.819,
           -0.0772
          ],
          [
           1,
           0.673,
           -0.9322
          ],
          [
           5,
           0.577,
           0.899
          ],
          [
           2,
           0.772,
           -0.7527
          ],
          [
           5,
           0.354,
           0.9298
          ],
          [
           1,
           0.754,
           0.7096
          ],
          [
           1,
           0.696,
           0.9729
          ],
          [
           1,
           0.679,
           0.8522
          ],
          [
           1,
           0.841,
           0.7351
          ],
          [
           1,
           0.851,
           -0.4497
          ],
          [
           1,
           0.88,
           0.5541
          ],
          [
           1,
           0.741,
           0.893
          ],
          [
           5,
           0.635,
           0.617
          ],
          [
           1,
           0.764,
           -0.5126
          ],
          [
           1,
           0.674,
           -0.4588
          ],
          [
           1,
           0.533,
           -0.9722
          ],
          [
           4,
           0.702,
           -0.9196
          ],
          [
           3,
           0.775,
           0.8469
          ],
          [
           1,
           0.906,
           -0.25
          ],
          [
           1,
           0.844,
           -0.3147
          ],
          [
           2,
           0.849,
           -0.3182
          ],
          [
           1,
           0.672,
           0.701
          ],
          [
           1,
           0.721,
           -0.7345
          ],
          [
           1,
           0.796,
           -0.0943
          ],
          [
           1,
           0.811,
           -0.5859
          ],
          [
           1,
           0.777,
           0.0258
          ],
          [
           1,
           0.745,
           -0.9227
          ],
          [
           1,
           0.731,
           0.925
          ],
          [
           1,
           0.855,
           -0.25
          ],
          [
           1,
           0.629,
           0.9001
          ],
          [
           1,
           0.788,
           0.3794
          ],
          [
           1,
           0.83,
           0.8173
          ],
          [
           1,
           0.607,
           0.931
          ],
          [
           1,
           0.905,
           0.4939
          ],
          [
           1,
           0.92,
           -0.5106
          ],
          [
           1,
           0.901,
           -0.5106
          ],
          [
           4,
           0.722,
           0.2263
          ],
          [
           1,
           0.945,
           0.3802
          ],
          [
           1,
           0.78,
           -0.8271
          ],
          [
           1,
           0.925,
           0.5106
          ],
          [
           1,
           0.946,
           -0.3182
          ],
          [
           1,
           0.79,
           0.7845
          ],
          [
           2,
           0.715,
           -0.8832
          ],
          [
           3,
           0.758,
           0.872
          ],
          [
           1,
           0.717,
           -0.889
          ],
          [
           1,
           0.693,
           -0.924
          ],
          [
           1,
           0.796,
           0.8534
          ],
          [
           1,
           0.769,
           -0.6808
          ],
          [
           1,
           0.848,
           0.6876
          ],
          [
           1,
           0.825,
           -0.8625
          ],
          [
           1,
           0.871,
           -0.0772
          ],
          [
           2,
           0.815,
           -0.4316
          ],
          [
           1,
           0.74,
           -0.7579
          ],
          [
           1,
           0.774,
           -0.6103
          ],
          [
           1,
           0.613,
           -0.9701
          ],
          [
           1,
           0.797,
           -0.8316
          ],
          [
           1,
           0.813,
           -0.7556
          ],
          [
           1,
           0.966,
           0.144
          ],
          [
           1,
           0.916,
           -0.6705
          ],
          [
           1,
           0.895,
           -0.4019
          ]
         ],
         "hovertemplate": "neg=%{x}<br>pos=%{y}<br>ratings=%{customdata[0]}<br>neu=%{customdata[1]}<br>compound=%{customdata[2]}<br>agglo_cluster=%{marker.color}<extra></extra>",
         "legendgroup": "",
         "marker": {
          "color": [
           1,
           1,
           0,
           0,
           0,
           0,
           0,
           0,
           1,
           0,
           1,
           0,
           0,
           1,
           1,
           0,
           1,
           1,
           0,
           1,
           0,
           0,
           0,
           1,
           1,
           1,
           1,
           1,
           1,
           0,
           0,
           1,
           0,
           0,
           0,
           0,
           0,
           1,
           1,
           0,
           0,
           0,
           0,
           1,
           0,
           0,
           0,
           0,
           0,
           0,
           1,
           0,
           1,
           0,
           0,
           1,
           0,
           0,
           0,
           1,
           0,
           0,
           1,
           0,
           0,
           1,
           0,
           0,
           0,
           0,
           1,
           0,
           1,
           1,
           0,
           1,
           0,
           0,
           0,
           1,
           1,
           0,
           1,
           0,
           0,
           1,
           0,
           1,
           0,
           0,
           0,
           0,
           1,
           1,
           1,
           1,
           0,
           1,
           0,
           0,
           1,
           0,
           0,
           0,
           0,
           0,
           0,
           0,
           0,
           1,
           1,
           1,
           1,
           1,
           0,
           0,
           1,
           0,
           0,
           1,
           0,
           1,
           1,
           1,
           1,
           1,
           1,
           1,
           1,
           0,
           1,
           1,
           0,
           1,
           1,
           1,
           1,
           1,
           1,
           1,
           0,
           1,
           1,
           1,
           1,
           1,
           0,
           0,
           1,
           1,
           1,
           1,
           1,
           1,
           1,
           1,
           1,
           1,
           1,
           1,
           1,
           1,
           1,
           1,
           1,
           1,
           0,
           1,
           0,
           0,
           0,
           0,
           1,
           1,
           0,
           0,
           1,
           1,
           0,
           1,
           0,
           0,
           0,
           0,
           1,
           1,
           1,
           1,
           1,
           0,
           1,
           1,
           0,
           0,
           0,
           1,
           1,
           1,
           0,
           1,
           0,
           0,
           1,
           1,
           0,
           0,
           0,
           0,
           0,
           1,
           0,
           0,
           0,
           1,
           0,
           0,
           1,
           0,
           0,
           1,
           0,
           0,
           1,
           0,
           1,
           1,
           1,
           1,
           1,
           0,
           0,
           0,
           1,
           0,
           1,
           1,
           1,
           1,
           1,
           1,
           1,
           0,
           0,
           1,
           0,
           1,
           1,
           1,
           1,
           1,
           0,
           1,
           1,
           0,
           0,
           1,
           0,
           1,
           1,
           0,
           1,
           0,
           1,
           0,
           0,
           0,
           0,
           0,
           1,
           0,
           1,
           0,
           1,
           1,
           0,
           0,
           0,
           0,
           0,
           0,
           0,
           1,
           1,
           0,
           0,
           1,
           0,
           0,
           1,
           1,
           0,
           0,
           0,
           1,
           0,
           1,
           0,
           0,
           0,
           0,
           0,
           0,
           1,
           0,
           0,
           0,
           0,
           0,
           0,
           0,
           1,
           1,
           0,
           0,
           1,
           1,
           1,
           1,
           0,
           0,
           0,
           0,
           1,
           1,
           0,
           1,
           0,
           0,
           0,
           0,
           0,
           0,
           1,
           0,
           0,
           0,
           0,
           0,
           0,
           0,
           0,
           0,
           0,
           0,
           0,
           0,
           0,
           1,
           1,
           0,
           1,
           0,
           1,
           0,
           1,
           0,
           0,
           1,
           1,
           1,
           1,
           1,
           0,
           1,
           1,
           1,
           0,
           0,
           0,
           1,
           1,
           0,
           1,
           0,
           1,
           1,
           1,
           1,
           0,
           0,
           1,
           1,
           1,
           0,
           1,
           1,
           1,
           1,
           0,
           1,
           1,
           1,
           0,
           0,
           0,
           1,
           0,
           0,
           0,
           0,
           0,
           0,
           0,
           0,
           0,
           0,
           0,
           1,
           0,
           0,
           1,
           0,
           0,
           0,
           0,
           0,
           0,
           1,
           0,
           1,
           0,
           1,
           0,
           1,
           1,
           0,
           1,
           0,
           1,
           0,
           0,
           1,
           0,
           0,
           0,
           0,
           0,
           0,
           0,
           0,
           1,
           0,
           0,
           0,
           0,
           1,
           1,
           1,
           0,
           1,
           0,
           1,
           0,
           0,
           0,
           1,
           1,
           1,
           1,
           0,
           1,
           1,
           0,
           1,
           1,
           0,
           0,
           0,
           0,
           1,
           0,
           0,
           1,
           0,
           0,
           1,
           0,
           1,
           1,
           0,
           1,
           1,
           0,
           1,
           0,
           0,
           0,
           0,
           0,
           0,
           0,
           0,
           0,
           0,
           0,
           0,
           0,
           1,
           0,
           1,
           1,
           1,
           0,
           1,
           0,
           0,
           1,
           0,
           1,
           1,
           0,
           0,
           0,
           1,
           1,
           0,
           0,
           0,
           1,
           0,
           0,
           1,
           1,
           1,
           1,
           0,
           0,
           0,
           1,
           0,
           0,
           0,
           0,
           1,
           1,
           1,
           1,
           0,
           1,
           0,
           1,
           1,
           0,
           1,
           1,
           0,
           0,
           1,
           0,
           1,
           1,
           1,
           1,
           1,
           0,
           1,
           1,
           1,
           0,
           0,
           0,
           0,
           1,
           0,
           0,
           0,
           1,
           0,
           0,
           0,
           0,
           0,
           1,
           0,
           1,
           1,
           1,
           1,
           1,
           0,
           0,
           1,
           1,
           0,
           1,
           0,
           1,
           0,
           1,
           0,
           0,
           1,
           0,
           1,
           0,
           0,
           0,
           0,
           0,
           0,
           0,
           0,
           0,
           0,
           0
          ],
          "coloraxis": "coloraxis",
          "symbol": "circle"
         },
         "mode": "markers",
         "name": "",
         "orientation": "v",
         "showlegend": false,
         "type": "scatter",
         "x": [
          0.014,
          0.108,
          0.105,
          0,
          0.259,
          0.064,
          0.192,
          0.147,
          0,
          0.268,
          0.105,
          0.087,
          0.042,
          0.049,
          0,
          0.157,
          0,
          0,
          0.171,
          0.095,
          0.18,
          0.289,
          0.111,
          0,
          0.071,
          0.07,
          0.041,
          0.035,
          0.113,
          0.202,
          0.292,
          0,
          0.089,
          0.39,
          0.313,
          0.037,
          0.282,
          0.073,
          0.111,
          0.111,
          0.099,
          0.092,
          0.312,
          0.034,
          0.131,
          0,
          0.162,
          0.16,
          0.189,
          0.168,
          0.093,
          0.034,
          0.03,
          0.081,
          0.154,
          0,
          0.132,
          0.1,
          0.146,
          0.039,
          0.217,
          0.082,
          0.071,
          0.066,
          0.053,
          0.038,
          0.209,
          0.218,
          0.109,
          0.131,
          0,
          0.102,
          0,
          0,
          0.127,
          0,
          0.075,
          0.406,
          0.122,
          0.11,
          0,
          0.157,
          0,
          0.068,
          0.159,
          0,
          0.067,
          0.082,
          0.099,
          0.181,
          0.116,
          0.179,
          0.033,
          0.142,
          0.073,
          0.078,
          0.123,
          0.041,
          0.035,
          0,
          0.078,
          0.222,
          0.048,
          0.129,
          0.165,
          0.076,
          0.152,
          0.096,
          0.234,
          0,
          0,
          0.127,
          0.132,
          0.02,
          0.12,
          0.197,
          0.192,
          0,
          0,
          0,
          0.143,
          0,
          0,
          0.035,
          0,
          0,
          0.058,
          0.084,
          0.052,
          0.224,
          0,
          0,
          0.048,
          0.055,
          0,
          0.064,
          0.125,
          0,
          0,
          0,
          0.227,
          0,
          0.126,
          0,
          0,
          0,
          0.179,
          0.106,
          0,
          0.079,
          0.064,
          0.178,
          0,
          0.028,
          0,
          0,
          0,
          0,
          0,
          0.065,
          0.083,
          0.117,
          0,
          0,
          0.071,
          0,
          0.21,
          0.083,
          0.25,
          0.065,
          0.1,
          0.123,
          0.017,
          0,
          0.159,
          0.195,
          0.044,
          0.155,
          0.185,
          0,
          0.065,
          0,
          0.075,
          0.169,
          0.07,
          0.043,
          0.093,
          0.045,
          0,
          0.224,
          0.087,
          0,
          0.292,
          0.026,
          0.117,
          0.118,
          0.09,
          0.125,
          0.079,
          0,
          0.16,
          0.199,
          0.035,
          0.137,
          0.36,
          0.126,
          0.053,
          0.192,
          0.177,
          0,
          0.197,
          0.245,
          0.127,
          0.066,
          0.189,
          0.248,
          0,
          0.028,
          0.115,
          0.035,
          0.076,
          0.041,
          0.049,
          0.287,
          0,
          0.055,
          0,
          0.074,
          0,
          0.103,
          0,
          0.058,
          0,
          0.138,
          0,
          0,
          0.066,
          0.027,
          0.161,
          0,
          0.044,
          0.196,
          0.098,
          0.046,
          0.037,
          0,
          0,
          0,
          0.065,
          0,
          0.217,
          0,
          0.039,
          0.096,
          0.147,
          0,
          0.115,
          0,
          0.185,
          0.093,
          0.059,
          0.186,
          0.169,
          0.127,
          0.03,
          0.283,
          0.136,
          0.124,
          0,
          0.292,
          0,
          0.284,
          0.027,
          0.11,
          0.077,
          0.119,
          0.094,
          0.077,
          0.062,
          0.078,
          0.164,
          0,
          0.118,
          0.126,
          0.273,
          0,
          0.233,
          0.196,
          0.05,
          0.093,
          0.166,
          0.059,
          0.13,
          0.027,
          0.045,
          0.059,
          0.201,
          0.166,
          0.05,
          0.116,
          0.093,
          0.034,
          0.032,
          0.063,
          0.308,
          0.102,
          0.166,
          0.137,
          0.117,
          0.086,
          0.118,
          0.027,
          0.365,
          0.103,
          0.087,
          0.031,
          0.038,
          0.095,
          0.083,
          0.161,
          0.089,
          0.099,
          0.051,
          0.017,
          0.253,
          0.06,
          0.21,
          0.286,
          0.063,
          0.236,
          0.107,
          0.101,
          0.046,
          0.105,
          0.181,
          0.147,
          0.123,
          0.205,
          0.067,
          0.09,
          0.09,
          0.211,
          0.102,
          0.152,
          0.075,
          0.19,
          0.062,
          0,
          0.036,
          0.162,
          0.146,
          0.073,
          0.029,
          0.119,
          0,
          0.22,
          0.163,
          0.035,
          0,
          0.084,
          0.123,
          0,
          0.13,
          0,
          0.061,
          0,
          0.153,
          0.237,
          0.083,
          0.061,
          0.196,
          0.275,
          0.113,
          0.171,
          0.08,
          0,
          0.022,
          0.168,
          0.325,
          0.219,
          0.044,
          0.165,
          0.028,
          0.074,
          0.043,
          0.093,
          0.044,
          0.063,
          0.046,
          0.103,
          0,
          0,
          0.286,
          0.081,
          0.158,
          0,
          0.193,
          0.264,
          0.233,
          0.258,
          0.195,
          0.169,
          0.117,
          0.298,
          0.11,
          0.424,
          0.177,
          0.024,
          0.079,
          0.392,
          0,
          0.163,
          0.143,
          0.095,
          0.201,
          0.038,
          0.136,
          0.095,
          0.185,
          0.067,
          0.108,
          0,
          0.163,
          0,
          0.139,
          0,
          0.166,
          0.091,
          0.074,
          0.065,
          0,
          0.078,
          0.259,
          0.151,
          0.206,
          0.099,
          0.049,
          0.234,
          0.346,
          0.074,
          0.051,
          0.15,
          0.076,
          0.248,
          0.172,
          0.074,
          0,
          0.031,
          0.179,
          0.067,
          0.095,
          0.049,
          0.18,
          0.078,
          0.147,
          0.044,
          0.044,
          0.02,
          0.084,
          0.13,
          0.036,
          0.057,
          0.176,
          0,
          0.08,
          0.059,
          0.297,
          0.228,
          0.087,
          0.055,
          0.203,
          0.084,
          0,
          0,
          0.153,
          0,
          0.077,
          0.023,
          0,
          0.258,
          0,
          0,
          0.154,
          0.031,
          0.24,
          0.33,
          0.079,
          0.082,
          0.101,
          0.341,
          0.076,
          0.25,
          0.122,
          0.21,
          0.103,
          0.298,
          0.193,
          0.101,
          0.044,
          0,
          0,
          0,
          0,
          0.088,
          0.112,
          0.173,
          0.081,
          0.218,
          0.062,
          0.042,
          0,
          0.093,
          0.161,
          0.048,
          0.1,
          0.128,
          0.163,
          0.13,
          0.123,
          0.202,
          0.218,
          0.04,
          0.107,
          0.087,
          0.094,
          0,
          0.272,
          0,
          0.058,
          0.125,
          0.162,
          0.181,
          0.247,
          0,
          0.085,
          0.02,
          0.042,
          0,
          0.042,
          0.148,
          0.092,
          0.036,
          0.145,
          0.118,
          0.042,
          0.096,
          0.256,
          0.126,
          0.164,
          0,
          0.079,
          0,
          0.101,
          0,
          0.097,
          0.041,
          0.083,
          0.149,
          0.173,
          0.191,
          0.327,
          0.206,
          0.053,
          0.063,
          0.083,
          0.077,
          0.103,
          0.279,
          0.105,
          0.14,
          0.111,
          0.204,
          0.079,
          0.08,
          0.111,
          0.079,
          0.05,
          0.092,
          0,
          0.08,
          0.073,
          0.107,
          0.017,
          0.153,
          0,
          0.054,
          0.066,
          0.202,
          0.043,
          0.207,
          0.246,
          0.028,
          0.171,
          0.044,
          0.145,
          0.067,
          0.098,
          0.168,
          0.151,
          0.298,
          0.17,
          0.154,
          0,
          0.084,
          0.105
         ],
         "xaxis": "x",
         "y": [
          0.19,
          0.36,
          0.084,
          0.073,
          0,
          0.087,
          0.113,
          0.097,
          0.102,
          0.101,
          0.171,
          0,
          0.065,
          0.43,
          0.362,
          0,
          0.309,
          0.047,
          0.04,
          0.14,
          0.181,
          0.075,
          0.125,
          0.126,
          0.113,
          0.195,
          0.083,
          0.123,
          0.22,
          0,
          0.116,
          0.168,
          0.105,
          0.059,
          0.045,
          0.061,
          0,
          0.105,
          0.139,
          0.061,
          0,
          0.058,
          0.126,
          0.075,
          0.047,
          0,
          0.045,
          0,
          0.152,
          0.124,
          0.215,
          0.012,
          0.233,
          0,
          0,
          0.211,
          0.049,
          0.074,
          0.106,
          0.079,
          0.177,
          0.049,
          0.101,
          0,
          0.028,
          0.16,
          0.036,
          0.078,
          0,
          0.126,
          0.068,
          0.085,
          0.13,
          0.061,
          0.076,
          0.228,
          0.117,
          0,
          0.074,
          0.084,
          0.207,
          0.131,
          0.082,
          0.075,
          0.107,
          0.151,
          0.09,
          0.376,
          0.059,
          0.141,
          0.089,
          0,
          0.063,
          0.295,
          0.304,
          0.149,
          0.057,
          0.185,
          0.02,
          0.095,
          0.121,
          0.179,
          0.039,
          0.036,
          0.076,
          0.086,
          0.114,
          0.133,
          0.074,
          0.424,
          0.127,
          0.176,
          0.231,
          0.094,
          0.038,
          0.142,
          0.212,
          0,
          0.044,
          0.221,
          0,
          0.169,
          0.172,
          0.2,
          0.385,
          0.197,
          0.365,
          0.256,
          0.287,
          0.112,
          0.524,
          0.398,
          0.042,
          0.12,
          0.189,
          0.2,
          0.328,
          0.43,
          0.44,
          0.346,
          0.215,
          0.268,
          0.27,
          0.317,
          0.51,
          0.249,
          0.165,
          0,
          0.542,
          0.291,
          0.143,
          0.263,
          0.562,
          0.145,
          0.135,
          0.212,
          0.435,
          0.226,
          0.514,
          0.226,
          0.273,
          0.35,
          0.538,
          0.349,
          0.508,
          0.127,
          0.154,
          0.131,
          0,
          0.074,
          0.061,
          0.048,
          0.154,
          0.15,
          0,
          0.183,
          0.315,
          0.232,
          0.141,
          0.41,
          0.068,
          0,
          0.05,
          0.086,
          0.194,
          0.196,
          0.298,
          0.127,
          0.143,
          0.023,
          0.127,
          0.253,
          0.105,
          0,
          0.094,
          0.211,
          0.148,
          0.198,
          0.089,
          0.347,
          0,
          0.116,
          0.235,
          0.157,
          0,
          0.087,
          0.024,
          0,
          0,
          0.048,
          0.182,
          0.049,
          0.096,
          0.104,
          0.025,
          0,
          0.066,
          0.052,
          0,
          0.422,
          0.055,
          0,
          0.193,
          0.075,
          0.205,
          0.145,
          0.071,
          0.223,
          0.205,
          0.077,
          0,
          0.05,
          0.228,
          0.084,
          0.474,
          0.543,
          0.191,
          0.052,
          0.191,
          0.245,
          0.141,
          0,
          0.024,
          0.26,
          0,
          0.212,
          0.091,
          0.081,
          0.154,
          0.555,
          0.052,
          0.484,
          0.11,
          0.1,
          0.105,
          0.384,
          0,
          0.142,
          0.243,
          0.093,
          0.24,
          0.028,
          0.289,
          0,
          0,
          0.078,
          0.064,
          0.033,
          0.356,
          0.143,
          0.227,
          0.118,
          0.042,
          0.201,
          0.027,
          0.136,
          0.043,
          0,
          0,
          0.037,
          0.134,
          0.065,
          0.224,
          0.075,
          0.096,
          0.089,
          0.147,
          0.14,
          0.096,
          0.19,
          0.122,
          0.072,
          0.02,
          0.164,
          0.017,
          0.16,
          0.029,
          0.058,
          0,
          0.063,
          0.063,
          0.026,
          0.131,
          0.038,
          0.059,
          0.036,
          0.034,
          0.036,
          0.044,
          0.028,
          0.212,
          0.096,
          0,
          0.078,
          0.102,
          0.046,
          0.199,
          0.158,
          0,
          0,
          0.074,
          0.054,
          0.329,
          0.339,
          0.107,
          0.148,
          0.042,
          0.036,
          0.072,
          0.159,
          0.104,
          0,
          0.165,
          0.074,
          0.036,
          0.104,
          0.039,
          0.054,
          0.078,
          0.07,
          0.093,
          0.129,
          0,
          0.159,
          0.06,
          0.167,
          0.017,
          0.153,
          0.094,
          0.147,
          0.18,
          0,
          0.147,
          0,
          0.152,
          0.207,
          0.037,
          0.056,
          0.114,
          0.275,
          0.297,
          0.043,
          0.065,
          0.072,
          0.173,
          0.073,
          0.111,
          0,
          0.03,
          0.147,
          0.259,
          0.116,
          0.229,
          0.052,
          0.107,
          0.078,
          0.121,
          0.173,
          0.058,
          0.071,
          0.136,
          0.232,
          0.192,
          0.067,
          0.1,
          0.15,
          0.307,
          0.196,
          0.058,
          0.281,
          0.376,
          0.236,
          0,
          0.057,
          0,
          0.109,
          0.088,
          0.047,
          0,
          0.077,
          0.183,
          0,
          0.094,
          0.033,
          0,
          0,
          0,
          0.143,
          0.058,
          0.039,
          0.191,
          0.054,
          0.141,
          0.121,
          0.117,
          0,
          0.134,
          0.217,
          0,
          0.116,
          0.059,
          0.081,
          0.13,
          0.111,
          0.163,
          0,
          0.199,
          0.093,
          0.134,
          0.06,
          0,
          0.19,
          0.114,
          0.024,
          0,
          0.076,
          0.063,
          0.025,
          0.04,
          0.064,
          0.217,
          0,
          0.036,
          0.043,
          0.109,
          0.194,
          0.11,
          0.187,
          0.164,
          0.2,
          0.077,
          0.35,
          0,
          0.082,
          0,
          0.134,
          0.157,
          0.068,
          0.125,
          0.059,
          0.06,
          0.101,
          0,
          0.07,
          0.202,
          0.078,
          0.142,
          0.064,
          0.069,
          0.107,
          0.194,
          0.052,
          0.078,
          0,
          0,
          0.206,
          0.059,
          0.135,
          0.15,
          0.128,
          0.133,
          0.283,
          0.146,
          0.116,
          0.135,
          0.083,
          0,
          0.075,
          0.086,
          0.033,
          0.069,
          0.142,
          0.085,
          0,
          0.117,
          0.021,
          0.109,
          0.226,
          0,
          0.152,
          0.175,
          0.108,
          0,
          0.124,
          0.032,
          0.154,
          0.126,
          0,
          0.183,
          0.132,
          0,
          0.094,
          0,
          0.182,
          0.194,
          0.093,
          0.064,
          0.072,
          0.341,
          0.086,
          0.089,
          0.185,
          0.204,
          0.134,
          0.155,
          0.024,
          0.112,
          0,
          0.13,
          0.083,
          0.1,
          0.125,
          0.135,
          0.357,
          0.238,
          0.181,
          0.194,
          0,
          0.108,
          0,
          0.125,
          0.114,
          0.056,
          0.198,
          0.184,
          0.085,
          0.071,
          0.297,
          0.064,
          0.646,
          0.167,
          0.304,
          0.22,
          0.159,
          0.053,
          0.079,
          0.176,
          0.216,
          0.063,
          0.135,
          0.14,
          0.093,
          0.172,
          0.031,
          0.073,
          0.074,
          0.225,
          0,
          0.099,
          0.049,
          0.112,
          0.05,
          0.19,
          0.065,
          0.26,
          0.134,
          0.12,
          0.302,
          0.095,
          0,
          0.026,
          0.172,
          0.039,
          0.066,
          0.075,
          0,
          0.144,
          0.083,
          0.199,
          0.076,
          0.061,
          0.175,
          0.06,
          0.107,
          0.03,
          0.062,
          0.087,
          0.092,
          0.074,
          0.089,
          0.033,
          0.032,
          0.034,
          0,
          0
         ],
         "yaxis": "y"
        }
       ],
       "layout": {
        "coloraxis": {
         "colorbar": {
          "title": {
           "text": "agglo_cluster"
          }
         },
         "colorscale": [
          [
           0,
           "#0d0887"
          ],
          [
           0.1111111111111111,
           "#46039f"
          ],
          [
           0.2222222222222222,
           "#7201a8"
          ],
          [
           0.3333333333333333,
           "#9c179e"
          ],
          [
           0.4444444444444444,
           "#bd3786"
          ],
          [
           0.5555555555555556,
           "#d8576b"
          ],
          [
           0.6666666666666666,
           "#ed7953"
          ],
          [
           0.7777777777777778,
           "#fb9f3a"
          ],
          [
           0.8888888888888888,
           "#fdca26"
          ],
          [
           1,
           "#f0f921"
          ]
         ]
        },
        "legend": {
         "tracegroupgap": 0
        },
        "margin": {
         "t": 60
        },
        "template": {
         "data": {
          "bar": [
           {
            "error_x": {
             "color": "#2a3f5f"
            },
            "error_y": {
             "color": "#2a3f5f"
            },
            "marker": {
             "line": {
              "color": "#E5ECF6",
              "width": 0.5
             },
             "pattern": {
              "fillmode": "overlay",
              "size": 10,
              "solidity": 0.2
             }
            },
            "type": "bar"
           }
          ],
          "barpolar": [
           {
            "marker": {
             "line": {
              "color": "#E5ECF6",
              "width": 0.5
             },
             "pattern": {
              "fillmode": "overlay",
              "size": 10,
              "solidity": 0.2
             }
            },
            "type": "barpolar"
           }
          ],
          "carpet": [
           {
            "aaxis": {
             "endlinecolor": "#2a3f5f",
             "gridcolor": "white",
             "linecolor": "white",
             "minorgridcolor": "white",
             "startlinecolor": "#2a3f5f"
            },
            "baxis": {
             "endlinecolor": "#2a3f5f",
             "gridcolor": "white",
             "linecolor": "white",
             "minorgridcolor": "white",
             "startlinecolor": "#2a3f5f"
            },
            "type": "carpet"
           }
          ],
          "choropleth": [
           {
            "colorbar": {
             "outlinewidth": 0,
             "ticks": ""
            },
            "type": "choropleth"
           }
          ],
          "contour": [
           {
            "colorbar": {
             "outlinewidth": 0,
             "ticks": ""
            },
            "colorscale": [
             [
              0,
              "#0d0887"
             ],
             [
              0.1111111111111111,
              "#46039f"
             ],
             [
              0.2222222222222222,
              "#7201a8"
             ],
             [
              0.3333333333333333,
              "#9c179e"
             ],
             [
              0.4444444444444444,
              "#bd3786"
             ],
             [
              0.5555555555555556,
              "#d8576b"
             ],
             [
              0.6666666666666666,
              "#ed7953"
             ],
             [
              0.7777777777777778,
              "#fb9f3a"
             ],
             [
              0.8888888888888888,
              "#fdca26"
             ],
             [
              1,
              "#f0f921"
             ]
            ],
            "type": "contour"
           }
          ],
          "contourcarpet": [
           {
            "colorbar": {
             "outlinewidth": 0,
             "ticks": ""
            },
            "type": "contourcarpet"
           }
          ],
          "heatmap": [
           {
            "colorbar": {
             "outlinewidth": 0,
             "ticks": ""
            },
            "colorscale": [
             [
              0,
              "#0d0887"
             ],
             [
              0.1111111111111111,
              "#46039f"
             ],
             [
              0.2222222222222222,
              "#7201a8"
             ],
             [
              0.3333333333333333,
              "#9c179e"
             ],
             [
              0.4444444444444444,
              "#bd3786"
             ],
             [
              0.5555555555555556,
              "#d8576b"
             ],
             [
              0.6666666666666666,
              "#ed7953"
             ],
             [
              0.7777777777777778,
              "#fb9f3a"
             ],
             [
              0.8888888888888888,
              "#fdca26"
             ],
             [
              1,
              "#f0f921"
             ]
            ],
            "type": "heatmap"
           }
          ],
          "heatmapgl": [
           {
            "colorbar": {
             "outlinewidth": 0,
             "ticks": ""
            },
            "colorscale": [
             [
              0,
              "#0d0887"
             ],
             [
              0.1111111111111111,
              "#46039f"
             ],
             [
              0.2222222222222222,
              "#7201a8"
             ],
             [
              0.3333333333333333,
              "#9c179e"
             ],
             [
              0.4444444444444444,
              "#bd3786"
             ],
             [
              0.5555555555555556,
              "#d8576b"
             ],
             [
              0.6666666666666666,
              "#ed7953"
             ],
             [
              0.7777777777777778,
              "#fb9f3a"
             ],
             [
              0.8888888888888888,
              "#fdca26"
             ],
             [
              1,
              "#f0f921"
             ]
            ],
            "type": "heatmapgl"
           }
          ],
          "histogram": [
           {
            "marker": {
             "pattern": {
              "fillmode": "overlay",
              "size": 10,
              "solidity": 0.2
             }
            },
            "type": "histogram"
           }
          ],
          "histogram2d": [
           {
            "colorbar": {
             "outlinewidth": 0,
             "ticks": ""
            },
            "colorscale": [
             [
              0,
              "#0d0887"
             ],
             [
              0.1111111111111111,
              "#46039f"
             ],
             [
              0.2222222222222222,
              "#7201a8"
             ],
             [
              0.3333333333333333,
              "#9c179e"
             ],
             [
              0.4444444444444444,
              "#bd3786"
             ],
             [
              0.5555555555555556,
              "#d8576b"
             ],
             [
              0.6666666666666666,
              "#ed7953"
             ],
             [
              0.7777777777777778,
              "#fb9f3a"
             ],
             [
              0.8888888888888888,
              "#fdca26"
             ],
             [
              1,
              "#f0f921"
             ]
            ],
            "type": "histogram2d"
           }
          ],
          "histogram2dcontour": [
           {
            "colorbar": {
             "outlinewidth": 0,
             "ticks": ""
            },
            "colorscale": [
             [
              0,
              "#0d0887"
             ],
             [
              0.1111111111111111,
              "#46039f"
             ],
             [
              0.2222222222222222,
              "#7201a8"
             ],
             [
              0.3333333333333333,
              "#9c179e"
             ],
             [
              0.4444444444444444,
              "#bd3786"
             ],
             [
              0.5555555555555556,
              "#d8576b"
             ],
             [
              0.6666666666666666,
              "#ed7953"
             ],
             [
              0.7777777777777778,
              "#fb9f3a"
             ],
             [
              0.8888888888888888,
              "#fdca26"
             ],
             [
              1,
              "#f0f921"
             ]
            ],
            "type": "histogram2dcontour"
           }
          ],
          "mesh3d": [
           {
            "colorbar": {
             "outlinewidth": 0,
             "ticks": ""
            },
            "type": "mesh3d"
           }
          ],
          "parcoords": [
           {
            "line": {
             "colorbar": {
              "outlinewidth": 0,
              "ticks": ""
             }
            },
            "type": "parcoords"
           }
          ],
          "pie": [
           {
            "automargin": true,
            "type": "pie"
           }
          ],
          "scatter": [
           {
            "fillpattern": {
             "fillmode": "overlay",
             "size": 10,
             "solidity": 0.2
            },
            "type": "scatter"
           }
          ],
          "scatter3d": [
           {
            "line": {
             "colorbar": {
              "outlinewidth": 0,
              "ticks": ""
             }
            },
            "marker": {
             "colorbar": {
              "outlinewidth": 0,
              "ticks": ""
             }
            },
            "type": "scatter3d"
           }
          ],
          "scattercarpet": [
           {
            "marker": {
             "colorbar": {
              "outlinewidth": 0,
              "ticks": ""
             }
            },
            "type": "scattercarpet"
           }
          ],
          "scattergeo": [
           {
            "marker": {
             "colorbar": {
              "outlinewidth": 0,
              "ticks": ""
             }
            },
            "type": "scattergeo"
           }
          ],
          "scattergl": [
           {
            "marker": {
             "colorbar": {
              "outlinewidth": 0,
              "ticks": ""
             }
            },
            "type": "scattergl"
           }
          ],
          "scattermapbox": [
           {
            "marker": {
             "colorbar": {
              "outlinewidth": 0,
              "ticks": ""
             }
            },
            "type": "scattermapbox"
           }
          ],
          "scatterpolar": [
           {
            "marker": {
             "colorbar": {
              "outlinewidth": 0,
              "ticks": ""
             }
            },
            "type": "scatterpolar"
           }
          ],
          "scatterpolargl": [
           {
            "marker": {
             "colorbar": {
              "outlinewidth": 0,
              "ticks": ""
             }
            },
            "type": "scatterpolargl"
           }
          ],
          "scatterternary": [
           {
            "marker": {
             "colorbar": {
              "outlinewidth": 0,
              "ticks": ""
             }
            },
            "type": "scatterternary"
           }
          ],
          "surface": [
           {
            "colorbar": {
             "outlinewidth": 0,
             "ticks": ""
            },
            "colorscale": [
             [
              0,
              "#0d0887"
             ],
             [
              0.1111111111111111,
              "#46039f"
             ],
             [
              0.2222222222222222,
              "#7201a8"
             ],
             [
              0.3333333333333333,
              "#9c179e"
             ],
             [
              0.4444444444444444,
              "#bd3786"
             ],
             [
              0.5555555555555556,
              "#d8576b"
             ],
             [
              0.6666666666666666,
              "#ed7953"
             ],
             [
              0.7777777777777778,
              "#fb9f3a"
             ],
             [
              0.8888888888888888,
              "#fdca26"
             ],
             [
              1,
              "#f0f921"
             ]
            ],
            "type": "surface"
           }
          ],
          "table": [
           {
            "cells": {
             "fill": {
              "color": "#EBF0F8"
             },
             "line": {
              "color": "white"
             }
            },
            "header": {
             "fill": {
              "color": "#C8D4E3"
             },
             "line": {
              "color": "white"
             }
            },
            "type": "table"
           }
          ]
         },
         "layout": {
          "annotationdefaults": {
           "arrowcolor": "#2a3f5f",
           "arrowhead": 0,
           "arrowwidth": 1
          },
          "autotypenumbers": "strict",
          "coloraxis": {
           "colorbar": {
            "outlinewidth": 0,
            "ticks": ""
           }
          },
          "colorscale": {
           "diverging": [
            [
             0,
             "#8e0152"
            ],
            [
             0.1,
             "#c51b7d"
            ],
            [
             0.2,
             "#de77ae"
            ],
            [
             0.3,
             "#f1b6da"
            ],
            [
             0.4,
             "#fde0ef"
            ],
            [
             0.5,
             "#f7f7f7"
            ],
            [
             0.6,
             "#e6f5d0"
            ],
            [
             0.7,
             "#b8e186"
            ],
            [
             0.8,
             "#7fbc41"
            ],
            [
             0.9,
             "#4d9221"
            ],
            [
             1,
             "#276419"
            ]
           ],
           "sequential": [
            [
             0,
             "#0d0887"
            ],
            [
             0.1111111111111111,
             "#46039f"
            ],
            [
             0.2222222222222222,
             "#7201a8"
            ],
            [
             0.3333333333333333,
             "#9c179e"
            ],
            [
             0.4444444444444444,
             "#bd3786"
            ],
            [
             0.5555555555555556,
             "#d8576b"
            ],
            [
             0.6666666666666666,
             "#ed7953"
            ],
            [
             0.7777777777777778,
             "#fb9f3a"
            ],
            [
             0.8888888888888888,
             "#fdca26"
            ],
            [
             1,
             "#f0f921"
            ]
           ],
           "sequentialminus": [
            [
             0,
             "#0d0887"
            ],
            [
             0.1111111111111111,
             "#46039f"
            ],
            [
             0.2222222222222222,
             "#7201a8"
            ],
            [
             0.3333333333333333,
             "#9c179e"
            ],
            [
             0.4444444444444444,
             "#bd3786"
            ],
            [
             0.5555555555555556,
             "#d8576b"
            ],
            [
             0.6666666666666666,
             "#ed7953"
            ],
            [
             0.7777777777777778,
             "#fb9f3a"
            ],
            [
             0.8888888888888888,
             "#fdca26"
            ],
            [
             1,
             "#f0f921"
            ]
           ]
          },
          "colorway": [
           "#636efa",
           "#EF553B",
           "#00cc96",
           "#ab63fa",
           "#FFA15A",
           "#19d3f3",
           "#FF6692",
           "#B6E880",
           "#FF97FF",
           "#FECB52"
          ],
          "font": {
           "color": "#2a3f5f"
          },
          "geo": {
           "bgcolor": "white",
           "lakecolor": "white",
           "landcolor": "#E5ECF6",
           "showlakes": true,
           "showland": true,
           "subunitcolor": "white"
          },
          "hoverlabel": {
           "align": "left"
          },
          "hovermode": "closest",
          "mapbox": {
           "style": "light"
          },
          "paper_bgcolor": "white",
          "plot_bgcolor": "#E5ECF6",
          "polar": {
           "angularaxis": {
            "gridcolor": "white",
            "linecolor": "white",
            "ticks": ""
           },
           "bgcolor": "#E5ECF6",
           "radialaxis": {
            "gridcolor": "white",
            "linecolor": "white",
            "ticks": ""
           }
          },
          "scene": {
           "xaxis": {
            "backgroundcolor": "#E5ECF6",
            "gridcolor": "white",
            "gridwidth": 2,
            "linecolor": "white",
            "showbackground": true,
            "ticks": "",
            "zerolinecolor": "white"
           },
           "yaxis": {
            "backgroundcolor": "#E5ECF6",
            "gridcolor": "white",
            "gridwidth": 2,
            "linecolor": "white",
            "showbackground": true,
            "ticks": "",
            "zerolinecolor": "white"
           },
           "zaxis": {
            "backgroundcolor": "#E5ECF6",
            "gridcolor": "white",
            "gridwidth": 2,
            "linecolor": "white",
            "showbackground": true,
            "ticks": "",
            "zerolinecolor": "white"
           }
          },
          "shapedefaults": {
           "line": {
            "color": "#2a3f5f"
           }
          },
          "ternary": {
           "aaxis": {
            "gridcolor": "white",
            "linecolor": "white",
            "ticks": ""
           },
           "baxis": {
            "gridcolor": "white",
            "linecolor": "white",
            "ticks": ""
           },
           "bgcolor": "#E5ECF6",
           "caxis": {
            "gridcolor": "white",
            "linecolor": "white",
            "ticks": ""
           }
          },
          "title": {
           "x": 0.05
          },
          "xaxis": {
           "automargin": true,
           "gridcolor": "white",
           "linecolor": "white",
           "ticks": "",
           "title": {
            "standoff": 15
           },
           "zerolinecolor": "white",
           "zerolinewidth": 2
          },
          "yaxis": {
           "automargin": true,
           "gridcolor": "white",
           "linecolor": "white",
           "ticks": "",
           "title": {
            "standoff": 15
           },
           "zerolinecolor": "white",
           "zerolinewidth": 2
          }
         }
        },
        "xaxis": {
         "anchor": "y",
         "domain": [
          0,
          1
         ],
         "title": {
          "text": "neg"
         }
        },
        "yaxis": {
         "anchor": "x",
         "domain": [
          0,
          1
         ],
         "title": {
          "text": "pos"
         }
        }
       }
      }
     },
     "metadata": {},
     "output_type": "display_data"
    }
   ],
   "source": [
    "fig = px.scatter(df, x = 'neg', y = 'pos', color='agglo_cluster', hover_data=['ratings','neg','neu','pos','compound'])\n",
    "fig.show()"
   ]
  },
  {
   "cell_type": "code",
   "execution_count": null,
   "id": "2ac3938c",
   "metadata": {},
   "outputs": [],
   "source": []
  }
 ],
 "metadata": {
  "kernelspec": {
   "display_name": "base",
   "language": "python",
   "name": "python3"
  },
  "language_info": {
   "codemirror_mode": {
    "name": "ipython",
    "version": 3
   },
   "file_extension": ".py",
   "mimetype": "text/x-python",
   "name": "python",
   "nbconvert_exporter": "python",
   "pygments_lexer": "ipython3",
   "version": "3.12.2"
  }
 },
 "nbformat": 4,
 "nbformat_minor": 5
}
