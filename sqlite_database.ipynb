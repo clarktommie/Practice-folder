{
 "cells": [
  {
   "cell_type": "markdown",
   "metadata": {},
   "source": [
    "### SQL and Databases\n",
    "\n",
    "Structured Query Language or SQL is a very common tool for data science.  It is a way to access data from databases.  We use databases rather than spreadsheets or csv's since they\n",
    "tend to be more efficient uses of space.\n",
    "\n",
    "For DTSC 2302 we are going to use a simple version of SQL and of database structure.  Generally, a database would be stored on a server and communications would go through the server.  In this course, we are just going to use some simple databases that are stored locally using a python library called _sqlite3_.  You may have to _install_ this\n",
    "library but it now comes as part of my python downloads."
   ]
  },
  {
   "cell_type": "code",
   "execution_count": 1,
   "metadata": {},
   "outputs": [],
   "source": [
    "# Import the sqlite3 library\n",
    "import sqlite3 as db\n",
    "import pandas as pd"
   ]
  },
  {
   "cell_type": "markdown",
   "metadata": {},
   "source": [
    "The first thing we have to do is open a connection to our database which we do through the command _db.connect(dbname)_ where *dbname* is the name of a database.\n",
    "\n",
    "We then also have to define a _cursor_ so that we can interact with the connection.  Basically the cursor acts like the connection to a database server in a usaal SQL setting \n",
    "where you have a local machine and the database is on the server."
   ]
  },
  {
   "cell_type": "code",
   "execution_count": 2,
   "metadata": {},
   "outputs": [],
   "source": [
    "# create a connection between the database and VSCode\n",
    "# If the database does not exist, SQLite will create it.\n",
    "conn = db.connect('students_courses.db')  # Create or connect to database\n",
    "# create a cursor object which will be the way through which we pass commands\n",
    "cursor = conn.cursor()"
   ]
  },
  {
   "cell_type": "markdown",
   "metadata": {},
   "source": [
    "Having created the database --- which should appear in your current directory --- we will next create a table.  We use the cursor to send a command that \n",
    "we want to execute to the database.  We'll do a simple table called _student_ here with some student information.\n",
    "\n",
    "When we CREATE a TABLE, we need to specify the attributes as well as the PRIMARY KEY.  For each attribute we also specify the data type.  The most common\n",
    "data types are: INTEGER, REAL, and TEXT.  The REAL datatype is like FLOAT in some other programming languages."
   ]
  },
  {
   "cell_type": "code",
   "execution_count": 3,
   "metadata": {},
   "outputs": [
    {
     "data": {
      "text/plain": [
       "<sqlite3.Cursor at 0x70bbf8634640>"
      ]
     },
     "execution_count": 3,
     "metadata": {},
     "output_type": "execute_result"
    }
   ],
   "source": [
    "#Create a TABLE called students which will have fields: student_id, first_name, last_name, age and course_id\n",
    "\n",
    "cursor.execute('''\n",
    "CREATE TABLE IF NOT EXISTS student (\n",
    "    student_id INTEGER PRIMARY KEY,\n",
    "    first_name TEXT,\n",
    "    last_name TEXT,\n",
    "    age INTEGER,\n",
    "    course_id INTEGER \n",
    ")\n",
    "''')"
   ]
  },
  {
   "cell_type": "markdown",
   "metadata": {},
   "source": [
    "To enter data by hand into a database we create an object, as below, which I've called *students_data*.  We will then INSERT that data into our table called *student*."
   ]
  },
  {
   "cell_type": "code",
   "execution_count": 4,
   "metadata": {},
   "outputs": [],
   "source": [
    "\n",
    "# Step 4: Insert some data into the tables\n",
    "# Insert data into the 'students' table\n",
    "students_data = [\n",
    "    (165, 'John', 'Doe', 20, 2),\n",
    "    (245, 'Jane', 'Smith', 22, 2),\n",
    "    (3333, 'Mike', 'Jordan', 21, 1),\n",
    "]"
   ]
  },
  {
   "cell_type": "markdown",
   "metadata": {},
   "source": [
    "In the next chunk/cell of code we INSERT the *students_data* into the table called *student*."
   ]
  },
  {
   "cell_type": "code",
   "execution_count": 5,
   "metadata": {},
   "outputs": [
    {
     "data": {
      "text/plain": [
       "<sqlite3.Cursor at 0x70bbf8634640>"
      ]
     },
     "execution_count": 5,
     "metadata": {},
     "output_type": "execute_result"
    }
   ],
   "source": [
    "\n",
    "\n",
    "cursor.executemany('''\n",
    "INSERT INTO student (student_id, first_name, last_name, age, course_id)\n",
    "VALUES (?, ?, ?, ?, ?)\n",
    "''', students_data)"
   ]
  },
  {
   "cell_type": "markdown",
   "metadata": {},
   "source": [
    "Suppose we want to look at the values in our table.  The next cell of code shows you how to do that.\n",
    "\n",
    "The first line 'SELECT * FROM student' says to SQL from the table *student* give me all (denoted by the *) the attributes and all the rows.\n",
    "\n",
    "The rest of the commands in that cell get the output from cursor and then print it."
   ]
  },
  {
   "cell_type": "code",
   "execution_count": 6,
   "metadata": {},
   "outputs": [
    {
     "name": "stdout",
     "output_type": "stream",
     "text": [
      "(165, 'John', 'Doe', 20, 2)\n",
      "(245, 'Jane', 'Smith', 22, 2)\n",
      "(3333, 'Mike', 'Jordan', 21, 1)\n"
     ]
    }
   ],
   "source": [
    "cursor.execute('SELECT * FROM student')\n",
    "rows=cursor.fetchall()\n",
    "for row in rows:\n",
    "    print(row)"
   ]
  },
  {
   "cell_type": "markdown",
   "metadata": {},
   "source": [
    "We don't have to get all the attributes from a table when we SELECT we can just get some of them.  In the cell below, the first line says just give\n",
    "me the *first_name* and *last_name* from the table *student*.  Then print those."
   ]
  },
  {
   "cell_type": "code",
   "execution_count": 7,
   "metadata": {},
   "outputs": [
    {
     "name": "stdout",
     "output_type": "stream",
     "text": [
      "('John', 'Doe')\n",
      "('Jane', 'Smith')\n",
      "('Mike', 'Jordan')\n"
     ]
    }
   ],
   "source": [
    "cursor.execute('SELECT first_name, last_name FROM student')\n",
    "rows=cursor.fetchall()\n",
    "for row in rows:\n",
    "    print(row)"
   ]
  },
  {
   "cell_type": "markdown",
   "metadata": {},
   "source": [
    "We also don't have to get all of the instances/rows from a table but rather we get just the first _n_ where _n_ has to be an integer.  To do that\n",
    "we replace the *fetchall* above with *fetchmany* and we "
   ]
  },
  {
   "cell_type": "code",
   "execution_count": 8,
   "metadata": {},
   "outputs": [
    {
     "name": "stdout",
     "output_type": "stream",
     "text": [
      "(20, 'John')\n",
      "(22, 'Jane')\n"
     ]
    }
   ],
   "source": [
    "cursor.execute('SELECT age,first_name FROM student')\n",
    "rows=cursor.fetchmany(2)\n",
    "for row in rows:\n",
    "    print(row)"
   ]
  },
  {
   "cell_type": "markdown",
   "metadata": {},
   "source": [
    "Next we will create a table called *course* with information about the course."
   ]
  },
  {
   "cell_type": "code",
   "execution_count": 9,
   "metadata": {},
   "outputs": [
    {
     "data": {
      "text/plain": [
       "<sqlite3.Cursor at 0x70bbf8634640>"
      ]
     },
     "execution_count": 9,
     "metadata": {},
     "output_type": "execute_result"
    }
   ],
   "source": [
    "\n",
    "# Courses table: Contains information about courses.\n",
    "cursor.execute('''\n",
    "CREATE TABLE IF NOT EXISTS course (\n",
    "    course_id INTEGER PRIMARY KEY,\n",
    "    course_name TEXT,\n",
    "    instructor TEXT\n",
    ")\n",
    "''')"
   ]
  },
  {
   "cell_type": "markdown",
   "metadata": {},
   "source": [
    "Next we create an array of values to go into the table *course*."
   ]
  },
  {
   "cell_type": "code",
   "execution_count": 10,
   "metadata": {},
   "outputs": [],
   "source": [
    "\n",
    "# Insert data into the 'courses' table\n",
    "courses_data = [\n",
    "    (1, 'Python 101', 'Dr. Alice'),\n",
    "    (2, 'Data Science', 'Prof. Bob'),\n",
    "    (3, 'Machine Learning', 'Dr. Charlie'),\n",
    "]"
   ]
  },
  {
   "cell_type": "markdown",
   "metadata": {},
   "source": [
    "We insert those values into *course* with the following code."
   ]
  },
  {
   "cell_type": "code",
   "execution_count": 11,
   "metadata": {},
   "outputs": [
    {
     "data": {
      "text/plain": [
       "<sqlite3.Cursor at 0x70bbf8634640>"
      ]
     },
     "execution_count": 11,
     "metadata": {},
     "output_type": "execute_result"
    }
   ],
   "source": [
    "#Insert data into the \n",
    "cursor.executemany('''\n",
    "INSERT INTO course (course_id, course_name, instructor)\n",
    "VALUES (?, ?, ?)\n",
    "''', courses_data)"
   ]
  },
  {
   "cell_type": "markdown",
   "metadata": {},
   "source": [
    "Often we want to combine the information in one or more tables.  The usual *verb* for doing such a thing in data science is a 'JOIN', so we want\n",
    "to join information from one table to another.  Below in the code we SELECT attributes *table1.attributeX1*, *table2.attributeX2*,..., *table2.attributeY1*\n",
    "FROM *table1* JOIN *table2* using keys.  The keys we use below are *course_id* from both tables.  The keys we use may not be have the same names for their\n",
    "attributes so we use the *table.attribute* structure to specify the keys."
   ]
  },
  {
   "cell_type": "code",
   "execution_count": 12,
   "metadata": {},
   "outputs": [
    {
     "data": {
      "text/plain": [
       "<sqlite3.Cursor at 0x70bbf8634640>"
      ]
     },
     "execution_count": 12,
     "metadata": {},
     "output_type": "execute_result"
    }
   ],
   "source": [
    "\n",
    "# Let's join the two tables (students and courses) based on student ID and course ID\n",
    "cursor.execute('''\n",
    "SELECT student.first_name, student.last_name, student.age, course.course_name, course.instructor\n",
    "FROM student\n",
    "JOIN course ON student.course_id = course.course_id\n",
    "''')"
   ]
  },
  {
   "cell_type": "markdown",
   "metadata": {},
   "source": [
    "The cell below prints the output from our JOIN above.  As you can see once you run this, the values from the two tables have been combined."
   ]
  },
  {
   "cell_type": "code",
   "execution_count": 13,
   "metadata": {},
   "outputs": [
    {
     "name": "stdout",
     "output_type": "stream",
     "text": [
      "('John', 'Doe', 20, 'Data Science', 'Prof. Bob')\n",
      "('Jane', 'Smith', 22, 'Data Science', 'Prof. Bob')\n",
      "('Mike', 'Jordan', 21, 'Python 101', 'Dr. Alice')\n"
     ]
    }
   ],
   "source": [
    "# Fetch all the rows of the result\n",
    "rows = cursor.fetchall()\n",
    "\n",
    "\n",
    "# Display the results\n",
    "for row in rows:\n",
    "    print(row)"
   ]
  },
  {
   "cell_type": "markdown",
   "metadata": {},
   "source": [
    "Once you are done with a database you should close the connection.  We will revisit JOINs again soon."
   ]
  },
  {
   "cell_type": "code",
   "execution_count": 14,
   "metadata": {},
   "outputs": [],
   "source": [
    "conn.close()"
   ]
  },
  {
   "cell_type": "markdown",
   "metadata": {},
   "source": [
    "Next we are going to look at reading in data from a CSV file directly into a database.  Luckily there is a nice function that lets us move a pandas dataframe to an SQL table.\n",
    "That command is *to_sql* and it takes the following arguments *table_name*, *cursor_name* and *if_exists*.  The former two give the name of the table to put the dataframe\n",
    "values into and name of the cursor mechanism for the particular sqlite3 database.  The last argument, *if_exists* has three options: 'fail', 'replace','append'.  This argument tells\n",
    "python what to do if the table already exists in the database.  The default here is 'fail' since you don't want to mistakenly overwrite a table in a database. "
   ]
  },
  {
   "cell_type": "code",
   "execution_count": 15,
   "metadata": {},
   "outputs": [
    {
     "data": {
      "text/plain": [
       "12"
      ]
     },
     "execution_count": 15,
     "metadata": {},
     "output_type": "execute_result"
    }
   ],
   "source": [
    "df=pd.read_csv('https://webpages.charlotte.edu/mschuck1/classes/DTSC2301/Data/Charlotte_football_2024_games_small.csv')\n",
    "\n",
    "\n",
    "connection = db.connect('football.db')\n",
    "\n",
    "cursor = connection.cursor()\n",
    "\n",
    "df.to_sql('game',connection,if_exists='replace')"
   ]
  },
  {
   "cell_type": "markdown",
   "metadata": {},
   "source": [
    "Print the values in the table *game*."
   ]
  },
  {
   "cell_type": "code",
   "execution_count": 16,
   "metadata": {},
   "outputs": [
    {
     "name": "stdout",
     "output_type": "stream",
     "text": [
      "(0, 401643774, 2024, 1, 'regular', '2024-09-01T00:00:00.000Z', 'Jerry Richardson Stadium', 2429, 'Charlotte', 'American Athletic', 7, 256, 'James Madison', 'Sun Belt', 30)\n",
      "(1, 401635537, 2024, 2, 'regular', '2024-09-07T19:30:00.000Z', 'Kenan Stadium', 153, 'North Carolina', 'ACC', 38, 2429, 'Charlotte', 'American Athletic', 20)\n",
      "(2, 401645327, 2024, 3, 'regular', '2024-09-14T22:00:00.000Z', 'Jerry Richardson Stadium', 2429, 'Charlotte', 'American Athletic', 27, 2241, 'Gardner-Webb', 'Big South-OVC', 26)\n",
      "(3, 401628486, 2024, 4, 'regular', '2024-09-21T16:00:00.000Z', 'Memorial Stadium (Bloomington, IN)', 84, 'Indiana', 'Big Ten', 52, 2429, 'Charlotte', 'American Athletic', 14)\n",
      "(4, 401645333, 2024, 5, 'regular', '2024-09-28T23:00:00.000Z', 'Rice Stadium', 242, 'Rice', 'American Athletic', 20, 2429, 'Charlotte', 'American Athletic', 21)\n",
      "(5, 401645340, 2024, 6, 'regular', '2024-10-05T19:30:00.000Z', 'Jerry Richardson Stadium', 2429, 'Charlotte', 'American Athletic', 55, 151, 'East Carolina', 'American Athletic', 24)\n",
      "(6, 401645347, 2024, 8, 'regular', '2024-10-19T19:30:00.000Z', 'Navy-Marine Corps Memorial Stadium', 2426, 'Navy', 'American Athletic', 51, 2429, 'Charlotte', 'American Athletic', 17)\n",
      "(7, 401645353, 2024, 9, 'regular', '2024-10-26T16:00:00.000Z', 'Simmons Bank Liberty Stadium', 235, 'Memphis', 'American Athletic', 33, 2429, 'Charlotte', 'American Athletic', 28)\n",
      "(8, 401645356, 2024, 10, 'regular', '2024-10-31T23:30:00.000Z', 'Jerry Richardson Stadium', 2429, 'Charlotte', 'American Athletic', 3, 2655, 'Tulane', 'American Athletic', 34)\n",
      "(9, 401645368, 2024, 12, 'regular', '2024-11-16T20:30:00.000Z', 'Jerry Richardson Stadium', 2429, 'Charlotte', 'American Athletic', 24, 58, 'South Florida', 'American Athletic', 59)\n",
      "(10, 401645371, 2024, 13, 'regular', '2024-11-23T20:00:00.000Z', 'FAU Stadium', 2226, 'Florida Atlantic', 'American Athletic', 27, 2429, 'Charlotte', 'American Athletic', 39)\n",
      "(11, 401645377, 2024, 14, 'regular', '2024-11-30T20:30:00.000Z', 'Jerry Richardson Stadium', 2429, 'Charlotte', 'American Athletic', 29, 5, 'UAB', 'American Athletic', 27)\n"
     ]
    }
   ],
   "source": [
    "cursor.execute('SELECT * FROM game')\n",
    "rows=cursor.fetchall()\n",
    "for row in rows:\n",
    "    print(row)\n"
   ]
  },
  {
   "cell_type": "markdown",
   "metadata": {},
   "source": [
    "When you are done with a database you should close the connection."
   ]
  },
  {
   "cell_type": "code",
   "execution_count": 17,
   "metadata": {},
   "outputs": [],
   "source": [
    "connection.close()"
   ]
  },
  {
   "cell_type": "markdown",
   "metadata": {},
   "source": [
    "### Tasks\n",
    "\n",
    "\n",
    "1. We are going to create a database called bank.db and in that database create two tables.  The first table is called accounts and has attributes: *account_id*, *member_name* and *date_opened*.  The second table is called transactions and has attributes: *transaction_id*, *account_id*, *date*, *amount*.  Before you create that account, think about the variable types of each attribute.\n"
   ]
  },
  {
   "cell_type": "code",
   "execution_count": 19,
   "metadata": {},
   "outputs": [
    {
     "data": {
      "text/plain": [
       "<sqlite3.Cursor at 0x70bbf7ab1b40>"
      ]
     },
     "execution_count": 19,
     "metadata": {},
     "output_type": "execute_result"
    }
   ],
   "source": [
    "# create a database called bank.db\n",
    "conn = db.connect('bank.db')\n",
    "# in bank.db create two tables called accounts and transactions\n",
    "\n",
    "cursor = conn.cursor()\n",
    "cursor.execute('''\n",
    "CREATE TABLE IF NOT EXISTS accounts (\n",
    "    account_id INTEGER PRIMARY KEY,\n",
    "    member_name TEXT,\n",
    "    date_opened REAL\n",
    ")\n",
    "''')\n",
    "\n",
    "cursor.execute('''\n",
    "CREATE TABLE IF NOT EXISTS transactions (\n",
    "    transaction_id INTEGER PRIMARY KEY,\n",
    "    account_id INTEGER,\n",
    "    date REAL,\n",
    "    amount REAL\n",
    ")\n",
    "''')"
   ]
  },
  {
   "cell_type": "markdown",
   "metadata": {},
   "source": [
    "\n",
    "2. Create the database from Task 1 and enter three instances of accounts and two instances of transactions.\n"
   ]
  },
  {
   "cell_type": "code",
   "execution_count": 25,
   "metadata": {},
   "outputs": [
    {
     "data": {
      "text/plain": [
       "<sqlite3.Cursor at 0x70bbf7ab1b40>"
      ]
     },
     "execution_count": 25,
     "metadata": {},
     "output_type": "execute_result"
    }
   ],
   "source": [
    "# enter 3 instances of data into the accounts table\n",
    "accounts_data = [\n",
    "    (4, 'John Doe', '2022-01-01'),\n",
    "    (5, 'Jane Doe', '2022-02-01'),\n",
    "    (6, 'Bob Smith', '2022-03-01')\n",
    "]\n",
    "\n",
    "cursor.executemany('''\n",
    "INSERT INTO accounts (account_id, member_name, date_opened)\n",
    "VALUES (?, ?, ?)\n",
    "''', accounts_data)\n",
    "\n",
    "# enter 2 instances of data into the transactions table\n",
    "transactions_data = [\n",
    "    (1, 4, '2022-01-02', 100.0),\n",
    "    (2, 5, '2022-02-02', 200.0)\n",
    "]\n",
    "\n",
    "cursor.executemany('''\n",
    "INSERT INTO transactions (transaction_id, account_id, date, amount)\n",
    "VALUES (?, ?, ?, ?)\n",
    "''', transactions_data)"
   ]
  },
  {
   "cell_type": "markdown",
   "metadata": {},
   "source": [
    "\n",
    "3. Reconnect to the *football.db* database and print the first 5 instances.\n"
   ]
  },
  {
   "cell_type": "code",
   "execution_count": 27,
   "metadata": {},
   "outputs": [
    {
     "name": "stdout",
     "output_type": "stream",
     "text": [
      "(0, 401643774, 2024, 1, 'regular', '2024-09-01T00:00:00.000Z', 'Jerry Richardson Stadium', 2429, 'Charlotte', 'American Athletic', 7, 256, 'James Madison', 'Sun Belt', 30)\n",
      "(1, 401635537, 2024, 2, 'regular', '2024-09-07T19:30:00.000Z', 'Kenan Stadium', 153, 'North Carolina', 'ACC', 38, 2429, 'Charlotte', 'American Athletic', 20)\n",
      "(2, 401645327, 2024, 3, 'regular', '2024-09-14T22:00:00.000Z', 'Jerry Richardson Stadium', 2429, 'Charlotte', 'American Athletic', 27, 2241, 'Gardner-Webb', 'Big South-OVC', 26)\n",
      "(3, 401628486, 2024, 4, 'regular', '2024-09-21T16:00:00.000Z', 'Memorial Stadium (Bloomington, IN)', 84, 'Indiana', 'Big Ten', 52, 2429, 'Charlotte', 'American Athletic', 14)\n",
      "(4, 401645333, 2024, 5, 'regular', '2024-09-28T23:00:00.000Z', 'Rice Stadium', 242, 'Rice', 'American Athletic', 20, 2429, 'Charlotte', 'American Athletic', 21)\n"
     ]
    }
   ],
   "source": [
    "connection = db.connect('football.db')\n",
    "\n",
    "cursor = connection.cursor()\n",
    "\n",
    "df.to_sql('game',connection,if_exists='replace')\n",
    "\n",
    "# print first 5 instances of the game table\n",
    "cursor.execute('SELECT * FROM game')\n",
    "rows=cursor.fetchmany(5)\n",
    "for row in rows:\n",
    "    print(row)"
   ]
  },
  {
   "cell_type": "markdown",
   "metadata": {},
   "source": [
    "\n",
    "4. Having reconnected to the *football.db* database, print the scores for all of the games.  "
   ]
  },
  {
   "cell_type": "code",
   "execution_count": 29,
   "metadata": {},
   "outputs": [
    {
     "name": "stdout",
     "output_type": "stream",
     "text": [
      "(0, 401643774, 2024, 1, 'regular', '2024-09-01T00:00:00.000Z', 'Jerry Richardson Stadium', 2429, 'Charlotte', 'American Athletic', 7, 256, 'James Madison', 'Sun Belt', 30)\n",
      "(1, 401635537, 2024, 2, 'regular', '2024-09-07T19:30:00.000Z', 'Kenan Stadium', 153, 'North Carolina', 'ACC', 38, 2429, 'Charlotte', 'American Athletic', 20)\n",
      "(2, 401645327, 2024, 3, 'regular', '2024-09-14T22:00:00.000Z', 'Jerry Richardson Stadium', 2429, 'Charlotte', 'American Athletic', 27, 2241, 'Gardner-Webb', 'Big South-OVC', 26)\n",
      "(3, 401628486, 2024, 4, 'regular', '2024-09-21T16:00:00.000Z', 'Memorial Stadium (Bloomington, IN)', 84, 'Indiana', 'Big Ten', 52, 2429, 'Charlotte', 'American Athletic', 14)\n",
      "(4, 401645333, 2024, 5, 'regular', '2024-09-28T23:00:00.000Z', 'Rice Stadium', 242, 'Rice', 'American Athletic', 20, 2429, 'Charlotte', 'American Athletic', 21)\n",
      "(5, 401645340, 2024, 6, 'regular', '2024-10-05T19:30:00.000Z', 'Jerry Richardson Stadium', 2429, 'Charlotte', 'American Athletic', 55, 151, 'East Carolina', 'American Athletic', 24)\n",
      "(6, 401645347, 2024, 8, 'regular', '2024-10-19T19:30:00.000Z', 'Navy-Marine Corps Memorial Stadium', 2426, 'Navy', 'American Athletic', 51, 2429, 'Charlotte', 'American Athletic', 17)\n",
      "(7, 401645353, 2024, 9, 'regular', '2024-10-26T16:00:00.000Z', 'Simmons Bank Liberty Stadium', 235, 'Memphis', 'American Athletic', 33, 2429, 'Charlotte', 'American Athletic', 28)\n",
      "(8, 401645356, 2024, 10, 'regular', '2024-10-31T23:30:00.000Z', 'Jerry Richardson Stadium', 2429, 'Charlotte', 'American Athletic', 3, 2655, 'Tulane', 'American Athletic', 34)\n",
      "(9, 401645368, 2024, 12, 'regular', '2024-11-16T20:30:00.000Z', 'Jerry Richardson Stadium', 2429, 'Charlotte', 'American Athletic', 24, 58, 'South Florida', 'American Athletic', 59)\n",
      "(10, 401645371, 2024, 13, 'regular', '2024-11-23T20:00:00.000Z', 'FAU Stadium', 2226, 'Florida Atlantic', 'American Athletic', 27, 2429, 'Charlotte', 'American Athletic', 39)\n",
      "(11, 401645377, 2024, 14, 'regular', '2024-11-30T20:30:00.000Z', 'Jerry Richardson Stadium', 2429, 'Charlotte', 'American Athletic', 29, 5, 'UAB', 'American Athletic', 27)\n"
     ]
    }
   ],
   "source": [
    "# print scores of all the games\n",
    "cursor.execute('SELECT * FROM game')\n",
    "rows=cursor.fetchall()\n",
    "for row in rows:\n",
    "    print(row)"
   ]
  }
 ],
 "metadata": {
  "kernelspec": {
   "display_name": "base",
   "language": "python",
   "name": "python3"
  },
  "language_info": {
   "codemirror_mode": {
    "name": "ipython",
    "version": 3
   },
   "file_extension": ".py",
   "mimetype": "text/x-python",
   "name": "python",
   "nbconvert_exporter": "python",
   "pygments_lexer": "ipython3",
   "version": "3.12.2"
  }
 },
 "nbformat": 4,
 "nbformat_minor": 2
}
