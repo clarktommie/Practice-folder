{
 "cells": [
  {
   "cell_type": "code",
   "execution_count": 2,
   "id": "34a8d9a3",
   "metadata": {},
   "outputs": [],
   "source": [
    "import numpy as np\n",
    "import pandas as pd\n",
    "import matplotlib.pyplot as plt\n",
    "from sklearn.datasets import make_classification\n",
    "from sklearn.model_selection import train_test_split\n",
    "from sklearn.preprocessing import StandardScaler\n",
    "from sklearn.discriminant_analysis import LinearDiscriminantAnalysis, QuadraticDiscriminantAnalysis\n",
    "from sklearn.neighbors import KNeighborsClassifier\n",
    "from sklearn.linear_model import LogisticRegression\n",
    "\n",
    "from sklearn.linear_model import LogisticRegression\n",
    "\n",
    "import statsmodels.api as sm"
   ]
  },
  {
   "cell_type": "markdown",
   "id": "bef07110",
   "metadata": {},
   "source": [
    "### Missing Data and Imputation\n",
    "\n",
    "Types of missingness\n",
    "\n",
    "From [National Institutes of Health, National Library of Medicine](https://www.ncbi.nlm.nih.gov/books/NBK493614/)\n",
    "\n",
    "1. *Missing completely at random (MCAR)*. When data are MCAR, the fact that the data are missing is independent of the observed and unobserved data. In other words, no systematic differences exist between participants with missing data and those with complete data. For example, some participants may have missing laboratory values because a batch of lab samples was processed improperly. In these instances, the missing data reduce the analyzable population of the study and consequently, the statistical power, but do not introduce bias: when data are MCAR, the data which remain can be considered a simple random sample of the full data set of interest. MCAR is generally regarded as a strong and often unrealistic assumption.\n",
    "\n",
    "2. *Missing at random (MAR)*. When data are MAR, the fact that the data are missing is systematically related to the observed but not the unobserved data. For example, a registry examining depression may encounter data that are MAR if male participants are less likely to complete a survey about depression severity than female participants. That is, if probability of completion of the survey is related to their sex (which is fully observed) but not the severity of their depression, then the data may be regarded as MAR. Complete case analyses, which are based on only observations for which all relevant data are present and no fields are missing, of a data set containing MAR data may or may not result in bias. If the complete case analysis is biased, however, proper accounting for the known factors (in the above example, sex) can produce unbiased results in analysis.\n",
    "\n",
    "3. *Missing not at random (MNAR)*. When data are MNAR, the fact that the data are missing is systematically related to the unobserved data, that is, the missingness is related to events or factors which are not measured by the researcher. To extend the previous example, the depression registry may encounter data that are MNAR if participants with severe depression are more likely to refuse to complete the survey about depression severity. As with MAR data, complete case analysis of a data set containing MNAR data may or may not result in bias; if the complete case analysis is biased, however, the fact that the sources of missing data are themselves unmeasured means that (in general) this issue cannot be addressed in analysis and the estimate of effect will likely be biased.\n",
    "\n",
    "How we deal with missingness often depends on the data collection processes.  It is important to understand the way in which the data was collected before we can make a determination among the above categories.  That said, for some of our datasets it is hard to know and the distinctions above can be quite subtle.\n",
    "\n"
   ]
  },
  {
   "cell_type": "code",
   "execution_count": 3,
   "id": "1407ed2e",
   "metadata": {},
   "outputs": [],
   "source": [
    "# import pandas, numpy and matplotlib libraries\n",
    "import pandas as pd\n",
    "\n",
    "import matplotlib.pyplot as plt\n",
    "import numpy as np\n",
    "\n",
    "from matplotlib import colors"
   ]
  },
  {
   "cell_type": "code",
   "execution_count": 4,
   "id": "804deb31",
   "metadata": {},
   "outputs": [],
   "source": [
    "penguins = pd.read_csv(\"https://webpages.charlotte.edu/mschuck1/classes/DTSC2301/Data/penguins.csv\", na_values=['NA'])\n",
    "# remove rows with missing data\n",
    "penguins.dropna(inplace=True)\n",
    "penguins.head()\n",
    "penguins_dropall=penguins"
   ]
  },
  {
   "cell_type": "code",
   "execution_count": 5,
   "id": "cef0d0e7",
   "metadata": {},
   "outputs": [
    {
     "data": {
      "application/vnd.microsoft.datawrangler.viewer.v0+json": {
       "columns": [
        {
         "name": "index",
         "rawType": "int64",
         "type": "integer"
        },
        {
         "name": "species",
         "rawType": "object",
         "type": "string"
        },
        {
         "name": "island",
         "rawType": "object",
         "type": "string"
        },
        {
         "name": "bill_length_mm",
         "rawType": "float64",
         "type": "float"
        },
        {
         "name": "bill_depth_mm",
         "rawType": "float64",
         "type": "float"
        },
        {
         "name": "flipper_length_mm",
         "rawType": "float64",
         "type": "float"
        },
        {
         "name": "body_mass_g",
         "rawType": "float64",
         "type": "float"
        },
        {
         "name": "sex",
         "rawType": "object",
         "type": "unknown"
        },
        {
         "name": "year",
         "rawType": "int64",
         "type": "integer"
        }
       ],
       "conversionMethod": "pd.DataFrame",
       "ref": "527cc6a3-c8c6-4c86-a16d-a5f80506c98c",
       "rows": [
        [
         "0",
         "Adelie",
         "Torgersen",
         "39.1",
         "18.7",
         "181.0",
         "3750.0",
         "male",
         "2007"
        ],
        [
         "1",
         "Adelie",
         "Torgersen",
         "39.5",
         "17.4",
         "186.0",
         "3800.0",
         "female",
         "2007"
        ],
        [
         "2",
         "Adelie",
         "Torgersen",
         "40.3",
         "18.0",
         "195.0",
         "3250.0",
         "female",
         "2007"
        ],
        [
         "3",
         "Adelie",
         "Torgersen",
         null,
         null,
         null,
         null,
         null,
         "2007"
        ],
        [
         "4",
         "Adelie",
         "Torgersen",
         "36.7",
         "19.3",
         "193.0",
         "3450.0",
         "female",
         "2007"
        ]
       ],
       "shape": {
        "columns": 8,
        "rows": 5
       }
      },
      "text/html": [
       "<div>\n",
       "<style scoped>\n",
       "    .dataframe tbody tr th:only-of-type {\n",
       "        vertical-align: middle;\n",
       "    }\n",
       "\n",
       "    .dataframe tbody tr th {\n",
       "        vertical-align: top;\n",
       "    }\n",
       "\n",
       "    .dataframe thead th {\n",
       "        text-align: right;\n",
       "    }\n",
       "</style>\n",
       "<table border=\"1\" class=\"dataframe\">\n",
       "  <thead>\n",
       "    <tr style=\"text-align: right;\">\n",
       "      <th></th>\n",
       "      <th>species</th>\n",
       "      <th>island</th>\n",
       "      <th>bill_length_mm</th>\n",
       "      <th>bill_depth_mm</th>\n",
       "      <th>flipper_length_mm</th>\n",
       "      <th>body_mass_g</th>\n",
       "      <th>sex</th>\n",
       "      <th>year</th>\n",
       "    </tr>\n",
       "  </thead>\n",
       "  <tbody>\n",
       "    <tr>\n",
       "      <th>0</th>\n",
       "      <td>Adelie</td>\n",
       "      <td>Torgersen</td>\n",
       "      <td>39.1</td>\n",
       "      <td>18.7</td>\n",
       "      <td>181.0</td>\n",
       "      <td>3750.0</td>\n",
       "      <td>male</td>\n",
       "      <td>2007</td>\n",
       "    </tr>\n",
       "    <tr>\n",
       "      <th>1</th>\n",
       "      <td>Adelie</td>\n",
       "      <td>Torgersen</td>\n",
       "      <td>39.5</td>\n",
       "      <td>17.4</td>\n",
       "      <td>186.0</td>\n",
       "      <td>3800.0</td>\n",
       "      <td>female</td>\n",
       "      <td>2007</td>\n",
       "    </tr>\n",
       "    <tr>\n",
       "      <th>2</th>\n",
       "      <td>Adelie</td>\n",
       "      <td>Torgersen</td>\n",
       "      <td>40.3</td>\n",
       "      <td>18.0</td>\n",
       "      <td>195.0</td>\n",
       "      <td>3250.0</td>\n",
       "      <td>female</td>\n",
       "      <td>2007</td>\n",
       "    </tr>\n",
       "    <tr>\n",
       "      <th>3</th>\n",
       "      <td>Adelie</td>\n",
       "      <td>Torgersen</td>\n",
       "      <td>NaN</td>\n",
       "      <td>NaN</td>\n",
       "      <td>NaN</td>\n",
       "      <td>NaN</td>\n",
       "      <td>NaN</td>\n",
       "      <td>2007</td>\n",
       "    </tr>\n",
       "    <tr>\n",
       "      <th>4</th>\n",
       "      <td>Adelie</td>\n",
       "      <td>Torgersen</td>\n",
       "      <td>36.7</td>\n",
       "      <td>19.3</td>\n",
       "      <td>193.0</td>\n",
       "      <td>3450.0</td>\n",
       "      <td>female</td>\n",
       "      <td>2007</td>\n",
       "    </tr>\n",
       "  </tbody>\n",
       "</table>\n",
       "</div>"
      ],
      "text/plain": [
       "  species     island  bill_length_mm  bill_depth_mm  flipper_length_mm  \\\n",
       "0  Adelie  Torgersen            39.1           18.7              181.0   \n",
       "1  Adelie  Torgersen            39.5           17.4              186.0   \n",
       "2  Adelie  Torgersen            40.3           18.0              195.0   \n",
       "3  Adelie  Torgersen             NaN            NaN                NaN   \n",
       "4  Adelie  Torgersen            36.7           19.3              193.0   \n",
       "\n",
       "   body_mass_g     sex  year  \n",
       "0       3750.0    male  2007  \n",
       "1       3800.0  female  2007  \n",
       "2       3250.0  female  2007  \n",
       "3          NaN     NaN  2007  \n",
       "4       3450.0  female  2007  "
      ]
     },
     "execution_count": 5,
     "metadata": {},
     "output_type": "execute_result"
    }
   ],
   "source": [
    "penguins = pd.read_csv(\"https://webpages.charlotte.edu/mschuck1/classes/DTSC2301/Data/penguins.csv\", na_values=['NA'])\n",
    "penguins_original=penguins\n",
    "\n",
    "penguins.head()"
   ]
  },
  {
   "cell_type": "code",
   "execution_count": 6,
   "id": "e17b63ec",
   "metadata": {},
   "outputs": [
    {
     "name": "stdout",
     "output_type": "stream",
     "text": [
      "    species     island  bill_length_mm  bill_depth_mm  flipper_length_mm  \\\n",
      "3    Adelie  Torgersen             NaN            NaN                NaN   \n",
      "8    Adelie  Torgersen            34.1           18.1              193.0   \n",
      "9    Adelie  Torgersen            42.0           20.2              190.0   \n",
      "10   Adelie  Torgersen            37.8           17.1              186.0   \n",
      "11   Adelie  Torgersen            37.8           17.3              180.0   \n",
      "47   Adelie      Dream            37.5           18.9              179.0   \n",
      "178  Gentoo     Biscoe            44.5           14.3              216.0   \n",
      "218  Gentoo     Biscoe            46.2           14.4              214.0   \n",
      "256  Gentoo     Biscoe            47.3           13.8              216.0   \n",
      "268  Gentoo     Biscoe            44.5           15.7              217.0   \n",
      "271  Gentoo     Biscoe             NaN            NaN                NaN   \n",
      "\n",
      "     body_mass_g  sex  year  \n",
      "3            NaN  NaN  2007  \n",
      "8         3475.0  NaN  2007  \n",
      "9         4250.0  NaN  2007  \n",
      "10        3300.0  NaN  2007  \n",
      "11        3700.0  NaN  2007  \n",
      "47        2975.0  NaN  2007  \n",
      "178       4100.0  NaN  2007  \n",
      "218       4650.0  NaN  2008  \n",
      "256       4725.0  NaN  2009  \n",
      "268       4875.0  NaN  2009  \n",
      "271          NaN  NaN  2009  \n",
      "<class 'pandas.core.frame.DataFrame'>\n",
      "Index: 11 entries, 3 to 271\n",
      "Data columns (total 8 columns):\n",
      " #   Column             Non-Null Count  Dtype  \n",
      "---  ------             --------------  -----  \n",
      " 0   species            11 non-null     object \n",
      " 1   island             11 non-null     object \n",
      " 2   bill_length_mm     9 non-null      float64\n",
      " 3   bill_depth_mm      9 non-null      float64\n",
      " 4   flipper_length_mm  9 non-null      float64\n",
      " 5   body_mass_g        9 non-null      float64\n",
      " 6   sex                0 non-null      object \n",
      " 7   year               11 non-null     int64  \n",
      "dtypes: float64(4), int64(1), object(3)\n",
      "memory usage: 792.0+ bytes\n",
      "None\n"
     ]
    }
   ],
   "source": [
    "\n",
    "# Identify rows with missing values\n",
    "rows_with_missing = penguins[penguins.isnull().any(axis=1)]\n",
    "\n",
    "# Print the rows with missing values\n",
    "print(rows_with_missing)\n",
    "print(rows_with_missing.info())"
   ]
  },
  {
   "cell_type": "markdown",
   "id": "40c6e40f",
   "metadata": {},
   "source": [
    "So from the above output we can see that there are 11 rows with missing data.  Two of the rows have nearly every feature/variable missing.  There is not much to go on for those rows."
   ]
  },
  {
   "cell_type": "code",
   "execution_count": 7,
   "id": "0cc6e916",
   "metadata": {},
   "outputs": [],
   "source": [
    "penguins.dropna(subset=['bill_length_mm'], inplace=True)\n",
    "# create a dataset of the filtered observations.\n",
    "penguins_filtered1=penguins"
   ]
  },
  {
   "cell_type": "markdown",
   "id": "8a487547",
   "metadata": {},
   "source": [
    "So now we are left with nine rows of missing values and all of the missingness is in the 'sex' variable."
   ]
  },
  {
   "cell_type": "code",
   "execution_count": 8,
   "id": "5656d958",
   "metadata": {},
   "outputs": [
    {
     "name": "stdout",
     "output_type": "stream",
     "text": [
      "    species     island  bill_length_mm  bill_depth_mm  flipper_length_mm  \\\n",
      "8    Adelie  Torgersen            34.1           18.1              193.0   \n",
      "9    Adelie  Torgersen            42.0           20.2              190.0   \n",
      "10   Adelie  Torgersen            37.8           17.1              186.0   \n",
      "11   Adelie  Torgersen            37.8           17.3              180.0   \n",
      "47   Adelie      Dream            37.5           18.9              179.0   \n",
      "178  Gentoo     Biscoe            44.5           14.3              216.0   \n",
      "218  Gentoo     Biscoe            46.2           14.4              214.0   \n",
      "256  Gentoo     Biscoe            47.3           13.8              216.0   \n",
      "268  Gentoo     Biscoe            44.5           15.7              217.0   \n",
      "\n",
      "     body_mass_g  sex  year  \n",
      "8         3475.0  NaN  2007  \n",
      "9         4250.0  NaN  2007  \n",
      "10        3300.0  NaN  2007  \n",
      "11        3700.0  NaN  2007  \n",
      "47        2975.0  NaN  2007  \n",
      "178       4100.0  NaN  2007  \n",
      "218       4650.0  NaN  2008  \n",
      "256       4725.0  NaN  2009  \n",
      "268       4875.0  NaN  2009  \n",
      "<class 'pandas.core.frame.DataFrame'>\n",
      "Index: 9 entries, 8 to 268\n",
      "Data columns (total 8 columns):\n",
      " #   Column             Non-Null Count  Dtype  \n",
      "---  ------             --------------  -----  \n",
      " 0   species            9 non-null      object \n",
      " 1   island             9 non-null      object \n",
      " 2   bill_length_mm     9 non-null      float64\n",
      " 3   bill_depth_mm      9 non-null      float64\n",
      " 4   flipper_length_mm  9 non-null      float64\n",
      " 5   body_mass_g        9 non-null      float64\n",
      " 6   sex                0 non-null      object \n",
      " 7   year               9 non-null      int64  \n",
      "dtypes: float64(4), int64(1), object(3)\n",
      "memory usage: 648.0+ bytes\n",
      "None\n"
     ]
    }
   ],
   "source": [
    "# Identify rows with missing values\n",
    "rows_with_missing = penguins[penguins.isnull().any(axis=1)]\n",
    "\n",
    "# Print the rows with missing values\n",
    "print(rows_with_missing)\n",
    "print(rows_with_missing.info())"
   ]
  },
  {
   "cell_type": "markdown",
   "id": "13e5442d",
   "metadata": {},
   "source": [
    "It is entirely possible in this case that the missing values are MCAR since sex is likely something that takes time to assess and so having not observed the sex of a penguin likely is unrelated to why the observation is missing.  Here's a quote from a 2012 publication on this topic: 'While some avian taxa have conspicuous sexual variation in plumage, penguins have monomorphic plumage and are difficult to sex\n",
    "by direct observation. Methods of sexing penguins have focused on dissection, cloacal examination, behavior cues, morphometric analysis and, more recently, molecular techniques...' [](http://www.marineornithology.org/PDF/40_2/40_2_89-94.pdf)\n",
    "\n",
    "This would suggest that what we have is observations whose missingness is MCAR.  \n",
    "\n",
    "Now we have to find good ways to impute these values.  Imputation is much like prediction, so we'll treat the full data as train and we'll predict the rows with missingness as the test data.  \n",
    "\n",
    "Unfortunately we do not have true values for the sex of the penguins so we won't be able to assess the accuracy of our predictions.  \n",
    "\n",
    "Because each species is likely different we are going to do our imputation separately for each species.\n",
    "Since only Adelie and Gentoo penguins have missing values, we'll just make two dataframes and we will use the *preguins_dropall* as our starting point since there are no missing values among those data.\n"
   ]
  },
  {
   "cell_type": "code",
   "execution_count": 9,
   "id": "1bb90ba3",
   "metadata": {},
   "outputs": [],
   "source": [
    "adelie=penguins_dropall[penguins_dropall['species']=='Adelie']\n",
    "adelie_with_missing=rows_with_missing[rows_with_missing['species']=='Adelie']\n",
    "#print(adelie.info())\n",
    "gentoo=penguins_dropall[penguins_dropall['species']=='Gentoo']\n",
    "gentoo_with_missing = rows_with_missing[rows_with_missing['species']=='Gentoo']\n",
    "#print(gentoo.info())"
   ]
  },
  {
   "cell_type": "markdown",
   "id": "66ae999b",
   "metadata": {},
   "source": [
    "### Imputing\n",
    "\n",
    "For these two datasets we are going to create two sets of imputation using k-Nearest Neighbors and Logistic Regression.  \n",
    "\n",
    "We'll start with the Adelie penguins."
   ]
  },
  {
   "cell_type": "code",
   "execution_count": 10,
   "id": "50d66cd3",
   "metadata": {},
   "outputs": [],
   "source": [
    "X_train=adelie[['bill_length_mm','bill_depth_mm','flipper_length_mm','body_mass_g']]\n",
    "y_train=adelie['sex']\n",
    "scaler = StandardScaler()\n",
    "X_train_scaled = scaler.fit_transform(X_train)\n",
    "X_test=adelie_with_missing[['bill_length_mm','bill_depth_mm','flipper_length_mm','body_mass_g']]\n",
    "X_test_scaled = scaler.transform(X_test)"
   ]
  },
  {
   "cell_type": "code",
   "execution_count": 11,
   "id": "0dc677b6",
   "metadata": {},
   "outputs": [
    {
     "name": "stdout",
     "output_type": "stream",
     "text": [
      "['female' 'male' 'female' 'female' 'female']\n"
     ]
    }
   ],
   "source": [
    "# initiate and fit the model\n",
    "knn = KNeighborsClassifier(n_neighbors=9)\n",
    "knn.fit(X_train_scaled, y_train)\n",
    "# get the predicted values\n",
    "knn_amelie = knn.predict(X_test_scaled)\n",
    "print(knn_amelie)"
   ]
  },
  {
   "cell_type": "markdown",
   "id": "da906993",
   "metadata": {},
   "source": [
    "So the array above is the predicted values for the 'sex' of the five amelie penguins that were predicted from using k Nearest Neighbors where k=9.  "
   ]
  },
  {
   "cell_type": "code",
   "execution_count": 12,
   "id": "48ea0745",
   "metadata": {},
   "outputs": [
    {
     "name": "stdout",
     "output_type": "stream",
     "text": [
      "<class 'pandas.core.frame.DataFrame'>\n",
      "RangeIndex: 146 entries, 0 to 145\n",
      "Data columns (total 4 columns):\n",
      " #   Column             Non-Null Count  Dtype  \n",
      "---  ------             --------------  -----  \n",
      " 0   bill_length_mm     146 non-null    float64\n",
      " 1   bill_depth_mm      146 non-null    float64\n",
      " 2   flipper_length_mm  146 non-null    float64\n",
      " 3   body_mass_g        146 non-null    float64\n",
      "dtypes: float64(4)\n",
      "memory usage: 4.7 KB\n",
      "None\n",
      "['female' 'male' 'female' 'female' 'female']\n"
     ]
    },
    {
     "name": "stderr",
     "output_type": "stream",
     "text": [
      "/home/tommie-clark/anaconda3/lib/python3.12/site-packages/sklearn/base.py:464: UserWarning: X does not have valid feature names, but LogisticRegression was fitted with feature names\n",
      "  warnings.warn(\n"
     ]
    }
   ],
   "source": [
    "X_train2=pd.DataFrame(X_train_scaled,columns=['bill_length_mm','bill_depth_mm','flipper_length_mm','body_mass_g'])\n",
    "print(X_train2.info())\n",
    "# This is the scikit learn version of the logistic regression\n",
    "model = LogisticRegression()\n",
    "\n",
    "# Train the model\n",
    "model.fit(X_train2, y_train)\n",
    "\n",
    "# Make predictions\n",
    "logit_amelie = model.predict(X_test_scaled)\n",
    "print(logit_amelie)"
   ]
  },
  {
   "cell_type": "markdown",
   "id": "d3b92350",
   "metadata": {},
   "source": [
    "So both of our methods here are in agreement about what the missing values should be.  That is good news.  \n",
    "\n",
    "Now we'll turn our attendtion to the Gentoo penguins."
   ]
  },
  {
   "cell_type": "code",
   "execution_count": 13,
   "id": "2499ce3f",
   "metadata": {},
   "outputs": [],
   "source": [
    "X_train=gentoo[['bill_length_mm','bill_depth_mm','flipper_length_mm','body_mass_g']]\n",
    "y_train=gentoo['sex']\n",
    "scaler = StandardScaler()\n",
    "X_train_scaled = scaler.fit_transform(X_train)\n",
    "X_test=gentoo_with_missing[['bill_length_mm','bill_depth_mm','flipper_length_mm','body_mass_g']]\n",
    "X_test_scaled = scaler.transform(X_test)"
   ]
  },
  {
   "cell_type": "code",
   "execution_count": 14,
   "id": "1b674294",
   "metadata": {},
   "outputs": [
    {
     "name": "stdout",
     "output_type": "stream",
     "text": [
      "['female' 'female' 'female' 'male']\n"
     ]
    }
   ],
   "source": [
    "# initiate and fit the model\n",
    "knn = KNeighborsClassifier(n_neighbors=9)\n",
    "knn.fit(X_train_scaled, y_train)\n",
    "# get the predicted values\n",
    "knn_gentoo = knn.predict(X_test_scaled)\n",
    "print(knn_gentoo)"
   ]
  },
  {
   "cell_type": "code",
   "execution_count": 15,
   "id": "4d9ba761",
   "metadata": {},
   "outputs": [
    {
     "name": "stdout",
     "output_type": "stream",
     "text": [
      "<class 'pandas.core.frame.DataFrame'>\n",
      "RangeIndex: 119 entries, 0 to 118\n",
      "Data columns (total 4 columns):\n",
      " #   Column             Non-Null Count  Dtype  \n",
      "---  ------             --------------  -----  \n",
      " 0   bill_length_mm     119 non-null    float64\n",
      " 1   bill_depth_mm      119 non-null    float64\n",
      " 2   flipper_length_mm  119 non-null    float64\n",
      " 3   body_mass_g        119 non-null    float64\n",
      "dtypes: float64(4)\n",
      "memory usage: 3.8 KB\n",
      "None\n",
      "['female' 'female' 'female' 'female']\n"
     ]
    },
    {
     "name": "stderr",
     "output_type": "stream",
     "text": [
      "/home/tommie-clark/anaconda3/lib/python3.12/site-packages/sklearn/base.py:464: UserWarning: X does not have valid feature names, but LogisticRegression was fitted with feature names\n",
      "  warnings.warn(\n"
     ]
    }
   ],
   "source": [
    "X_train2=pd.DataFrame(X_train_scaled,columns=['bill_length_mm','bill_depth_mm','flipper_length_mm','body_mass_g'])\n",
    "print(X_train2.info())\n",
    "# This is the scikit learn version of the logistic regression\n",
    "model = LogisticRegression()\n",
    "\n",
    "# Train the model\n",
    "model.fit(X_train2, y_train)\n",
    "\n",
    "# Make predictions\n",
    "logit_amelie = model.predict(X_test_scaled)\n",
    "print(logit_amelie)"
   ]
  },
  {
   "cell_type": "markdown",
   "id": "de00f070",
   "metadata": {},
   "source": [
    "Uh-oh.  So now our predicted values are different for the two different methods.  So we have some additional investigation to do.  Let's look at the predicted probabilities from the logistic regression."
   ]
  },
  {
   "cell_type": "code",
   "execution_count": 16,
   "id": "971b4dc3",
   "metadata": {},
   "outputs": [
    {
     "name": "stderr",
     "output_type": "stream",
     "text": [
      "/home/tommie-clark/anaconda3/lib/python3.12/site-packages/sklearn/base.py:464: UserWarning: X does not have valid feature names, but LogisticRegression was fitted with feature names\n",
      "  warnings.warn(\n"
     ]
    },
    {
     "data": {
      "text/plain": [
       "array([[0.99752968, 0.00247032],\n",
       "       [0.96431351, 0.03568649],\n",
       "       [0.96907417, 0.03092583],\n",
       "       [0.52311797, 0.47688203]])"
      ]
     },
     "execution_count": 16,
     "metadata": {},
     "output_type": "execute_result"
    }
   ],
   "source": [
    "# predicted probabilities for \n",
    "model.predict_proba(X_test_scaled)"
   ]
  },
  {
   "cell_type": "markdown",
   "id": "fac208c9",
   "metadata": {},
   "source": [
    "So the output above is the probability that the logistic regression model outputs as predicted probability of being in each class here 'male' and 'female'.  For the last observation there is a bit of a split there on the probability since both values are close to 0.5.  \n",
    "\n",
    "So let's look at the nearest neighbors for some other values for *k*."
   ]
  },
  {
   "cell_type": "code",
   "execution_count": 17,
   "id": "3fe1ce84",
   "metadata": {},
   "outputs": [
    {
     "name": "stdout",
     "output_type": "stream",
     "text": [
      "['female' 'female' 'female' 'male']\n"
     ]
    }
   ],
   "source": [
    "# initiate and fit the model\n",
    "knn = KNeighborsClassifier(n_neighbors=7)\n",
    "knn.fit(X_train_scaled, y_train)\n",
    "# get the predicted values\n",
    "knn_gentoo = knn.predict(X_test_scaled)\n",
    "print(knn_gentoo)"
   ]
  },
  {
   "cell_type": "code",
   "execution_count": 18,
   "id": "0477dfb6",
   "metadata": {},
   "outputs": [
    {
     "name": "stdout",
     "output_type": "stream",
     "text": [
      "['female' 'female' 'female' 'male']\n"
     ]
    }
   ],
   "source": [
    "# initiate and fit the model\n",
    "knn = KNeighborsClassifier(n_neighbors=5)\n",
    "knn.fit(X_train_scaled, y_train)\n",
    "# get the predicted values\n",
    "knn_gentoo = knn.predict(X_test_scaled)\n",
    "print(knn_gentoo)"
   ]
  },
  {
   "cell_type": "code",
   "execution_count": 19,
   "id": "12c6498f",
   "metadata": {},
   "outputs": [
    {
     "name": "stdout",
     "output_type": "stream",
     "text": [
      "['female' 'female' 'female' 'male']\n"
     ]
    }
   ],
   "source": [
    "# initiate and fit the model\n",
    "knn = KNeighborsClassifier(n_neighbors=3)\n",
    "knn.fit(X_train_scaled, y_train)\n",
    "# get the predicted values\n",
    "knn_gentoo = knn.predict(X_test_scaled)\n",
    "print(knn_gentoo)"
   ]
  },
  {
   "cell_type": "markdown",
   "id": "67413317",
   "metadata": {},
   "source": [
    "Nearest neighbors seems to be very consistent and logistic seems a bit torn about the appropriate value.  Seems enough to \n",
    "say lets go with 'female' as the predicted value."
   ]
  },
  {
   "cell_type": "code",
   "execution_count": 20,
   "id": "330f9699",
   "metadata": {},
   "outputs": [
    {
     "name": "stdout",
     "output_type": "stream",
     "text": [
      "   species     island  bill_length_mm  bill_depth_mm  flipper_length_mm  \\\n",
      "8   Adelie  Torgersen            34.1           18.1              193.0   \n",
      "9   Adelie  Torgersen            42.0           20.2              190.0   \n",
      "10  Adelie  Torgersen            37.8           17.1              186.0   \n",
      "11  Adelie  Torgersen            37.8           17.3              180.0   \n",
      "47  Adelie      Dream            37.5           18.9              179.0   \n",
      "\n",
      "    body_mass_g  sex  year  \n",
      "8        3475.0  NaN  2007  \n",
      "9        4250.0  NaN  2007  \n",
      "10       3300.0  NaN  2007  \n",
      "11       3700.0  NaN  2007  \n",
      "47       2975.0  NaN  2007  \n",
      "   species     island  bill_length_mm  bill_depth_mm  flipper_length_mm  \\\n",
      "8   Adelie  Torgersen            34.1           18.1              193.0   \n",
      "9   Adelie  Torgersen            42.0           20.2              190.0   \n",
      "10  Adelie  Torgersen            37.8           17.1              186.0   \n",
      "11  Adelie  Torgersen            37.8           17.3              180.0   \n",
      "47  Adelie      Dream            37.5           18.9              179.0   \n",
      "\n",
      "    body_mass_g     sex  year  \n",
      "8        3475.0  female  2007  \n",
      "9        4250.0    male  2007  \n",
      "10       3300.0  female  2007  \n",
      "11       3700.0  female  2007  \n",
      "47       2975.0  female  2007  \n"
     ]
    },
    {
     "name": "stderr",
     "output_type": "stream",
     "text": [
      "/tmp/ipykernel_8580/2357933609.py:2: SettingWithCopyWarning: \n",
      "A value is trying to be set on a copy of a slice from a DataFrame.\n",
      "Try using .loc[row_indexer,col_indexer] = value instead\n",
      "\n",
      "See the caveats in the documentation: https://pandas.pydata.org/pandas-docs/stable/user_guide/indexing.html#returning-a-view-versus-a-copy\n",
      "  adelie_with_missing['sex']=knn_amelie\n"
     ]
    }
   ],
   "source": [
    "print(adelie_with_missing)\n",
    "adelie_with_missing['sex']=knn_amelie\n",
    "print(adelie_with_missing)"
   ]
  },
  {
   "cell_type": "code",
   "execution_count": 21,
   "id": "733a461f",
   "metadata": {},
   "outputs": [
    {
     "name": "stdout",
     "output_type": "stream",
     "text": [
      "    species  island  bill_length_mm  bill_depth_mm  flipper_length_mm  \\\n",
      "178  Gentoo  Biscoe            44.5           14.3              216.0   \n",
      "218  Gentoo  Biscoe            46.2           14.4              214.0   \n",
      "256  Gentoo  Biscoe            47.3           13.8              216.0   \n",
      "268  Gentoo  Biscoe            44.5           15.7              217.0   \n",
      "\n",
      "     body_mass_g  sex  year  \n",
      "178       4100.0  NaN  2007  \n",
      "218       4650.0  NaN  2008  \n",
      "256       4725.0  NaN  2009  \n",
      "268       4875.0  NaN  2009  \n",
      "    species  island  bill_length_mm  bill_depth_mm  flipper_length_mm  \\\n",
      "178  Gentoo  Biscoe            44.5           14.3              216.0   \n",
      "218  Gentoo  Biscoe            46.2           14.4              214.0   \n",
      "256  Gentoo  Biscoe            47.3           13.8              216.0   \n",
      "268  Gentoo  Biscoe            44.5           15.7              217.0   \n",
      "\n",
      "     body_mass_g     sex  year  \n",
      "178       4100.0  female  2007  \n",
      "218       4650.0  female  2008  \n",
      "256       4725.0  female  2009  \n",
      "268       4875.0    male  2009  \n"
     ]
    },
    {
     "name": "stderr",
     "output_type": "stream",
     "text": [
      "/tmp/ipykernel_8580/1676825842.py:2: SettingWithCopyWarning: \n",
      "A value is trying to be set on a copy of a slice from a DataFrame.\n",
      "Try using .loc[row_indexer,col_indexer] = value instead\n",
      "\n",
      "See the caveats in the documentation: https://pandas.pydata.org/pandas-docs/stable/user_guide/indexing.html#returning-a-view-versus-a-copy\n",
      "  gentoo_with_missing['sex']=knn_gentoo\n"
     ]
    }
   ],
   "source": [
    "print(gentoo_with_missing)\n",
    "gentoo_with_missing['sex']=knn_gentoo\n",
    "print(gentoo_with_missing)"
   ]
  },
  {
   "cell_type": "code",
   "execution_count": 22,
   "id": "de59d423",
   "metadata": {},
   "outputs": [],
   "source": [
    "gentoo_imputed=pd.concat([gentoo,gentoo_with_missing])\n",
    "adelie_imputed=pd.concat([adelie,adelie_with_missing])"
   ]
  },
  {
   "cell_type": "code",
   "execution_count": 23,
   "id": "e7d68650",
   "metadata": {},
   "outputs": [],
   "source": [
    "penguins_imputed=pd.concat([penguins_dropall,gentoo_with_missing,adelie_with_missing])"
   ]
  },
  {
   "cell_type": "markdown",
   "id": "6390b890",
   "metadata": {},
   "source": [
    "So now we have a dataframe that is completely filled and we can use all of the methods that we have considered in this course.  "
   ]
  },
  {
   "cell_type": "markdown",
   "id": "56c8f1eb",
   "metadata": {},
   "source": [
    "### Tasks\n",
    "\n",
    "1. Suppose we wanted to determine which would be the best value for k in the kNN algorithm above.  How might you go about that?\n"
   ]
  },
  {
   "cell_type": "code",
   "execution_count": 24,
   "id": "994b7709",
   "metadata": {},
   "outputs": [
    {
     "data": {
      "image/png": "[encoded data removed]",
      "text/plain": [
       "<Figure size 640x480 with 1 Axes>"
      ]
     },
     "metadata": {},
     "output_type": "display_data"
    },
    {
     "name": "stdout",
     "output_type": "stream",
     "text": [
      "Best K value: 5\n"
     ]
    }
   ],
   "source": [
    "# find best k value for knn_gentoo\n",
    "from sklearn.neighbors import KNeighborsClassifier\n",
    "from sklearn.model_selection import cross_val_score\n",
    "import matplotlib.pyplot as plt\n",
    "\n",
    "# Range of k values to test\n",
    "k_range = range(1, 31)\n",
    "k_scores = []\n",
    "\n",
    "# Loop through k values\n",
    "for k in k_range:\n",
    "    knn = KNeighborsClassifier(n_neighbors=k)\n",
    "    scores = cross_val_score(knn, X_train_scaled, y_train, cv=5, scoring='accuracy')\n",
    "    k_scores.append(scores.mean())\n",
    "\n",
    "# Plot k values vs cross-validated accuracy\n",
    "plt.plot(k_range, k_scores)\n",
    "plt.xlabel('Value of K for KNN')\n",
    "plt.ylabel('Cross-Validated Accuracy')\n",
    "plt.title('Choosing the best K')\n",
    "plt.show()\n",
    "\n",
    "# Best k\n",
    "best_k = k_range[k_scores.index(max(k_scores))]\n",
    "print(f\"Best K value: {best_k}\")\n",
    "\n",
    "\n"
   ]
  },
  {
   "cell_type": "markdown",
   "id": "ef15dbb6",
   "metadata": {},
   "source": [
    "\n",
    "2. Suppose that the missing values was numeric, how would the above strategy change?"
   ]
  }
 ],
 "metadata": {
  "kernelspec": {
   "display_name": "base",
   "language": "python",
   "name": "python3"
  },
  "language_info": {
   "codemirror_mode": {
    "name": "ipython",
    "version": 3
   },
   "file_extension": ".py",
   "mimetype": "text/x-python",
   "name": "python",
   "nbconvert_exporter": "python",
   "pygments_lexer": "ipython3",
   "version": "3.12.2"
  }
 },
 "nbformat": 4,
 "nbformat_minor": 5
}
