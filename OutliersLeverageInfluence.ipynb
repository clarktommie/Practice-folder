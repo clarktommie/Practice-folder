{
 "cells": [
  {
   "cell_type": "code",
   "execution_count": 19,
   "metadata": {},
   "outputs": [],
   "source": [
    "# reading in the libraries and functions that we will need as we do this work.\n",
    "import pandas as pd\n",
    "import numpy as np\n",
    "import matplotlib.pyplot as plt\n",
    "import seaborn as sns\n",
    " \n",
    "import scipy.stats as st\n",
    "import statsmodels.api as sm \n",
    "import pylab as py \n",
    "\n",
    "# here are some of the tools we will use for our analyses\n",
    "from sklearn.linear_model import LinearRegression\n",
    "from sklearn.metrics import PredictionErrorDisplay\n",
    "from sklearn.metrics import root_mean_squared_error\n",
    "from sklearn.metrics import r2_score\n",
    "\n",
    "from statsmodels.stats.outliers_influence import variance_inflation_factor"
   ]
  },
  {
   "cell_type": "markdown",
   "metadata": {},
   "source": [
    "### Outliers, Leverage, Influence\n",
    "\n",
    "In this Jupyter Notebook we will look at outliers, leverage points and influence points.  Leverage\n",
    "is a function of where a value or observation falls relative to the other data.  If it is far from other\n",
    "observations then it potentially has leverage to change our prediction equation.\n",
    "\n",
    "An influential point is one that has both a large leverage and large residual (when that point \n",
    "is removed) so that it seems to be *influencing* the prediction equation.\n",
    "\n",
    "We'll start with the blue jay data below.\n",
    "\n"
   ]
  },
  {
   "cell_type": "code",
   "execution_count": 20,
   "metadata": {},
   "outputs": [
    {
     "data": {
      "text/html": [
       "<div>\n",
       "<style scoped>\n",
       "    .dataframe tbody tr th:only-of-type {\n",
       "        vertical-align: middle;\n",
       "    }\n",
       "\n",
       "    .dataframe tbody tr th {\n",
       "        vertical-align: top;\n",
       "    }\n",
       "\n",
       "    .dataframe thead th {\n",
       "        text-align: right;\n",
       "    }\n",
       "</style>\n",
       "<table border=\"1\" class=\"dataframe\">\n",
       "  <thead>\n",
       "    <tr style=\"text-align: right;\">\n",
       "      <th></th>\n",
       "      <th>Unnamed: 0</th>\n",
       "      <th>BirdID</th>\n",
       "      <th>KnownSex</th>\n",
       "      <th>BillDepth</th>\n",
       "      <th>BillWidth</th>\n",
       "      <th>BillLength</th>\n",
       "      <th>Head</th>\n",
       "      <th>Mass</th>\n",
       "      <th>Skull</th>\n",
       "      <th>Sex</th>\n",
       "    </tr>\n",
       "  </thead>\n",
       "  <tbody>\n",
       "    <tr>\n",
       "      <th>0</th>\n",
       "      <td>1</td>\n",
       "      <td>0000-00000</td>\n",
       "      <td>M</td>\n",
       "      <td>8.26</td>\n",
       "      <td>9.21</td>\n",
       "      <td>25.92</td>\n",
       "      <td>56.58</td>\n",
       "      <td>73.30</td>\n",
       "      <td>30.66</td>\n",
       "      <td>1</td>\n",
       "    </tr>\n",
       "    <tr>\n",
       "      <th>1</th>\n",
       "      <td>2</td>\n",
       "      <td>1142-05901</td>\n",
       "      <td>M</td>\n",
       "      <td>8.54</td>\n",
       "      <td>8.76</td>\n",
       "      <td>24.99</td>\n",
       "      <td>56.36</td>\n",
       "      <td>75.10</td>\n",
       "      <td>31.38</td>\n",
       "      <td>1</td>\n",
       "    </tr>\n",
       "    <tr>\n",
       "      <th>2</th>\n",
       "      <td>3</td>\n",
       "      <td>1142-05905</td>\n",
       "      <td>M</td>\n",
       "      <td>8.39</td>\n",
       "      <td>8.78</td>\n",
       "      <td>26.07</td>\n",
       "      <td>57.32</td>\n",
       "      <td>70.25</td>\n",
       "      <td>31.25</td>\n",
       "      <td>1</td>\n",
       "    </tr>\n",
       "    <tr>\n",
       "      <th>3</th>\n",
       "      <td>4</td>\n",
       "      <td>1142-05907</td>\n",
       "      <td>F</td>\n",
       "      <td>7.78</td>\n",
       "      <td>9.30</td>\n",
       "      <td>23.48</td>\n",
       "      <td>53.77</td>\n",
       "      <td>65.50</td>\n",
       "      <td>30.29</td>\n",
       "      <td>0</td>\n",
       "    </tr>\n",
       "    <tr>\n",
       "      <th>4</th>\n",
       "      <td>5</td>\n",
       "      <td>1142-05909</td>\n",
       "      <td>M</td>\n",
       "      <td>8.71</td>\n",
       "      <td>9.84</td>\n",
       "      <td>25.47</td>\n",
       "      <td>57.32</td>\n",
       "      <td>74.90</td>\n",
       "      <td>31.85</td>\n",
       "      <td>1</td>\n",
       "    </tr>\n",
       "  </tbody>\n",
       "</table>\n",
       "</div>"
      ],
      "text/plain": [
       "   Unnamed: 0      BirdID KnownSex  BillDepth  BillWidth  BillLength   Head  \\\n",
       "0           1  0000-00000        M       8.26       9.21       25.92  56.58   \n",
       "1           2  1142-05901        M       8.54       8.76       24.99  56.36   \n",
       "2           3  1142-05905        M       8.39       8.78       26.07  57.32   \n",
       "3           4  1142-05907        F       7.78       9.30       23.48  53.77   \n",
       "4           5  1142-05909        M       8.71       9.84       25.47  57.32   \n",
       "\n",
       "    Mass  Skull  Sex  \n",
       "0  73.30  30.66    1  \n",
       "1  75.10  31.38    1  \n",
       "2  70.25  31.25    1  \n",
       "3  65.50  30.29    0  \n",
       "4  74.90  31.85    1  "
      ]
     },
     "execution_count": 20,
     "metadata": {},
     "output_type": "execute_result"
    }
   ],
   "source": [
    "# read in the blue jay data\n",
    "bluejay = pd.read_csv(\"https://webpages.charlotte.edu/mschuck1/classes/DTSC2301/Data/BlueJays.csv\", na_values=['NA'])\n",
    "# remove rows with missing data\n",
    "bluejay.dropna(inplace=True)\n",
    "bluejay.head()"
   ]
  },
  {
   "cell_type": "code",
   "execution_count": 21,
   "metadata": {},
   "outputs": [
    {
     "name": "stdout",
     "output_type": "stream",
     "text": [
      "Root Mean Squared Error: 3.479851526257171\n",
      "Coefficients: [ 2.44658643  2.80717324 -1.51437269]\n",
      "Intercept: -50.20011513036522\n"
     ]
    }
   ],
   "source": [
    "\n",
    "# below we build a multiple regression model with three predictors\n",
    "#  Predictors here are Head, BillDepth, and BillLength\n",
    "# Our target variable will be the Mass of the blue jay \n",
    "\n",
    "X = bluejay[['Head', 'BillDepth', 'BillLength']]  \n",
    "y = bluejay['Mass']  \n",
    "\n",
    "\n",
    "# Create a linear regression model\n",
    "blue_model = LinearRegression()\n",
    "\n",
    "# Fit the model on the  data\n",
    "blue_model.fit(X, y)\n",
    "\n",
    "# Make predictions on the  data\n",
    "y_hat = blue_model.predict(X)\n",
    "\n",
    "# Evaluate the model performance\n",
    "rmse = root_mean_squared_error(y, y_hat)\n",
    "print('Root Mean Squared Error:', rmse)\n",
    "\n",
    "# Get the coefficients and intercept\n",
    "print('Coefficients:', blue_model.coef_)\n",
    "print('Intercept:', blue_model.intercept_)"
   ]
  },
  {
   "cell_type": "code",
   "execution_count": 22,
   "metadata": {},
   "outputs": [
    {
     "name": "stdout",
     "output_type": "stream",
     "text": [
      "                            OLS Regression Results                            \n",
      "==============================================================================\n",
      "Dep. Variable:                   Mass   R-squared:                       0.463\n",
      "Model:                            OLS   Adj. R-squared:                  0.449\n",
      "Method:                 Least Squares   F-statistic:                     34.16\n",
      "Date:                Mon, 10 Feb 2025   Prob (F-statistic):           5.35e-16\n",
      "Time:                        10:01:57   Log-Likelihood:                -327.91\n",
      "No. Observations:                 123   AIC:                             663.8\n",
      "Df Residuals:                     119   BIC:                             675.1\n",
      "Df Model:                           3                                         \n",
      "Covariance Type:            nonrobust                                         \n",
      "==============================================================================\n",
      "                 coef    std err          t      P>|t|      [0.025      0.975]\n",
      "------------------------------------------------------------------------------\n",
      "const        -50.2001     12.237     -4.102      0.000     -74.431     -25.969\n",
      "Head           2.4466      0.361      6.775      0.000       1.732       3.162\n",
      "BillDepth      2.8072      1.010      2.779      0.006       0.807       4.807\n",
      "BillLength    -1.5144      0.480     -3.155      0.002      -2.465      -0.564\n",
      "==============================================================================\n",
      "Omnibus:                        2.022   Durbin-Watson:                   2.034\n",
      "Prob(Omnibus):                  0.364   Jarque-Bera (JB):                1.620\n",
      "Skew:                          -0.099   Prob(JB):                        0.445\n",
      "Kurtosis:                       3.526   Cond. No.                     2.36e+03\n",
      "==============================================================================\n",
      "\n",
      "Notes:\n",
      "[1] Standard Errors assume that the covariance matrix of the errors is correctly specified.\n",
      "[2] The condition number is large, 2.36e+03. This might indicate that there are\n",
      "strong multicollinearity or other numerical problems.\n"
     ]
    }
   ],
   "source": [
    "# for this particular model formulation we need to add a \n",
    "# column of 1's to the feature array\n",
    "#add constant to predictor variables\n",
    "x2 = sm.add_constant(X)\n",
    "\n",
    "#fit linear regression model using OLS\n",
    "blue_model2 = sm.OLS(y, x2).fit()\n",
    "\n",
    "#view model summary\n",
    "print(blue_model2.summary())"
   ]
  },
  {
   "cell_type": "code",
   "execution_count": 23,
   "metadata": {},
   "outputs": [
    {
     "name": "stdout",
     "output_type": "stream",
     "text": [
      "      feature       VIF\n",
      "1        Head  3.131312\n",
      "2   BillDepth  1.513932\n",
      "3  BillLength  3.103693\n"
     ]
    }
   ],
   "source": [
    "# VIF dataframe\n",
    "vif_data = pd.DataFrame()\n",
    "vif_data[\"feature\"] = x2.columns\n",
    "\n",
    "# calculating VIF for each feature\n",
    "vif_data[\"VIF\"] = [variance_inflation_factor(x2.values, i)\n",
    "                          for i in range(len(x2.columns))]\n",
    "\n",
    "print(vif_data[1:len(x2.columns)])"
   ]
  },
  {
   "cell_type": "markdown",
   "metadata": {},
   "source": [
    "Multicollinearity does not seem to be a problem here."
   ]
  },
  {
   "cell_type": "code",
   "execution_count": 24,
   "metadata": {},
   "outputs": [
    {
     "name": "stdout",
     "output_type": "stream",
     "text": [
      "[0.01769914 0.01539725 0.01862966 0.02337729 0.02588682 0.06679226\n",
      " 0.0267779  0.1837628  0.04972911 0.02986487 0.02549429 0.01481534\n",
      " 0.03236266 0.04425853 0.03684287 0.03931699 0.01958085 0.07611678\n",
      " 0.01568506 0.01438783 0.03146296 0.01733008 0.04241685 0.01857962\n",
      " 0.01781666 0.01348543 0.05956581 0.02299464 0.02235227 0.02363865\n",
      " 0.06554676 0.05323552 0.01835699 0.01064547 0.01859694 0.01110663\n",
      " 0.02446807 0.01855107 0.03564568 0.01716676 0.03217252 0.0280971\n",
      " 0.03122198 0.02645467 0.02689555 0.01447067 0.03314733 0.03370136\n",
      " 0.01311328 0.04646857 0.00878197 0.01417132 0.01908395 0.02470595\n",
      " 0.03024513 0.03552391 0.02810434 0.02841125 0.05717501 0.01955323\n",
      " 0.04611265 0.04302854 0.04199828 0.03625711 0.02327471 0.0273865\n",
      " 0.0314855  0.03514323 0.04633819 0.0758518  0.00995325 0.02070169\n",
      " 0.01296391 0.06599432 0.03896817 0.01974561 0.01275597 0.00887027\n",
      " 0.03264854 0.02747927 0.02541632 0.09749463 0.0477475  0.02606724\n",
      " 0.04075364 0.0473311  0.03064972 0.03574456 0.04164473 0.05036126\n",
      " 0.02855206 0.04849176 0.05933334 0.03220205 0.02409218 0.02192033\n",
      " 0.03964712 0.02568027 0.03472149 0.04580624 0.02257171 0.07027733\n",
      " 0.00990219 0.01485109 0.01427498 0.02532611 0.06043048 0.0240788\n",
      " 0.05445489 0.01480496 0.0353471  0.02303208 0.02209324 0.04650014\n",
      " 0.01385085 0.02082716 0.01339487 0.03899176 0.03559948 0.01623513\n",
      " 0.01961249 0.03318584 0.03850203]\n"
     ]
    }
   ],
   "source": [
    "# Calculate leverage statistics\n",
    "leverage = blue_model2.get_influence().hat_matrix_diag\n",
    "print(leverage)\n",
    "\n"
   ]
  },
  {
   "cell_type": "markdown",
   "metadata": {},
   "source": [
    "The above are our leverage values.  We're only going to worry if any of them are more\n",
    "than 2*4/123 = 0.0650.  "
   ]
  },
  {
   "cell_type": "code",
   "execution_count": 25,
   "metadata": {},
   "outputs": [
    {
     "name": "stdout",
     "output_type": "stream",
     "text": [
      "[0.0005 0.0005 0.0058 0.0022 0.0006 0.0003 0.0002 0.0037 0.0141 0.0008\n",
      " 0.0035 0.0017 0.0067 0.0037 0.009  0.0052 0.0164 0.0089 0.0063 0.0014\n",
      " 0.0024 0.     0.0002 0.0197 0.     0.0396 0.0021 0.0081 0.0002 0.0023\n",
      " 0.0002 0.0122 0.0107 0.0001 0.0003 0.0024 0.0021 0.0021 0.0002 0.0094\n",
      " 0.0472 0.0023 0.0355 0.0004 0.0333 0.004  0.0134 0.0068 0.0032 0.0001\n",
      " 0.0018 0.0006 0.0006 0.0349 0.0027 0.0178 0.0009 0.0046 0.     0.0012\n",
      " 0.0157 0.0026 0.0036 0.0214 0.0002 0.0039 0.0002 0.0033 0.0065 0.0186\n",
      " 0.0002 0.     0.0006 0.0034 0.     0.0007 0.0012 0.0001 0.0003 0.0007\n",
      " 0.0112 0.0636 0.0106 0.0261 0.0047 0.016  0.01   0.0002 0.0079 0.0354\n",
      " 0.0148 0.0001 0.     0.0053 0.0218 0.0095 0.003  0.033  0.     0.0055\n",
      " 0.0008 0.0001 0.0007 0.0002 0.0072 0.0102 0.02   0.0006 0.0277 0.0015\n",
      " 0.0389 0.001  0.0079 0.0031 0.0005 0.0023 0.0001 0.0151 0.0019 0.0019\n",
      " 0.0072 0.0084 0.    ]\n"
     ]
    }
   ],
   "source": [
    "# Calculate Cook's distance\n",
    "cook_distance = blue_model2.get_influence().cooks_distance[0]\n",
    "print(np.round(cook_distance,4))"
   ]
  },
  {
   "cell_type": "markdown",
   "metadata": {},
   "source": [
    "The above are our cooks distance values.  We will be concerned if any of them are more than\n",
    "$0.5$ and we will be very concerned if any are more than $1.0$."
   ]
  },
  {
   "cell_type": "code",
   "execution_count": 26,
   "metadata": {},
   "outputs": [
    {
     "name": "stdout",
     "output_type": "stream",
     "text": [
      "[ 0.32319593  0.36368998 -1.10256364 -0.6090869  -0.29031269 -0.13854246\n",
      " -0.16956743  0.2550213  -1.03677172 -0.32810974  0.7352493   0.67116018\n",
      "  0.89612244  0.56708681  0.9691975  -0.71029644  1.82747632 -0.65719999\n",
      "  1.25898475 -0.62024445 -0.537634   -0.01354846  0.13072719  2.06731852\n",
      " -0.02083572 -3.5656077  -0.3661184   1.17573425 -0.19572628  0.61318245\n",
      "  0.11826494  0.92988721  1.5210287  -0.18165016 -0.2618337  -0.91563814\n",
      " -0.57182118 -0.66334595  0.13582811  1.47186073 -2.43277129  0.56585729\n",
      " -2.12859975  0.22708923  2.23113522  1.0472518   1.25223627 -0.88101775\n",
      " -0.98096789 -0.08130245 -0.9045722   0.39744982 -0.33705553 -2.3922138\n",
      " -0.58517296 -1.39680758 -0.34739161 -0.79345628 -0.01523526 -0.48903619\n",
      " -1.14200213 -0.4777138  -0.57532504  1.51566315  0.18692733 -0.73942531\n",
      " -0.16860987  0.59790293 -0.73273893 -0.9526672   0.29024592  0.01802785\n",
      "  0.42024652  0.435522   -0.06956934  0.38134001  0.60551288 -0.25349482\n",
      "  0.18723872  0.3237563  -1.31395265 -1.5438072  -0.9193862   1.99866821\n",
      "  0.66224266 -1.13763027 -1.12493593  0.13912192 -0.85200818  1.6466009\n",
      " -1.42319386  0.09769526  0.03149776 -0.79741601  1.90045689  1.30365109\n",
      " -0.53553898  2.27829846  0.05303084  0.67684597  0.380331    0.08086074\n",
      "  0.51685256 -0.20214697  1.41953944  1.25828972 -1.116979    0.30858365\n",
      " -1.39368897 -0.62658285  2.08835437 -0.41457813  1.18807325 -0.50219007\n",
      " -0.39396019  0.6502403  -0.20556216  1.22232534  0.44758664 -0.68401163\n",
      " -1.20362762  0.98733988 -0.02327568]\n"
     ]
    }
   ],
   "source": [
    "# Calculate studentized residuals\n",
    "# recall that standardized residuals are residuals divided by standard deviation of all the residuals.\n",
    "# \n",
    "# studentized residuals are residuals divided by standard deviation of the residuals if \n",
    "# the particular residual is not included.\n",
    "\n",
    "studentized_residuals = blue_model2.get_influence().resid_studentized_external\n",
    "\n",
    "print(studentized_residuals)"
   ]
  },
  {
   "cell_type": "code",
   "execution_count": 27,
   "metadata": {},
   "outputs": [
    {
     "name": "stdout",
     "output_type": "stream",
     "text": [
      "(array([ 7, 17, 69, 81]),)\n",
      "(array([], dtype=int64),)\n"
     ]
    }
   ],
   "source": [
    "\n",
    "# here we will identify any that are of concern\n",
    "\n",
    "\n",
    "# Identify large leverage points\n",
    "leverage_points = np.where(leverage > np.mean(leverage) + 2 * np.std(leverage))\n",
    "print(leverage_points)\n",
    "\n",
    "# Identify influential observations based on Cook's distance\n",
    "influential_observations = np.where(cook_distance > 0.5)\n",
    "print(influential_observations)\n",
    "\n",
    "x=bluejay['Head']\n",
    "y=bluejay['Mass']\n"
   ]
  },
  {
   "cell_type": "markdown",
   "metadata": {},
   "source": [
    "The leverage points are 7, 17, 69 and 81 which correspond to the row numbers for those data.\n",
    "\n",
    "There do not appear to be any influential points.  Let's look at them."
   ]
  },
  {
   "cell_type": "code",
   "execution_count": 28,
   "metadata": {},
   "outputs": [
    {
     "name": "stdout",
     "output_type": "stream",
     "text": [
      "    Unnamed: 0      BirdID KnownSex  BillDepth  BillWidth  BillLength   Head  \\\n",
      "7            8  1142-05914        M       8.72       9.94        30.0  60.67   \n",
      "17          18  1142-05991        M       8.19       9.98        25.4  58.70   \n",
      "69          70   952-00066        F       7.30       9.90        22.4  53.90   \n",
      "81          82   952-00080        M       8.80       9.80        27.3  56.20   \n",
      "\n",
      "    Mass  Skull  Sex  \n",
      "7   78.1  30.67    1  \n",
      "17  75.7  33.30    1  \n",
      "69  65.0  31.50    0  \n",
      "81  65.5  28.90    1  \n"
     ]
    }
   ],
   "source": [
    "print(bluejay.loc[leverage_points])"
   ]
  },
  {
   "cell_type": "markdown",
   "metadata": {},
   "source": [
    "Hard to identify what these are leverage points without some additional information.  Let's look at the mean \n",
    "and standard deviation for the variables that are predictors/features."
   ]
  },
  {
   "cell_type": "code",
   "execution_count": 29,
   "metadata": {},
   "outputs": [
    {
     "name": "stdout",
     "output_type": "stream",
     "text": [
      "Mean of Bill Depth is  8.23\n",
      "Standard deviation of Bill Depth is  0.39\n",
      "Mean of Head is  55.69\n",
      "Standard deviation of Head is  1.56\n",
      "Mean of Bill Length is  24.84\n",
      "Standard deviation of Bill Length is  1.17\n"
     ]
    }
   ],
   "source": [
    "print(\"Mean of Bill Depth is \", np.round(np.mean(bluejay['BillDepth']),2))\n",
    "print(\"Standard deviation of Bill Depth is \", np.round(np.std(bluejay['BillDepth']),2))\n",
    "print(\"Mean of Head is \", np.round(np.mean(bluejay['Head']),2))\n",
    "print(\"Standard deviation of Head is \", np.round(np.std(bluejay['Head']),2))\n",
    "print(\"Mean of Bill Length is \", np.round(np.mean(bluejay['BillLength']),2))\n",
    "print(\"Standard deviation of Bill Length is \", np.round(np.std(bluejay['BillLength']),2))"
   ]
  },
  {
   "cell_type": "markdown",
   "metadata": {},
   "source": [
    "Now we can get a sense of why the four values that were chosen were leverage points.  Below large(small) is measured\n",
    "in number of standard deviations above(below) the mean.\n",
    "\n",
    "For the first one, the head size is very large as is the bill length.\n",
    "\n",
    "For the second one, head size seems to be very large.\n",
    "\n",
    "For the third one, all of the predictors are very small.\n",
    "\n",
    "For the fourth one, bill length seems to be the variable that likely is leading to a large leverage."
   ]
  },
  {
   "cell_type": "code",
   "execution_count": 30,
   "metadata": {},
   "outputs": [
    {
     "name": "stdout",
     "output_type": "stream",
     "text": [
      "<class 'pandas.core.frame.DataFrame'>\n",
      "RangeIndex: 1460 entries, 0 to 1459\n",
      "Data columns (total 81 columns):\n",
      " #   Column         Non-Null Count  Dtype  \n",
      "---  ------         --------------  -----  \n",
      " 0   Id             1460 non-null   int64  \n",
      " 1   MSSubClass     1460 non-null   int64  \n",
      " 2   MSZoning       1460 non-null   object \n",
      " 3   LotFrontage    1201 non-null   float64\n",
      " 4   LotArea        1460 non-null   int64  \n",
      " 5   Street         1460 non-null   object \n",
      " 6   Alley          91 non-null     object \n",
      " 7   LotShape       1460 non-null   object \n",
      " 8   LandContour    1460 non-null   object \n",
      " 9   Utilities      1460 non-null   object \n",
      " 10  LotConfig      1460 non-null   object \n",
      " 11  LandSlope      1460 non-null   object \n",
      " 12  Neighborhood   1460 non-null   object \n",
      " 13  Condition1     1460 non-null   object \n",
      " 14  Condition2     1460 non-null   object \n",
      " 15  BldgType       1460 non-null   object \n",
      " 16  HouseStyle     1460 non-null   object \n",
      " 17  OverallQual    1460 non-null   int64  \n",
      " 18  OverallCond    1460 non-null   int64  \n",
      " 19  YearBuilt      1460 non-null   int64  \n",
      " 20  YearRemodAdd   1460 non-null   int64  \n",
      " 21  RoofStyle      1460 non-null   object \n",
      " 22  RoofMatl       1460 non-null   object \n",
      " 23  Exterior1st    1460 non-null   object \n",
      " 24  Exterior2nd    1460 non-null   object \n",
      " 25  MasVnrType     588 non-null    object \n",
      " 26  MasVnrArea     1452 non-null   float64\n",
      " 27  ExterQual      1460 non-null   object \n",
      " 28  ExterCond      1460 non-null   object \n",
      " 29  Foundation     1460 non-null   object \n",
      " 30  BsmtQual       1423 non-null   object \n",
      " 31  BsmtCond       1423 non-null   object \n",
      " 32  BsmtExposure   1422 non-null   object \n",
      " 33  BsmtFinType1   1423 non-null   object \n",
      " 34  BsmtFinSF1     1460 non-null   int64  \n",
      " 35  BsmtFinType2   1422 non-null   object \n",
      " 36  BsmtFinSF2     1460 non-null   int64  \n",
      " 37  BsmtUnfSF      1460 non-null   int64  \n",
      " 38  TotalBsmtSF    1460 non-null   int64  \n",
      " 39  Heating        1460 non-null   object \n",
      " 40  HeatingQC      1460 non-null   object \n",
      " 41  CentralAir     1460 non-null   object \n",
      " 42  Electrical     1459 non-null   object \n",
      " 43  1stFlrSF       1460 non-null   int64  \n",
      " 44  2ndFlrSF       1460 non-null   int64  \n",
      " 45  LowQualFinSF   1460 non-null   int64  \n",
      " 46  GrLivArea      1460 non-null   int64  \n",
      " 47  BsmtFullBath   1460 non-null   int64  \n",
      " 48  BsmtHalfBath   1460 non-null   int64  \n",
      " 49  FullBath       1460 non-null   int64  \n",
      " 50  HalfBath       1460 non-null   int64  \n",
      " 51  BedroomAbvGr   1460 non-null   int64  \n",
      " 52  KitchenAbvGr   1460 non-null   int64  \n",
      " 53  KitchenQual    1460 non-null   object \n",
      " 54  TotRmsAbvGrd   1460 non-null   int64  \n",
      " 55  Functional     1460 non-null   object \n",
      " 56  Fireplaces     1460 non-null   int64  \n",
      " 57  FireplaceQu    770 non-null    object \n",
      " 58  GarageType     1379 non-null   object \n",
      " 59  GarageYrBlt    1379 non-null   float64\n",
      " 60  GarageFinish   1379 non-null   object \n",
      " 61  GarageCars     1460 non-null   int64  \n",
      " 62  GarageArea     1460 non-null   int64  \n",
      " 63  GarageQual     1379 non-null   object \n",
      " 64  GarageCond     1379 non-null   object \n",
      " 65  PavedDrive     1460 non-null   object \n",
      " 66  WoodDeckSF     1460 non-null   int64  \n",
      " 67  OpenPorchSF    1460 non-null   int64  \n",
      " 68  EnclosedPorch  1460 non-null   int64  \n",
      " 69  3SsnPorch      1460 non-null   int64  \n",
      " 70  ScreenPorch    1460 non-null   int64  \n",
      " 71  PoolArea       1460 non-null   int64  \n",
      " 72  PoolQC         7 non-null      object \n",
      " 73  Fence          281 non-null    object \n",
      " 74  MiscFeature    54 non-null     object \n",
      " 75  MiscVal        1460 non-null   int64  \n",
      " 76  MoSold         1460 non-null   int64  \n",
      " 77  YrSold         1460 non-null   int64  \n",
      " 78  SaleType       1460 non-null   object \n",
      " 79  SaleCondition  1460 non-null   object \n",
      " 80  SalePrice      1460 non-null   int64  \n",
      "dtypes: float64(3), int64(35), object(43)\n",
      "memory usage: 924.0+ KB\n"
     ]
    }
   ],
   "source": [
    "# read in the data to dataframe called ames\n",
    "ames = pd.read_csv(\"https://webpages.charlotte.edu/mschuck1/classes/DTSC2301/Data/Ames_house_prices.csv\", na_values=['?'])\n",
    "# replace the ? in the data with NaN for missing values\n",
    "ames.replace([' ?'],np.nan)\n",
    "# show information about the dataframe\n",
    "ames.info()"
   ]
  },
  {
   "cell_type": "code",
   "execution_count": 31,
   "metadata": {},
   "outputs": [
    {
     "data": {
      "image/png": "[encoded data removed]",
      "text/plain": [
       "<Figure size 640x480 with 1 Axes>"
      ]
     },
     "metadata": {},
     "output_type": "display_data"
    }
   ],
   "source": [
    "\n",
    "model1=LinearRegression()\n",
    "\n",
    "X = ames[['LotArea', 'GrLivArea', 'BsmtFinSF1']]\n",
    "# going to make a transformation of the SalePrice by\n",
    "# taking the natural logarithm of it.\n",
    "y = np.log(ames['SalePrice'])\n",
    "\n",
    "# fit the linear regression to the data.\n",
    "model1.fit(X,y)\n",
    "\n",
    "# make the residual vs fitted plot\n",
    "y_hat = model1.predict(X)\n",
    "# below makes a \n",
    "display = PredictionErrorDisplay(y_true=y, y_pred=y_hat)\n",
    "display.plot()\n",
    "plt.show()\n"
   ]
  },
  {
   "cell_type": "code",
   "execution_count": 32,
   "metadata": {},
   "outputs": [],
   "source": [
    "x2 = sm.add_constant(X)\n",
    "\n",
    "#fit linear regression model using OLS\n",
    "model1 = sm.OLS(y, x2).fit()"
   ]
  },
  {
   "cell_type": "code",
   "execution_count": 33,
   "metadata": {},
   "outputs": [
    {
     "name": "stdout",
     "output_type": "stream",
     "text": [
      "These are the leverage points\n",
      "(array([ 249,  313,  335,  451,  523,  706, 1182, 1298]),)\n",
      "These are the influential points\n",
      "(array([1298]),)\n"
     ]
    }
   ],
   "source": [
    "# Calculate leverage statistics\n",
    "leverage = model1.get_influence().hat_matrix_diag\n",
    "cook_distance = model1.get_influence().cooks_distance[0]\n",
    "studentized_residuals = model1.get_influence().resid_studentized_external\n",
    "\n",
    "\n",
    "\n",
    "# Identify large leverage points\n",
    "leverage_points = np.where(leverage > np.mean(leverage) + 2 * np.std(leverage))\n",
    "print(\"These are the leverage points\")\n",
    "print(leverage_points)\n",
    "\n",
    "# Identify influential observations based on Cook's distance\n",
    "influential_observations = np.where(cook_distance > 0.5)\n",
    "print(\"These are the influential points\")\n",
    "print(influential_observations)\n"
   ]
  },
  {
   "cell_type": "markdown",
   "metadata": {},
   "source": [
    "So here we have some leverage points, eight of them. And one influential point, in row 1298."
   ]
  },
  {
   "cell_type": "code",
   "execution_count": 34,
   "metadata": {},
   "outputs": [
    {
     "name": "stdout",
     "output_type": "stream",
     "text": [
      "        Id  MSSubClass MSZoning  LotFrontage  LotArea Street Alley LotShape  \\\n",
      "1298  1299          60       RL        313.0    63887   Pave   NaN      IR3   \n",
      "\n",
      "     LandContour Utilities  ... PoolArea PoolQC Fence MiscFeature MiscVal  \\\n",
      "1298         Bnk    AllPub  ...      480     Gd   NaN         NaN       0   \n",
      "\n",
      "     MoSold YrSold  SaleType  SaleCondition  SalePrice  \n",
      "1298      1   2008       New        Partial     160000  \n",
      "\n",
      "[1 rows x 81 columns]\n"
     ]
    }
   ],
   "source": [
    "print(ames.loc[influential_observations])\n"
   ]
  },
  {
   "cell_type": "markdown",
   "metadata": {},
   "source": [
    "That SalePrice seems low but it is hard to tell from the output we got.  Let's make it bit more \n",
    "targeted."
   ]
  },
  {
   "cell_type": "code",
   "execution_count": 35,
   "metadata": {},
   "outputs": [
    {
     "name": "stdout",
     "output_type": "stream",
     "text": [
      "      LotArea  GrLivArea  BsmtFinSF1  SalePrice\n",
      "1298    63887       5642        5644     160000\n"
     ]
    }
   ],
   "source": [
    "print(ames[['LotArea', 'GrLivArea', 'BsmtFinSF1','SalePrice']].loc[influential_observations])"
   ]
  },
  {
   "cell_type": "markdown",
   "metadata": {},
   "source": [
    "So the SalePrice seems low for such a large house.  Let's look at the studentized residual for this."
   ]
  },
  {
   "cell_type": "code",
   "execution_count": 36,
   "metadata": {},
   "outputs": [
    {
     "name": "stdout",
     "output_type": "stream",
     "text": [
      "[-13.30462231]\n"
     ]
    }
   ],
   "source": [
    "print(studentized_residuals[influential_observations])"
   ]
  },
  {
   "cell_type": "markdown",
   "metadata": {},
   "source": [
    "That's quite a negative residual and, no doubt, the reason that there are "
   ]
  },
  {
   "cell_type": "markdown",
   "metadata": {},
   "source": [
    "### Tasks"
   ]
  },
  {
   "cell_type": "markdown",
   "metadata": {},
   "source": [
    "1. Fit a multiple regression to the penguins data with body mass as the response and flipper length and \n",
    "bill length as features."
   ]
  },
  {
   "cell_type": "code",
   "execution_count": 43,
   "metadata": {},
   "outputs": [
    {
     "name": "stdout",
     "output_type": "stream",
     "text": [
      "                            OLS Regression Results                            \n",
      "==============================================================================\n",
      "Dep. Variable:            body_mass_g   R-squared:                       0.746\n",
      "Model:                            OLS   Adj. R-squared:                  0.745\n",
      "Method:                 Least Squares   F-statistic:                     485.5\n",
      "Date:                Mon, 10 Feb 2025   Prob (F-statistic):           5.02e-99\n",
      "Time:                        10:06:19   Log-Likelihood:                 312.12\n",
      "No. Observations:                 333   AIC:                            -618.2\n",
      "Df Residuals:                     330   BIC:                            -606.8\n",
      "Df Model:                           2                                         \n",
      "Covariance Type:            nonrobust                                         \n",
      "=====================================================================================\n",
      "                        coef    std err          t      P>|t|      [0.025      0.975]\n",
      "-------------------------------------------------------------------------------------\n",
      "const                 6.0046      0.076     79.370      0.000       5.856       6.153\n",
      "flipper_length_mm     0.0112      0.000     22.807      0.000       0.010       0.012\n",
      "bill_length_mm        0.0015      0.001      1.184      0.237      -0.001       0.004\n",
      "==============================================================================\n",
      "Omnibus:                        1.312   Durbin-Watson:                   2.121\n",
      "Prob(Omnibus):                  0.519   Jarque-Bera (JB):                1.065\n",
      "Skew:                           0.063   Prob(JB):                        0.587\n",
      "Kurtosis:                       3.247   Cond. No.                     2.99e+03\n",
      "==============================================================================\n",
      "\n",
      "Notes:\n",
      "[1] Standard Errors assume that the covariance matrix of the errors is correctly specified.\n",
      "[2] The condition number is large, 2.99e+03. This might indicate that there are\n",
      "strong multicollinearity or other numerical problems.\n"
     ]
    }
   ],
   "source": [
    "penguins = pd.read_csv(\"https://webpages.charlotte.edu/mschuck1/classes/DTSC2301/Data/penguins.csv\") \n",
    "df = penguins\n",
    "df.dropna(inplace=True)  \n",
    "model2=LinearRegression()\n",
    "\n",
    "X = df[['flipper_length_mm', 'bill_length_mm']]\n",
    "# going to make a transformation of the SalePrice by\n",
    "# taking the natural logarithm of it.\n",
    "y = np.log(df['body_mass_g'])\n",
    "\n",
    "# fit the linear regression to the data.\n",
    "model2.fit(X,y)\n",
    "\n",
    "# make the residual vs fitted plot\n",
    "y_hat = model2.predict(X)\n",
    "\n",
    "x3 = sm.add_constant(X)\n",
    "\n",
    "#fit linear regression model using OLS\n",
    "df_model = sm.OLS(y, x3).fit()\n",
    "\n",
    "#view model summary\n",
    "print(df_model.summary())"
   ]
  },
  {
   "cell_type": "markdown",
   "metadata": {},
   "source": [
    "2. Determine if there are any unusual residuals, any leverage points or any influential points in the regression\n",
    "that you made in the previous task."
   ]
  },
  {
   "cell_type": "code",
   "execution_count": null,
   "metadata": {},
   "outputs": [
    {
     "name": "stdout",
     "output_type": "stream",
     "text": [
      "[0.00912267 0.00651869 0.00437767 0.00884023 0.00547995 0.00911598\n",
      " 0.00542949 0.0091803  0.00595569 0.01623855 0.00885258 0.0060481\n",
      " 0.00328508 0.01229322 0.00626008 0.01423444 0.00990208 0.00966589\n",
      " 0.00743407 0.00974758 0.01062267 0.00819957 0.00599489 0.0161604\n",
      " 0.01034477 0.01141562 0.01124616 0.00582921 0.0076831  0.01002471\n",
      " 0.00556614 0.00585722 0.01195709 0.00941494 0.00742005 0.00976124\n",
      " 0.00404006 0.00950468 0.00371232 0.00841366 0.00529573 0.0091803\n",
      " 0.00959273 0.0046522  0.0064966  0.00564196 0.01159422 0.00355298\n",
      " 0.01217765 0.00452669 0.00668182 0.00430232 0.01013157 0.00749174\n",
      " 0.01004566 0.00379028 0.00786064 0.00430076 0.00929408 0.00423792\n",
      " 0.01208658 0.00561088 0.00977707 0.00350051 0.01525506 0.00524136\n",
      " 0.00509868 0.00463906 0.01054957 0.0035678  0.00457989 0.00848783\n",
      " 0.00914203 0.00357327 0.01226563 0.00338653 0.0084424  0.01224746\n",
      " 0.00755525 0.00389507 0.00906077 0.00807004 0.00642595 0.00577474\n",
      " 0.01587626 0.00595185 0.01307551 0.0064966  0.00914203 0.00812577\n",
      " 0.00653292 0.00441585 0.01555253 0.00462695 0.01213811 0.00523118\n",
      " 0.00846887 0.0068752  0.00687492 0.00741721 0.00726462 0.00642586\n",
      " 0.00922971 0.00325265 0.00777208 0.00754661 0.00487534 0.00335167\n",
      " 0.0051292  0.00338141 0.00634718 0.00979506 0.01002722 0.00520313\n",
      " 0.00914203 0.0085219  0.01372031 0.00445194 0.01079135 0.00453076\n",
      " 0.00576229 0.00371495 0.00558295 0.0051     0.00612573 0.00324675\n",
      " 0.00865714 0.00936712 0.00695058 0.00484887 0.01054268 0.00522617\n",
      " 0.00841366 0.00487534 0.00452187 0.00599897 0.01853575 0.00489076\n",
      " 0.00764806 0.00706202 0.00554838 0.00907144 0.01090597 0.00701938\n",
      " 0.00944648 0.00410175 0.00458193 0.01626736 0.00527025 0.0079394\n",
      " 0.00602265 0.00426152 0.0047785  0.00861523 0.00531079 0.00612627\n",
      " 0.0128325  0.00671121 0.00618535 0.00553891 0.00429708 0.00720657\n",
      " 0.00749335 0.00915833 0.00399695 0.00986094 0.00806352 0.00709288\n",
      " 0.00527803 0.00630519 0.00985067 0.00640135 0.00603187 0.00489171\n",
      " 0.00879265 0.01052606 0.00583588 0.00359358 0.02776221 0.00856911\n",
      " 0.00859194 0.00871523 0.01106962 0.00432101 0.00525379 0.00543289\n",
      " 0.01190611 0.00442786 0.00702237 0.01001741 0.01046688 0.00436501\n",
      " 0.01188492 0.00604186 0.00700792 0.00427049 0.00857814 0.00450476\n",
      " 0.01185921 0.00738204 0.0111511  0.00445343 0.0105201  0.00493499\n",
      " 0.0111883  0.00380274 0.01063118 0.00606494 0.01807026 0.00935435\n",
      " 0.01637212 0.01552273 0.013571   0.01065617 0.00647083 0.01043464\n",
      " 0.00929803 0.00738204 0.00682407 0.01729569 0.0043669  0.00945224\n",
      " 0.00700792 0.01385801 0.00579507 0.01118948 0.00493179 0.01114083\n",
      " 0.00550633 0.01420932 0.01172568 0.00899731 0.00495447 0.01601574\n",
      " 0.00757342 0.01451348 0.00516823 0.01116053 0.00699812 0.01264369\n",
      " 0.0069046  0.01084254 0.00572281 0.01202887 0.00799052 0.01863142\n",
      " 0.00604636 0.01476554 0.00612627 0.00796171 0.01205577 0.00484595\n",
      " 0.00473787 0.0077262  0.01536611 0.00744784 0.01592957 0.00756417\n",
      " 0.01834336 0.00983978 0.00560975 0.00612627 0.00997886 0.00532148\n",
      " 0.00664056 0.0082692  0.01267111 0.01928858 0.00947976 0.01983072\n",
      " 0.00381492 0.02221822 0.01539603 0.0057346  0.01455657 0.00775315\n",
      " 0.01953944 0.01570563 0.01423974 0.00872985 0.01042049 0.01264989\n",
      " 0.07315479 0.00959953 0.01149824 0.01126161 0.01324795 0.00733812\n",
      " 0.01707878 0.00668805 0.01752731 0.01102791 0.00883131 0.00882434\n",
      " 0.01388142 0.00603231 0.0212709  0.006744   0.01046184 0.01272371\n",
      " 0.00588423 0.00816681 0.00997098 0.00897062 0.01588028 0.00553953\n",
      " 0.01183382 0.01511254 0.00473168 0.01511254 0.01112112 0.0187644\n",
      " 0.00571619 0.02750205 0.01070336 0.00679224 0.0126172  0.0064294\n",
      " 0.00979385 0.006744   0.01816787 0.00699205 0.00709453 0.00922439\n",
      " 0.00575672 0.01109901 0.01122296 0.00537866 0.02208439 0.00311975\n",
      " 0.01422049 0.00781905 0.01165361]\n"
     ]
    }
   ],
   "source": [
    "# Calculate leverage statistics\n",
    "leverage2 = df_model.get_influence().hat_matrix_diag\n",
    "print()\n",
    "print(leverage2)"
   ]
  }
 ],
 "metadata": {
  "kernelspec": {
   "display_name": "base",
   "language": "python",
   "name": "python3"
  },
  "language_info": {
   "codemirror_mode": {
    "name": "ipython",
    "version": 3
   },
   "file_extension": ".py",
   "mimetype": "text/x-python",
   "name": "python",
   "nbconvert_exporter": "python",
   "pygments_lexer": "ipython3",
   "version": "3.12.2"
  }
 },
 "nbformat": 4,
 "nbformat_minor": 2
}
